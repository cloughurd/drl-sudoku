{
 "cells": [
  {
   "cell_type": "code",
   "execution_count": 1,
   "metadata": {},
   "outputs": [],
   "source": [
    "import torch\n",
    "import torch.nn as nn"
   ]
  },
  {
   "cell_type": "code",
   "execution_count": 8,
   "metadata": {
    "scrolled": true
   },
   "outputs": [
    {
     "name": "stdout",
     "output_type": "stream",
     "text": [
      "torch.Size([1, 9, 9, 1])\n"
     ]
    },
    {
     "data": {
      "text/plain": [
       "tensor([[[[-0.1114],\n",
       "          [-0.1114],\n",
       "          [-0.1114],\n",
       "          [-0.1114],\n",
       "          [-0.1114],\n",
       "          [-0.1114],\n",
       "          [-0.1114],\n",
       "          [-0.1114],\n",
       "          [-0.1114]],\n",
       "\n",
       "         [[-0.2192],\n",
       "          [-0.2192],\n",
       "          [-0.2192],\n",
       "          [-0.2192],\n",
       "          [-0.2192],\n",
       "          [-0.2192],\n",
       "          [-0.2192],\n",
       "          [-0.2192],\n",
       "          [-0.2192]],\n",
       "\n",
       "         [[-0.1376],\n",
       "          [-0.1376],\n",
       "          [-0.1376],\n",
       "          [-0.1376],\n",
       "          [-0.1376],\n",
       "          [-0.1376],\n",
       "          [-0.1376],\n",
       "          [-0.1376],\n",
       "          [-0.1376]],\n",
       "\n",
       "         [[-0.2915],\n",
       "          [-0.2915],\n",
       "          [-0.2915],\n",
       "          [-0.2915],\n",
       "          [-0.2915],\n",
       "          [-0.2915],\n",
       "          [-0.2915],\n",
       "          [-0.2915],\n",
       "          [-0.2915]],\n",
       "\n",
       "         [[ 0.0873],\n",
       "          [ 0.0873],\n",
       "          [ 0.0873],\n",
       "          [ 0.0873],\n",
       "          [ 0.0873],\n",
       "          [ 0.0873],\n",
       "          [ 0.0873],\n",
       "          [ 0.0873],\n",
       "          [ 0.0873]],\n",
       "\n",
       "         [[ 0.2311],\n",
       "          [ 0.2311],\n",
       "          [ 0.2311],\n",
       "          [ 0.2311],\n",
       "          [ 0.2311],\n",
       "          [ 0.2311],\n",
       "          [ 0.2311],\n",
       "          [ 0.2311],\n",
       "          [ 0.2311]],\n",
       "\n",
       "         [[ 0.2615],\n",
       "          [ 0.2615],\n",
       "          [ 0.2615],\n",
       "          [ 0.2615],\n",
       "          [ 0.2615],\n",
       "          [ 0.2615],\n",
       "          [ 0.2615],\n",
       "          [ 0.2615],\n",
       "          [ 0.2615]],\n",
       "\n",
       "         [[ 0.1512],\n",
       "          [ 0.1512],\n",
       "          [ 0.1512],\n",
       "          [ 0.1512],\n",
       "          [ 0.1512],\n",
       "          [ 0.1512],\n",
       "          [ 0.1512],\n",
       "          [ 0.1512],\n",
       "          [ 0.1512]],\n",
       "\n",
       "         [[-0.1809],\n",
       "          [-0.1809],\n",
       "          [-0.1809],\n",
       "          [-0.1809],\n",
       "          [-0.1809],\n",
       "          [-0.1809],\n",
       "          [-0.1809],\n",
       "          [-0.1809],\n",
       "          [-0.1809]]]], grad_fn=<MkldnnConvolutionBackward>)"
      ]
     },
     "execution_count": 8,
     "metadata": {},
     "output_type": "execute_result"
    }
   ],
   "source": [
    "example = torch.zeros((1,1,9,9)) # Batch x Channels x H x W\n",
    "rows = nn.Conv2d(1, 9, kernel_size=(1,9))\n",
    "\n",
    "ex_rows = rows(example)\n",
    "print(ex_rows.shape)\n",
    "ex_rows"
   ]
  },
  {
   "cell_type": "code",
   "execution_count": 21,
   "metadata": {},
   "outputs": [
    {
     "data": {
      "text/plain": [
       "torch.Size([1, 9, 9, 9])"
      ]
     },
     "execution_count": 21,
     "metadata": {},
     "output_type": "execute_result"
    }
   ],
   "source": [
    "r_expand = nn.ConvTranspose2d(9, 9, kernel_size=(1,9))\n",
    "r_expand(ex_rows).shape"
   ]
  },
  {
   "cell_type": "code",
   "execution_count": 22,
   "metadata": {},
   "outputs": [
    {
     "name": "stdout",
     "output_type": "stream",
     "text": [
      "torch.Size([1, 9, 1, 9])\n"
     ]
    }
   ],
   "source": [
    "cols = nn.Conv2d(1, 9, kernel_size=(9,1))\n",
    "\n",
    "ex_cols=cols(example)\n",
    "print(ex_cols.shape)\n",
    "# ex_cols"
   ]
  },
  {
   "cell_type": "code",
   "execution_count": 23,
   "metadata": {},
   "outputs": [
    {
     "data": {
      "text/plain": [
       "torch.Size([1, 9, 9, 9])"
      ]
     },
     "execution_count": 23,
     "metadata": {},
     "output_type": "execute_result"
    }
   ],
   "source": [
    "c_expand = nn.ConvTranspose2d(9, 9, kernel_size=(9,1))\n",
    "c_expand(ex_cols).shape"
   ]
  },
  {
   "cell_type": "code",
   "execution_count": 24,
   "metadata": {},
   "outputs": [
    {
     "data": {
      "text/plain": [
       "torch.Size([1, 9, 3, 3])"
      ]
     },
     "execution_count": 24,
     "metadata": {},
     "output_type": "execute_result"
    }
   ],
   "source": [
    "quads = nn.Conv2d(1, 9, kernel_size=(3, 3), stride=3)\n",
    "ex_quads = quads(example)\n",
    "ex_quads.shape"
   ]
  },
  {
   "cell_type": "code",
   "execution_count": 25,
   "metadata": {},
   "outputs": [
    {
     "data": {
      "text/plain": [
       "torch.Size([1, 9, 9, 9])"
      ]
     },
     "execution_count": 25,
     "metadata": {},
     "output_type": "execute_result"
    }
   ],
   "source": [
    "q_expand = nn.ConvTranspose2d(9, 9, kernel_size=(3,3), stride=3)\n",
    "q_expand(ex_quads).shape"
   ]
  },
  {
   "cell_type": "code",
   "execution_count": null,
   "metadata": {},
   "outputs": [],
   "source": []
  }
 ],
 "metadata": {
  "kernelspec": {
   "display_name": "Python 3",
   "language": "python",
   "name": "python3"
  },
  "language_info": {
   "codemirror_mode": {
    "name": "ipython",
    "version": 3
   },
   "file_extension": ".py",
   "mimetype": "text/x-python",
   "name": "python",
   "nbconvert_exporter": "python",
   "pygments_lexer": "ipython3",
   "version": "3.7.3"
  }
 },
 "nbformat": 4,
 "nbformat_minor": 2
}
