{
 "cells": [
  {
   "cell_type": "code",
   "execution_count": 1,
   "metadata": {},
   "outputs": [],
   "source": [
    "import torch\n",
    "from env import GridEnv"
   ]
  },
  {
   "cell_type": "code",
   "execution_count": 2,
   "metadata": {},
   "outputs": [
    {
     "name": "stdout",
     "output_type": "stream",
     "text": [
      "torch.Size([9, 9])\n",
      "torch.Size([1, 9, 9])\n"
     ]
    }
   ],
   "source": [
    "env = GridEnv()\n",
    "\n",
    "goal = torch.tensor([\n",
    "    [1,2,3,4,5,6,7,8,9],\n",
    "    [2,3,4,5,6,7,8,9,1],\n",
    "    [3,4,5,6,7,8,9,1,2],\n",
    "    [4,5,6,7,8,9,1,2,3],\n",
    "    [5,6,7,8,9,1,2,3,4],\n",
    "    [6,7,8,9,1,2,3,4,5],\n",
    "    [7,8,9,1,2,3,4,5,6],\n",
    "    [8,9,1,2,3,4,5,6,7],\n",
    "    [9,1,2,3,4,5,6,7,8]\n",
    "]) - 1\n",
    "goal = goal\n",
    "print(goal.shape)\n",
    "\n",
    "state = torch.tensor([\n",
    "    [0,2,3,4,5,6,7,8,9],\n",
    "    [2,3,4,5,6,7,8,9,1],\n",
    "    [3,4,5,6,7,8,9,1,2],\n",
    "    [4,5,6,7,8,9,1,2,3],\n",
    "    [5,6,7,8,9,1,2,3,4],\n",
    "    [6,7,8,9,1,2,3,4,5],\n",
    "    [7,8,9,1,2,3,4,5,6],\n",
    "    [8,9,1,2,3,4,5,6,7],\n",
    "    [9,1,2,3,4,5,6,7,8]\n",
    "])\n",
    "state = state.unsqueeze(0)\n",
    "print(state.shape)"
   ]
  },
  {
   "cell_type": "code",
   "execution_count": 3,
   "metadata": {},
   "outputs": [
    {
     "name": "stdout",
     "output_type": "stream",
     "text": [
      "torch.Size([729])\n",
      "torch.Size([729])\n",
      "torch.Size([729])\n"
     ]
    }
   ],
   "source": [
    "actions = []\n",
    "states = []\n",
    "goals = []\n",
    "for i in range(3):\n",
    "    a = torch.zeros(81*9)\n",
    "    a[i] = 1\n",
    "    print(a.shape)\n",
    "    actions.append(a)\n",
    "    states.append(state.clone())\n",
    "    goals.append(goal.clone())"
   ]
  },
  {
   "cell_type": "code",
   "execution_count": 4,
   "metadata": {},
   "outputs": [
    {
     "name": "stdout",
     "output_type": "stream",
     "text": [
      "torch.Size([3, 1, 9, 9]) torch.Size([3, 729]) torch.Size([3, 9, 9])\n"
     ]
    }
   ],
   "source": [
    "states = torch.stack(states, dim=0)\n",
    "actions = torch.stack(actions, dim=0)\n",
    "goals = torch.stack(goals, dim=0)\n",
    "print(states.shape, actions.shape, goals.shape)"
   ]
  },
  {
   "cell_type": "code",
   "execution_count": 5,
   "metadata": {},
   "outputs": [
    {
     "name": "stdout",
     "output_type": "stream",
     "text": [
      "torch.Size([3, 1, 9, 9]) torch.Size([3, 1]) 3\n",
      "tensor([[[[1, 2, 3, 4, 5, 6, 7, 8, 9],\n",
      "          [2, 3, 4, 5, 6, 7, 8, 9, 1],\n",
      "          [3, 4, 5, 6, 7, 8, 9, 1, 2],\n",
      "          [4, 5, 6, 7, 8, 9, 1, 2, 3],\n",
      "          [5, 6, 7, 8, 9, 1, 2, 3, 4],\n",
      "          [6, 7, 8, 9, 1, 2, 3, 4, 5],\n",
      "          [7, 8, 9, 1, 2, 3, 4, 5, 6],\n",
      "          [8, 9, 1, 2, 3, 4, 5, 6, 7],\n",
      "          [9, 1, 2, 3, 4, 5, 6, 7, 8]]],\n",
      "\n",
      "\n",
      "        [[[0, 2, 3, 4, 5, 6, 7, 8, 9],\n",
      "          [2, 3, 4, 5, 6, 7, 8, 9, 1],\n",
      "          [3, 4, 5, 6, 7, 8, 9, 1, 2],\n",
      "          [4, 5, 6, 7, 8, 9, 1, 2, 3],\n",
      "          [5, 6, 7, 8, 9, 1, 2, 3, 4],\n",
      "          [6, 7, 8, 9, 1, 2, 3, 4, 5],\n",
      "          [7, 8, 9, 1, 2, 3, 4, 5, 6],\n",
      "          [8, 9, 1, 2, 3, 4, 5, 6, 7],\n",
      "          [9, 1, 2, 3, 4, 5, 6, 7, 8]]],\n",
      "\n",
      "\n",
      "        [[[0, 2, 3, 4, 5, 6, 7, 8, 9],\n",
      "          [2, 3, 4, 5, 6, 7, 8, 9, 1],\n",
      "          [3, 4, 5, 6, 7, 8, 9, 1, 2],\n",
      "          [4, 5, 6, 7, 8, 9, 1, 2, 3],\n",
      "          [5, 6, 7, 8, 9, 1, 2, 3, 4],\n",
      "          [6, 7, 8, 9, 1, 2, 3, 4, 5],\n",
      "          [7, 8, 9, 1, 2, 3, 4, 5, 6],\n",
      "          [8, 9, 1, 2, 3, 4, 5, 6, 7],\n",
      "          [9, 1, 2, 3, 4, 5, 6, 7, 8]]]]) tensor([[10],\n",
      "        [-2],\n",
      "        [-2]]) [True, False, False]\n"
     ]
    }
   ],
   "source": [
    "new_states, rewards, done = env.act(states, actions, goals)\n",
    "print(new_states.shape, rewards.shape, len(done))\n",
    "print(new_states, rewards, done)"
   ]
  },
  {
   "cell_type": "code",
   "execution_count": null,
   "metadata": {},
   "outputs": [],
   "source": []
  }
 ],
 "metadata": {
  "kernelspec": {
   "display_name": "Python 3",
   "language": "python",
   "name": "python3"
  },
  "language_info": {
   "codemirror_mode": {
    "name": "ipython",
    "version": 3
   },
   "file_extension": ".py",
   "mimetype": "text/x-python",
   "name": "python",
   "nbconvert_exporter": "python",
   "pygments_lexer": "ipython3",
   "version": "3.7.3"
  }
 },
 "nbformat": 4,
 "nbformat_minor": 2
}
