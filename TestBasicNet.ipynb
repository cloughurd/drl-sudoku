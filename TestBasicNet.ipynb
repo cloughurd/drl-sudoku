{
 "cells": [
  {
   "cell_type": "code",
   "execution_count": 1,
   "metadata": {},
   "outputs": [],
   "source": [
    "from data import *\n",
    "from models import *"
   ]
  },
  {
   "cell_type": "code",
   "execution_count": 2,
   "metadata": {},
   "outputs": [],
   "source": [
    "net = BasicNet(in_c=1)\n",
    "loader = get_loader('data/', batch_size=1, mono=True, train=False)"
   ]
  },
  {
   "cell_type": "code",
   "execution_count": 3,
   "metadata": {},
   "outputs": [
    {
     "name": "stdout",
     "output_type": "stream",
     "text": [
      "torch.Size([1, 1, 9, 9]) torch.Size([1, 9, 9])\n"
     ]
    }
   ],
   "source": [
    "x, y = next(iter(loader))\n",
    "print(x.shape, y.shape)"
   ]
  },
  {
   "cell_type": "code",
   "execution_count": 4,
   "metadata": {},
   "outputs": [
    {
     "name": "stdout",
     "output_type": "stream",
     "text": [
      "torch.Size([1, 81, 9])\n"
     ]
    }
   ],
   "source": [
    "y_hat = net(x.float())\n",
    "print(y_hat.shape)"
   ]
  },
  {
   "cell_type": "code",
   "execution_count": 18,
   "metadata": {},
   "outputs": [
    {
     "data": {
      "text/plain": [
       "tensor([[583]])"
      ]
     },
     "execution_count": 18,
     "metadata": {},
     "output_type": "execute_result"
    }
   ],
   "source": [
    "argmax = torch.stack([torch.argmax(item) for item in y_hat]).unsqueeze(1)\n",
    "# argmax = torch.argmax(y_hat[0])\n",
    "argmax"
   ]
  },
  {
   "cell_type": "code",
   "execution_count": 19,
   "metadata": {},
   "outputs": [
    {
     "data": {
      "text/plain": [
       "[tensor(2.1873, grad_fn=<MaxBackward1>)]"
      ]
     },
     "execution_count": 19,
     "metadata": {},
     "output_type": "execute_result"
    }
   ],
   "source": [
    "maxes = [torch.max(item) for item in y_hat]\n",
    "maxes"
   ]
  },
  {
   "cell_type": "code",
   "execution_count": 13,
   "metadata": {},
   "outputs": [
    {
     "name": "stdout",
     "output_type": "stream",
     "text": [
      "tensor([[3],\n",
      "        [1]]) tensor([[4],\n",
      "        [3]])\n"
     ]
    },
    {
     "data": {
      "text/plain": [
       "tensor([[3],\n",
       "        [1]])"
      ]
     },
     "execution_count": 13,
     "metadata": {},
     "output_type": "execute_result"
    }
   ],
   "source": [
    "dims = (argmax // 9) % 9\n",
    "dims"
   ]
  },
  {
   "cell_type": "code",
   "execution_count": 31,
   "metadata": {},
   "outputs": [
    {
     "data": {
      "text/plain": [
       "tensor([ 0.3390, -0.5958, -0.0164, -0.5197,  0.0516,  0.1778, -0.0203, -0.3135,\n",
       "         0.1799], grad_fn=<SelectBackward>)"
      ]
     },
     "execution_count": 31,
     "metadata": {},
     "output_type": "execute_result"
    }
   ],
   "source": [
    "y_hat[0, (583%9)]"
   ]
  },
  {
   "cell_type": "code",
   "execution_count": 30,
   "metadata": {},
   "outputs": [
    {
     "data": {
      "text/plain": [
       "tensor([[5., 8.],\n",
       "        [4., 2.]], dtype=torch.float64)"
      ]
     },
     "execution_count": 30,
     "metadata": {},
     "output_type": "execute_result"
    }
   ],
   "source": [
    "y[:, middle_dim, last_dim]"
   ]
  },
  {
   "cell_type": "code",
   "execution_count": 32,
   "metadata": {},
   "outputs": [],
   "source": [
    "objective = nn.CrossEntropyLoss()"
   ]
  },
  {
   "cell_type": "code",
   "execution_count": 34,
   "metadata": {},
   "outputs": [
    {
     "data": {
      "text/plain": [
       "2.5009632110595703"
      ]
     },
     "execution_count": 34,
     "metadata": {},
     "output_type": "execute_result"
    }
   ],
   "source": [
    "loss = objective(y_hat.transpose(1,2), y.reshape((-1, 81)).long())\n",
    "loss.item()"
   ]
  },
  {
   "cell_type": "code",
   "execution_count": 5,
   "metadata": {},
   "outputs": [
    {
     "name": "stdout",
     "output_type": "stream",
     "text": [
      "|-------|-------|-------|\n",
      "| 1 1 0 | 8 2 8 | 2 4 2 | \n",
      "| 4 2 2 | 7 6 7 | 5 1 0 | \n",
      "| 1 5 4 | 0 6 4 | 2 0 0 | \n",
      "|-------|-------|-------|\n",
      "| 7 2 8 | 3 7 4 | 0 1 5 | \n",
      "| 6 3 3 | 5 3 6 | 0 1 5 | \n",
      "| 0 1 0 | 4 4 8 | 1 4 7 | \n",
      "|-------|-------|-------|\n",
      "| 5 3 4 | 4 5 4 | 5 6 3 | \n",
      "| 5 6 0 | 2 4 0 | 8 1 7 | \n",
      "| 1 2 5 | 5 8 0 | 3 4 8 | \n",
      "|-------|-------|-------|\n"
     ]
    }
   ],
   "source": [
    "print_tensor_puzzle(y_hat[0].reshape(9,9,9))"
   ]
  },
  {
   "cell_type": "code",
   "execution_count": null,
   "metadata": {},
   "outputs": [],
   "source": []
  }
 ],
 "metadata": {
  "kernelspec": {
   "display_name": "Python 3",
   "language": "python",
   "name": "python3"
  },
  "language_info": {
   "codemirror_mode": {
    "name": "ipython",
    "version": 3
   },
   "file_extension": ".py",
   "mimetype": "text/x-python",
   "name": "python",
   "nbconvert_exporter": "python",
   "pygments_lexer": "ipython3",
   "version": "3.7.3"
  }
 },
 "nbformat": 4,
 "nbformat_minor": 2
}
