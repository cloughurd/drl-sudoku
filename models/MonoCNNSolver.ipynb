{
  "nbformat": 4,
  "nbformat_minor": 0,
  "metadata": {
    "kernelspec": {
      "display_name": "Python 3",
      "language": "python",
      "name": "python3"
    },
    "language_info": {
      "codemirror_mode": {
        "name": "ipython",
        "version": 3
      },
      "file_extension": ".py",
      "mimetype": "text/x-python",
      "name": "python",
      "nbconvert_exporter": "python",
      "pygments_lexer": "ipython3",
      "version": "3.7.3"
    },
    "colab": {
      "name": "TestLoader.ipynb",
      "provenance": []
    }
  },
  "cells": [
    {
      "cell_type": "markdown",
      "metadata": {
        "id": "PW6VWCHjm-g6",
        "colab_type": "text"
      },
      "source": [
        "# Environment Setup"
      ]
    },
    {
      "cell_type": "code",
      "metadata": {
        "id": "9tMQ3_yDj_md",
        "colab_type": "code",
        "outputId": "e55a7f84-24f9-48b9-97c7-eb9fe387f6d6",
        "colab": {
          "base_uri": "https://localhost:8080/",
          "height": 107
        }
      },
      "source": [
        "from google.colab import drive\n",
        "drive.mount('/content/gdrive')\n",
        "!cp /content/gdrive/My\\ Drive/data/*.zip .\n",
        "!unzip /content/sudoku.zip\n",
        "!unzip /content/sudoku_test.zip"
      ],
      "execution_count": 1,
      "outputs": [
        {
          "output_type": "stream",
          "text": [
            "Drive already mounted at /content/gdrive; to attempt to forcibly remount, call drive.mount(\"/content/gdrive\", force_remount=True).\n",
            "Archive:  /content/sudoku.zip\n",
            "replace sudoku.csv? [y]es, [n]o, [A]ll, [N]one, [r]ename: n\n",
            "Archive:  /content/sudoku_test.zip\n",
            "replace sudoku.csv? [y]es, [n]o, [A]ll, [N]one, [r]ename: n\n"
          ],
          "name": "stdout"
        }
      ]
    },
    {
      "cell_type": "code",
      "metadata": {
        "id": "5cghus0djA4Q",
        "colab_type": "code",
        "outputId": "e5c8faa7-6a07-4ca2-9c48-475adccab6b4",
        "colab": {
          "base_uri": "https://localhost:8080/",
          "height": 53
        }
      },
      "source": [
        "!git clone https://github.com/cloughurd/drl-sudoku.git\n",
        "!mv drl-sudoku/data/* ."
      ],
      "execution_count": 2,
      "outputs": [
        {
          "output_type": "stream",
          "text": [
            "fatal: destination path 'drl-sudoku' already exists and is not an empty directory.\n",
            "mv: cannot stat 'drl-sudoku/data/*': No such file or directory\n"
          ],
          "name": "stdout"
        }
      ]
    },
    {
      "cell_type": "code",
      "metadata": {
        "id": "IaIypeXinqFn",
        "colab_type": "code",
        "colab": {}
      },
      "source": [
        "import numpy as np\n",
        "import torch\n",
        "import torch.nn as nn\n",
        "import torch.optim as optim\n",
        "from torch.utils.data import Dataset, DataLoader\n",
        "import torch.nn.functional as F\n",
        "import matplotlib.pyplot as plt\n",
        "import librosa\n",
        "import os\n",
        "import gc\n",
        "import wave\n",
        "import struct\n",
        "import math\n",
        "import contextlib\n",
        "from mido import MidiFile\n",
        "from mido.messages.messages import Message\n",
        "import mido\n",
        "from typing import List\n",
        "from tqdm import tqdm\n",
        "import random\n",
        "from torch.utils.data.sampler import SubsetRandomSampler\n",
        "\n",
        "\n",
        "from IPython.core.ultratb import AutoFormattedTB\n",
        "__ITB__ = AutoFormattedTB(mode = 'Verbose',color_scheme='LightBg', tb_offset = 1)"
      ],
      "execution_count": 0,
      "outputs": []
    },
    {
      "cell_type": "markdown",
      "metadata": {
        "id": "WFMABO1nnB7f",
        "colab_type": "text"
      },
      "source": [
        "# Create dataloader"
      ]
    },
    {
      "cell_type": "code",
      "metadata": {
        "id": "TRxSkKKCnBVO",
        "colab_type": "code",
        "colab": {}
      },
      "source": [
        "def normalize_mono_grid(m):\n",
        "  return (m / 9.0) - 0.5"
      ],
      "execution_count": 0,
      "outputs": []
    },
    {
      "cell_type": "code",
      "metadata": {
        "id": "FxiPBreTi7Yj",
        "colab_type": "code",
        "colab": {}
      },
      "source": [
        "from dataloader import *"
      ],
      "execution_count": 0,
      "outputs": []
    },
    {
      "cell_type": "markdown",
      "metadata": {
        "id": "hqQdT8QAnZXa",
        "colab_type": "text"
      },
      "source": [
        "# Define Model"
      ]
    },
    {
      "cell_type": "code",
      "metadata": {
        "id": "R1WF_WlwqVlf",
        "colab_type": "code",
        "colab": {}
      },
      "source": [
        "class Reshape(nn.Module):\n",
        "    def __init__(self, shape):\n",
        "        super(Reshape, self).__init__()\n",
        "        self.shape = shape\n",
        "\n",
        "    def forward(self, x):\n",
        "        return x.view(self.shape)"
      ],
      "execution_count": 0,
      "outputs": []
    },
    {
      "cell_type": "code",
      "metadata": {
        "id": "wJM42t58rc79",
        "colab_type": "code",
        "colab": {}
      },
      "source": [
        "class ToSudokuRange(nn.Module):\n",
        "  def __init__(self):\n",
        "    super(ToSudokuRange, self).__init__()\n",
        "    self.sigmoid = nn.Sigmoid()\n",
        "    self.net = lambda x: (9 * self.sigmoid(x)) + 0.5\n",
        "  \n",
        "  def forward(self, x):\n",
        "    return self.net(x)"
      ],
      "execution_count": 0,
      "outputs": []
    },
    {
      "cell_type": "code",
      "metadata": {
        "id": "2MecL5K3ielK",
        "colab_type": "code",
        "colab": {}
      },
      "source": [
        "class SolverLayer(nn.Module):\n",
        "  def __init__(self, in_filters:int, hidden_filters:int, out_filters:int):\n",
        "    super(SolverLayer, self).__init__()\n",
        "\n",
        "    self.initial_normalization = nn.InstanceNorm2d(in_filters) # Normalize every individual game within its filters. Not positive this is a good idea... maybe use the 3d version?\n",
        "\n",
        "    self.HorizontalDependencies = nn.Sequential(        \n",
        "        nn.Conv2d(in_filters, hidden_filters, kernel_size=(9, 1)), # Output is 1, 9.\n",
        "        nn.LeakyReLU(),\n",
        "        Reshape((-1, hidden_filters, 9)),\n",
        "        # Make into a full board shape that can be recombined... Maybe?\n",
        "        nn.Linear(9, 81), \n",
        "        Reshape((-1, hidden_filters, 9, 9)),\n",
        "        nn.LeakyReLU()\n",
        "    )\n",
        "\n",
        "    self.VerticalDependencies = nn.Sequential(\n",
        "        nn.Conv2d(in_filters, hidden_filters, kernel_size=(1, 9)), # Output is 9, 1.\n",
        "        nn.LeakyReLU(),\n",
        "        Reshape((-1, hidden_filters, 9)),\n",
        "        # Make into a full board shape that can be recombined... Maybe?\n",
        "        nn.Linear(9, 81), \n",
        "        Reshape((-1, hidden_filters, 9, 9)),\n",
        "        nn.LeakyReLU()\n",
        "    )\n",
        "\n",
        "    self.QuadrantDependencies = nn.Sequential(\n",
        "        nn.Conv2d(in_filters, hidden_filters, kernel_size=(3, 3), stride=3),\n",
        "        nn.LeakyReLU(),\n",
        "        Reshape((-1, hidden_filters, 9)),\n",
        "        # Make into a full board shape that can be recombined... Maybe?\n",
        "        nn.Linear(9, 81), \n",
        "        Reshape((-1, hidden_filters, 9, 9)),\n",
        "        nn.LeakyReLU()\n",
        "    )\n",
        "\n",
        "    self.Reduce = nn.Sequential(\n",
        "        nn.Conv2d(hidden_filters * 3, out_filters, kernel_size=(1, 1)), # Look at each cell only, without neighbors; neighbors have already been considered.\n",
        "        nn.LeakyReLU()\n",
        "    )\n",
        "\n",
        "  def forward(self, x):\n",
        "    x = self.initial_normalization(x)\n",
        "    horizontal_result = self.HorizontalDependencies(x)\n",
        "    vertical_result = self.VerticalDependencies(x)\n",
        "    quadrant_result = self.QuadrantDependencies(x)\n",
        "\n",
        "    combined = torch.cat((horizontal_result, vertical_result, quadrant_result), dim=1)\n",
        "    reduced = self.Reduce(combined)\n",
        "    return reduced\n",
        "    \n"
      ],
      "execution_count": 0,
      "outputs": []
    },
    {
      "cell_type": "code",
      "metadata": {
        "id": "UG34hwOxnY74",
        "colab_type": "code",
        "colab": {}
      },
      "source": [
        "class MonoModel(nn.Module):\n",
        "  def __init__(self, solver_depth:int):\n",
        "    super(MonoModel, self).__init__()\n",
        "    self.net = nn.Sequential(\n",
        "        # Give a channel dimension\n",
        "        Reshape((-1, 1, 9, 9)),\n",
        "        SolverLayer(1, 9, 9),\n",
        "        *[ SolverLayer(9, 9, 9) for _ in range(solver_depth - 2)],\n",
        "        SolverLayer(9, 9, 1),\n",
        "        Reshape((-1, 9, 9)),\n",
        "        ToSudokuRange()\n",
        "    )\n",
        "\n",
        "  def forward(self, x):\n",
        "    return self.net(x)"
      ],
      "execution_count": 0,
      "outputs": []
    },
    {
      "cell_type": "code",
      "metadata": {
        "id": "4_A2vsv3q76T",
        "colab_type": "code",
        "colab": {}
      },
      "source": [
        "def puzzle_exactifier(p):\n",
        "  return torch.round(p)\n",
        "\n",
        "def puzzle_masker(attempts, starting_puzzles):\n",
        "  # print(attempts.size(), starting_puzzles.size())\n",
        "  assert attempts.size() == starting_puzzles.size()\n",
        "  num_filled_in_solution = torch.sum(starting_puzzles != 0).item()\n",
        "  attempts = torch.where(starting_puzzles == 0, attempts, starting_puzzles)\n",
        "  return (attempts, starting_puzzles, num_filled_in_solution)\n",
        "\n",
        "def solved_accuracy(attempts, solutions, starting_puzzles):\n",
        "  assert attempts.size() == solutions.size()\n",
        "  masked_puzzle, _, _ = puzzle_masker(attempts, starting_puzzles)\n",
        "  # print(masked_puzzle, solutions, starting_puzzles)\n",
        "  num_puzzles = attempts.size(0)\n",
        "  num_correct = (masked_puzzle.eq(solutions).sum(1).sum(1) == 9).sum().item()\n",
        "  return num_correct / num_puzzles\n",
        "\n",
        "def cell_accuracy(attempts, solutions, starting_puzzles):\n",
        "  assert attempts.size() == solutions.size()\n",
        "  masked_puzzle, _, num_filled = puzzle_masker(attempts, starting_puzzles)\n",
        "  # print(\"\\nAttempts:\\n\", attempts, \"\\nMasked\\n\", masked_puzzle, \"\\nInitial\\n\", starting_puzzles, \"\\nSolution\\n\", solutions)\n",
        "  num_cells = attempts.numel()\n",
        "  num_correct = masked_puzzle.eq(solutions).sum().item()\n",
        "  num_guessed_correctly = num_correct - num_filled\n",
        "  num_to_guess = num_cells - num_filled\n",
        "  # print(f\"--- {num_cells} - {num_correct} - {num_cells} - {num_filled} ---\")\n",
        "  return num_guessed_correctly / num_to_guess\n"
      ],
      "execution_count": 0,
      "outputs": []
    },
    {
      "cell_type": "markdown",
      "metadata": {
        "id": "SiPAmV3Eq5vi",
        "colab_type": "text"
      },
      "source": [
        "# Training Loop"
      ]
    },
    {
      "cell_type": "code",
      "metadata": {
        "id": "bu-uveXztc8I",
        "colab_type": "code",
        "colab": {}
      },
      "source": [
        "def train(model:MonoModel, criterion:torch.nn.modules.loss._Loss, optimizer:torch.optim.Optimizer, train_loader:DataLoader, valid_loader:DataLoader, num_epochs:int, valid_frequency:int=5):\n",
        "  loop = tqdm(total=num_epochs * len(train_loader) + (num_epochs // valid_frequency) * len(valid_loader), position=0)\n",
        "\n",
        "  # The loss of the last training and validation iteration, respectively.  \n",
        "  train_loss = None\n",
        "  valid_loss = None\n",
        "\n",
        "  # The puzzle accuracy of the last training and validation itersions. ( # puzzles right / # puzzles total )\n",
        "  train_accuracy = None\n",
        "  valid_accuracy = None\n",
        "\n",
        "  # The cell accuracy of the last training and validation iterations ( # filled cells right / # num fillable cells )\n",
        "  train_inner_acc = None\n",
        "  valid_inner_acc = None\n",
        "\n",
        "  for e in range(num_epochs):\n",
        "\n",
        "    training_losses = []\n",
        "    training_accuracies = []\n",
        "    training_cell_accuracies = []\n",
        "\n",
        "    loop.set_description(f\"[Training] Epoch: {e}. Loss: {valid_loss}/{train_loss}. Total Accuracy: {train_accuracy}/{valid_accuracy}. Inner Accuracy: {train_inner_acc}/{valid_inner_acc}\")\n",
        "\n",
        "    for puzzle, solution in train_loader:\n",
        "      puzzle, solution = puzzle.float().squeeze(1), solution.float() + 1\n",
        "      initial_puzzle = puzzle.clone()\n",
        "\n",
        "      optimizer.zero_grad()\n",
        "      attempt = model(puzzle)\n",
        "      loss = criterion(attempt, solution)\n",
        "\n",
        "      loss.backward()\n",
        "      optimizer.step()\n",
        "\n",
        "      train_loss = loss.item()\n",
        "      training_losses.append(train_loss)\n",
        "\n",
        "      # Compute accuracies\n",
        "      exactified = puzzle_exactifier(attempt)\n",
        "\n",
        "      solve_accuracy = solved_accuracy(exactified, solution, initial_puzzle)\n",
        "      c_acc = cell_accuracy(exactified, solution, initial_puzzle)\n",
        "\n",
        "      train_accuracy = solve_accuracy\n",
        "      training_accuracies.append(train_accuracy)\n",
        "\n",
        "      train_inner_acc = c_acc\n",
        "      training_cell_accuracies.append(train_inner_acc)\n",
        "\n",
        "      loop.set_description(f\"[Training] Epoch: {e}. Loss: {valid_loss}/{train_loss}. Total Accuracy: {valid_accuracy}/{train_accuracy}. Inner Accuracy: {train_inner_acc}/{valid_inner_acc}\")\n",
        "      loop.update()\n",
        "\n",
        "\n"
      ],
      "execution_count": 0,
      "outputs": []
    },
    {
      "cell_type": "code",
      "metadata": {
        "id": "BRJwXojO6QGp",
        "colab_type": "code",
        "colab": {}
      },
      "source": [
        "model = MonoModel(solver_depth=11)\n",
        "optimizer = optim.Adam(model.parameters())\n",
        "criterion = nn.MSELoss()\n",
        "train_loader = get_loader(root=\"/content/\", batch_size=2, mono=True, train=True)\n",
        "valid_loader = []\n",
        "num_epochs = 5"
      ],
      "execution_count": 0,
      "outputs": []
    },
    {
      "cell_type": "code",
      "metadata": {
        "id": "ftKIcRbg7BsZ",
        "colab_type": "code",
        "colab": {
          "base_uri": "https://localhost:8080/",
          "height": 304
        },
        "outputId": "fb1d3370-e5ca-4749-e28a-9069c53e04ec"
      },
      "source": [
        "train(model, criterion, optimizer, train_loader, valid_loader, num_epochs, 1)"
      ],
      "execution_count": 37,
      "outputs": [
        {
          "output_type": "stream",
          "text": [
            "[Training] Epoch: 0. Loss: None/6.669667720794678. Total Accuracy: None/0.0. Inner Accuracy: 0.1282051282051282/None:   0%|          | 529/22500000 [00:32<372:07:29, 16.80it/s]"
          ],
          "name": "stderr"
        },
        {
          "output_type": "error",
          "ename": "KeyboardInterrupt",
          "evalue": "ignored",
          "traceback": [
            "\u001b[0;31m---------------------------------------------------------------------------\u001b[0m",
            "\u001b[0;31mKeyboardInterrupt\u001b[0m                         Traceback (most recent call last)",
            "\u001b[0;32m<ipython-input-37-9c5276d5eeb4>\u001b[0m in \u001b[0;36m<module>\u001b[0;34m()\u001b[0m\n\u001b[0;32m----> 1\u001b[0;31m \u001b[0mtrain\u001b[0m\u001b[0;34m(\u001b[0m\u001b[0mmodel\u001b[0m\u001b[0;34m,\u001b[0m \u001b[0mcriterion\u001b[0m\u001b[0;34m,\u001b[0m \u001b[0moptimizer\u001b[0m\u001b[0;34m,\u001b[0m \u001b[0mtrain_loader\u001b[0m\u001b[0;34m,\u001b[0m \u001b[0mvalid_loader\u001b[0m\u001b[0;34m,\u001b[0m \u001b[0mnum_epochs\u001b[0m\u001b[0;34m,\u001b[0m \u001b[0;36m1\u001b[0m\u001b[0;34m)\u001b[0m\u001b[0;34m\u001b[0m\u001b[0;34m\u001b[0m\u001b[0m\n\u001b[0m",
            "\u001b[0;32m<ipython-input-34-87f2ec2c7a04>\u001b[0m in \u001b[0;36mtrain\u001b[0;34m(model, criterion, optimizer, train_loader, valid_loader, num_epochs, valid_frequency)\u001b[0m\n\u001b[1;32m     27\u001b[0m \u001b[0;34m\u001b[0m\u001b[0m\n\u001b[1;32m     28\u001b[0m       \u001b[0moptimizer\u001b[0m\u001b[0;34m.\u001b[0m\u001b[0mzero_grad\u001b[0m\u001b[0;34m(\u001b[0m\u001b[0;34m)\u001b[0m\u001b[0;34m\u001b[0m\u001b[0;34m\u001b[0m\u001b[0m\n\u001b[0;32m---> 29\u001b[0;31m       \u001b[0mattempt\u001b[0m \u001b[0;34m=\u001b[0m \u001b[0mmodel\u001b[0m\u001b[0;34m(\u001b[0m\u001b[0mpuzzle\u001b[0m\u001b[0;34m)\u001b[0m\u001b[0;34m\u001b[0m\u001b[0;34m\u001b[0m\u001b[0m\n\u001b[0m\u001b[1;32m     30\u001b[0m       \u001b[0mloss\u001b[0m \u001b[0;34m=\u001b[0m \u001b[0mcriterion\u001b[0m\u001b[0;34m(\u001b[0m\u001b[0mattempt\u001b[0m\u001b[0;34m,\u001b[0m \u001b[0msolution\u001b[0m\u001b[0;34m)\u001b[0m\u001b[0;34m\u001b[0m\u001b[0;34m\u001b[0m\u001b[0m\n\u001b[1;32m     31\u001b[0m \u001b[0;34m\u001b[0m\u001b[0m\n",
            "\u001b[0;32m/usr/local/lib/python3.6/dist-packages/torch/nn/modules/module.py\u001b[0m in \u001b[0;36m__call__\u001b[0;34m(self, *input, **kwargs)\u001b[0m\n\u001b[1;32m    530\u001b[0m             \u001b[0mresult\u001b[0m \u001b[0;34m=\u001b[0m \u001b[0mself\u001b[0m\u001b[0;34m.\u001b[0m\u001b[0m_slow_forward\u001b[0m\u001b[0;34m(\u001b[0m\u001b[0;34m*\u001b[0m\u001b[0minput\u001b[0m\u001b[0;34m,\u001b[0m \u001b[0;34m**\u001b[0m\u001b[0mkwargs\u001b[0m\u001b[0;34m)\u001b[0m\u001b[0;34m\u001b[0m\u001b[0;34m\u001b[0m\u001b[0m\n\u001b[1;32m    531\u001b[0m         \u001b[0;32melse\u001b[0m\u001b[0;34m:\u001b[0m\u001b[0;34m\u001b[0m\u001b[0;34m\u001b[0m\u001b[0m\n\u001b[0;32m--> 532\u001b[0;31m             \u001b[0mresult\u001b[0m \u001b[0;34m=\u001b[0m \u001b[0mself\u001b[0m\u001b[0;34m.\u001b[0m\u001b[0mforward\u001b[0m\u001b[0;34m(\u001b[0m\u001b[0;34m*\u001b[0m\u001b[0minput\u001b[0m\u001b[0;34m,\u001b[0m \u001b[0;34m**\u001b[0m\u001b[0mkwargs\u001b[0m\u001b[0;34m)\u001b[0m\u001b[0;34m\u001b[0m\u001b[0;34m\u001b[0m\u001b[0m\n\u001b[0m\u001b[1;32m    533\u001b[0m         \u001b[0;32mfor\u001b[0m \u001b[0mhook\u001b[0m \u001b[0;32min\u001b[0m \u001b[0mself\u001b[0m\u001b[0;34m.\u001b[0m\u001b[0m_forward_hooks\u001b[0m\u001b[0;34m.\u001b[0m\u001b[0mvalues\u001b[0m\u001b[0;34m(\u001b[0m\u001b[0;34m)\u001b[0m\u001b[0;34m:\u001b[0m\u001b[0;34m\u001b[0m\u001b[0;34m\u001b[0m\u001b[0m\n\u001b[1;32m    534\u001b[0m             \u001b[0mhook_result\u001b[0m \u001b[0;34m=\u001b[0m \u001b[0mhook\u001b[0m\u001b[0;34m(\u001b[0m\u001b[0mself\u001b[0m\u001b[0;34m,\u001b[0m \u001b[0minput\u001b[0m\u001b[0;34m,\u001b[0m \u001b[0mresult\u001b[0m\u001b[0;34m)\u001b[0m\u001b[0;34m\u001b[0m\u001b[0;34m\u001b[0m\u001b[0m\n",
            "\u001b[0;32m<ipython-input-9-97cb9a95a6ac>\u001b[0m in \u001b[0;36mforward\u001b[0;34m(self, x)\u001b[0m\n\u001b[1;32m     13\u001b[0m \u001b[0;34m\u001b[0m\u001b[0m\n\u001b[1;32m     14\u001b[0m   \u001b[0;32mdef\u001b[0m \u001b[0mforward\u001b[0m\u001b[0;34m(\u001b[0m\u001b[0mself\u001b[0m\u001b[0;34m,\u001b[0m \u001b[0mx\u001b[0m\u001b[0;34m)\u001b[0m\u001b[0;34m:\u001b[0m\u001b[0;34m\u001b[0m\u001b[0;34m\u001b[0m\u001b[0m\n\u001b[0;32m---> 15\u001b[0;31m     \u001b[0;32mreturn\u001b[0m \u001b[0mself\u001b[0m\u001b[0;34m.\u001b[0m\u001b[0mnet\u001b[0m\u001b[0;34m(\u001b[0m\u001b[0mx\u001b[0m\u001b[0;34m)\u001b[0m\u001b[0;34m\u001b[0m\u001b[0;34m\u001b[0m\u001b[0m\n\u001b[0m",
            "\u001b[0;32m/usr/local/lib/python3.6/dist-packages/torch/nn/modules/module.py\u001b[0m in \u001b[0;36m__call__\u001b[0;34m(self, *input, **kwargs)\u001b[0m\n\u001b[1;32m    530\u001b[0m             \u001b[0mresult\u001b[0m \u001b[0;34m=\u001b[0m \u001b[0mself\u001b[0m\u001b[0;34m.\u001b[0m\u001b[0m_slow_forward\u001b[0m\u001b[0;34m(\u001b[0m\u001b[0;34m*\u001b[0m\u001b[0minput\u001b[0m\u001b[0;34m,\u001b[0m \u001b[0;34m**\u001b[0m\u001b[0mkwargs\u001b[0m\u001b[0;34m)\u001b[0m\u001b[0;34m\u001b[0m\u001b[0;34m\u001b[0m\u001b[0m\n\u001b[1;32m    531\u001b[0m         \u001b[0;32melse\u001b[0m\u001b[0;34m:\u001b[0m\u001b[0;34m\u001b[0m\u001b[0;34m\u001b[0m\u001b[0m\n\u001b[0;32m--> 532\u001b[0;31m             \u001b[0mresult\u001b[0m \u001b[0;34m=\u001b[0m \u001b[0mself\u001b[0m\u001b[0;34m.\u001b[0m\u001b[0mforward\u001b[0m\u001b[0;34m(\u001b[0m\u001b[0;34m*\u001b[0m\u001b[0minput\u001b[0m\u001b[0;34m,\u001b[0m \u001b[0;34m**\u001b[0m\u001b[0mkwargs\u001b[0m\u001b[0;34m)\u001b[0m\u001b[0;34m\u001b[0m\u001b[0;34m\u001b[0m\u001b[0m\n\u001b[0m\u001b[1;32m    533\u001b[0m         \u001b[0;32mfor\u001b[0m \u001b[0mhook\u001b[0m \u001b[0;32min\u001b[0m \u001b[0mself\u001b[0m\u001b[0;34m.\u001b[0m\u001b[0m_forward_hooks\u001b[0m\u001b[0;34m.\u001b[0m\u001b[0mvalues\u001b[0m\u001b[0;34m(\u001b[0m\u001b[0;34m)\u001b[0m\u001b[0;34m:\u001b[0m\u001b[0;34m\u001b[0m\u001b[0;34m\u001b[0m\u001b[0m\n\u001b[1;32m    534\u001b[0m             \u001b[0mhook_result\u001b[0m \u001b[0;34m=\u001b[0m \u001b[0mhook\u001b[0m\u001b[0;34m(\u001b[0m\u001b[0mself\u001b[0m\u001b[0;34m,\u001b[0m \u001b[0minput\u001b[0m\u001b[0;34m,\u001b[0m \u001b[0mresult\u001b[0m\u001b[0;34m)\u001b[0m\u001b[0;34m\u001b[0m\u001b[0;34m\u001b[0m\u001b[0m\n",
            "\u001b[0;32m/usr/local/lib/python3.6/dist-packages/torch/nn/modules/container.py\u001b[0m in \u001b[0;36mforward\u001b[0;34m(self, input)\u001b[0m\n\u001b[1;32m     98\u001b[0m     \u001b[0;32mdef\u001b[0m \u001b[0mforward\u001b[0m\u001b[0;34m(\u001b[0m\u001b[0mself\u001b[0m\u001b[0;34m,\u001b[0m \u001b[0minput\u001b[0m\u001b[0;34m)\u001b[0m\u001b[0;34m:\u001b[0m\u001b[0;34m\u001b[0m\u001b[0;34m\u001b[0m\u001b[0m\n\u001b[1;32m     99\u001b[0m         \u001b[0;32mfor\u001b[0m \u001b[0mmodule\u001b[0m \u001b[0;32min\u001b[0m \u001b[0mself\u001b[0m\u001b[0;34m:\u001b[0m\u001b[0;34m\u001b[0m\u001b[0;34m\u001b[0m\u001b[0m\n\u001b[0;32m--> 100\u001b[0;31m             \u001b[0minput\u001b[0m \u001b[0;34m=\u001b[0m \u001b[0mmodule\u001b[0m\u001b[0;34m(\u001b[0m\u001b[0minput\u001b[0m\u001b[0;34m)\u001b[0m\u001b[0;34m\u001b[0m\u001b[0;34m\u001b[0m\u001b[0m\n\u001b[0m\u001b[1;32m    101\u001b[0m         \u001b[0;32mreturn\u001b[0m \u001b[0minput\u001b[0m\u001b[0;34m\u001b[0m\u001b[0;34m\u001b[0m\u001b[0m\n\u001b[1;32m    102\u001b[0m \u001b[0;34m\u001b[0m\u001b[0m\n",
            "\u001b[0;32m/usr/local/lib/python3.6/dist-packages/torch/nn/modules/module.py\u001b[0m in \u001b[0;36m__call__\u001b[0;34m(self, *input, **kwargs)\u001b[0m\n\u001b[1;32m    530\u001b[0m             \u001b[0mresult\u001b[0m \u001b[0;34m=\u001b[0m \u001b[0mself\u001b[0m\u001b[0;34m.\u001b[0m\u001b[0m_slow_forward\u001b[0m\u001b[0;34m(\u001b[0m\u001b[0;34m*\u001b[0m\u001b[0minput\u001b[0m\u001b[0;34m,\u001b[0m \u001b[0;34m**\u001b[0m\u001b[0mkwargs\u001b[0m\u001b[0;34m)\u001b[0m\u001b[0;34m\u001b[0m\u001b[0;34m\u001b[0m\u001b[0m\n\u001b[1;32m    531\u001b[0m         \u001b[0;32melse\u001b[0m\u001b[0;34m:\u001b[0m\u001b[0;34m\u001b[0m\u001b[0;34m\u001b[0m\u001b[0m\n\u001b[0;32m--> 532\u001b[0;31m             \u001b[0mresult\u001b[0m \u001b[0;34m=\u001b[0m \u001b[0mself\u001b[0m\u001b[0;34m.\u001b[0m\u001b[0mforward\u001b[0m\u001b[0;34m(\u001b[0m\u001b[0;34m*\u001b[0m\u001b[0minput\u001b[0m\u001b[0;34m,\u001b[0m \u001b[0;34m**\u001b[0m\u001b[0mkwargs\u001b[0m\u001b[0;34m)\u001b[0m\u001b[0;34m\u001b[0m\u001b[0;34m\u001b[0m\u001b[0m\n\u001b[0m\u001b[1;32m    533\u001b[0m         \u001b[0;32mfor\u001b[0m \u001b[0mhook\u001b[0m \u001b[0;32min\u001b[0m \u001b[0mself\u001b[0m\u001b[0;34m.\u001b[0m\u001b[0m_forward_hooks\u001b[0m\u001b[0;34m.\u001b[0m\u001b[0mvalues\u001b[0m\u001b[0;34m(\u001b[0m\u001b[0;34m)\u001b[0m\u001b[0;34m:\u001b[0m\u001b[0;34m\u001b[0m\u001b[0;34m\u001b[0m\u001b[0m\n\u001b[1;32m    534\u001b[0m             \u001b[0mhook_result\u001b[0m \u001b[0;34m=\u001b[0m \u001b[0mhook\u001b[0m\u001b[0;34m(\u001b[0m\u001b[0mself\u001b[0m\u001b[0;34m,\u001b[0m \u001b[0minput\u001b[0m\u001b[0;34m,\u001b[0m \u001b[0mresult\u001b[0m\u001b[0;34m)\u001b[0m\u001b[0;34m\u001b[0m\u001b[0;34m\u001b[0m\u001b[0m\n",
            "\u001b[0;32m<ipython-input-8-5358e78923e7>\u001b[0m in \u001b[0;36mforward\u001b[0;34m(self, x)\u001b[0m\n\u001b[1;32m     44\u001b[0m     \u001b[0mhorizontal_result\u001b[0m \u001b[0;34m=\u001b[0m \u001b[0mself\u001b[0m\u001b[0;34m.\u001b[0m\u001b[0mHorizontalDependencies\u001b[0m\u001b[0;34m(\u001b[0m\u001b[0mx\u001b[0m\u001b[0;34m)\u001b[0m\u001b[0;34m\u001b[0m\u001b[0;34m\u001b[0m\u001b[0m\n\u001b[1;32m     45\u001b[0m     \u001b[0mvertical_result\u001b[0m \u001b[0;34m=\u001b[0m \u001b[0mself\u001b[0m\u001b[0;34m.\u001b[0m\u001b[0mVerticalDependencies\u001b[0m\u001b[0;34m(\u001b[0m\u001b[0mx\u001b[0m\u001b[0;34m)\u001b[0m\u001b[0;34m\u001b[0m\u001b[0;34m\u001b[0m\u001b[0m\n\u001b[0;32m---> 46\u001b[0;31m     \u001b[0mquadrant_result\u001b[0m \u001b[0;34m=\u001b[0m \u001b[0mself\u001b[0m\u001b[0;34m.\u001b[0m\u001b[0mQuadrantDependencies\u001b[0m\u001b[0;34m(\u001b[0m\u001b[0mx\u001b[0m\u001b[0;34m)\u001b[0m\u001b[0;34m\u001b[0m\u001b[0;34m\u001b[0m\u001b[0m\n\u001b[0m\u001b[1;32m     47\u001b[0m \u001b[0;34m\u001b[0m\u001b[0m\n\u001b[1;32m     48\u001b[0m     \u001b[0mcombined\u001b[0m \u001b[0;34m=\u001b[0m \u001b[0mtorch\u001b[0m\u001b[0;34m.\u001b[0m\u001b[0mcat\u001b[0m\u001b[0;34m(\u001b[0m\u001b[0;34m(\u001b[0m\u001b[0mhorizontal_result\u001b[0m\u001b[0;34m,\u001b[0m \u001b[0mvertical_result\u001b[0m\u001b[0;34m,\u001b[0m \u001b[0mquadrant_result\u001b[0m\u001b[0;34m)\u001b[0m\u001b[0;34m,\u001b[0m \u001b[0mdim\u001b[0m\u001b[0;34m=\u001b[0m\u001b[0;36m1\u001b[0m\u001b[0;34m)\u001b[0m\u001b[0;34m\u001b[0m\u001b[0;34m\u001b[0m\u001b[0m\n",
            "\u001b[0;32m/usr/local/lib/python3.6/dist-packages/torch/nn/modules/module.py\u001b[0m in \u001b[0;36m__call__\u001b[0;34m(self, *input, **kwargs)\u001b[0m\n\u001b[1;32m    530\u001b[0m             \u001b[0mresult\u001b[0m \u001b[0;34m=\u001b[0m \u001b[0mself\u001b[0m\u001b[0;34m.\u001b[0m\u001b[0m_slow_forward\u001b[0m\u001b[0;34m(\u001b[0m\u001b[0;34m*\u001b[0m\u001b[0minput\u001b[0m\u001b[0;34m,\u001b[0m \u001b[0;34m**\u001b[0m\u001b[0mkwargs\u001b[0m\u001b[0;34m)\u001b[0m\u001b[0;34m\u001b[0m\u001b[0;34m\u001b[0m\u001b[0m\n\u001b[1;32m    531\u001b[0m         \u001b[0;32melse\u001b[0m\u001b[0;34m:\u001b[0m\u001b[0;34m\u001b[0m\u001b[0;34m\u001b[0m\u001b[0m\n\u001b[0;32m--> 532\u001b[0;31m             \u001b[0mresult\u001b[0m \u001b[0;34m=\u001b[0m \u001b[0mself\u001b[0m\u001b[0;34m.\u001b[0m\u001b[0mforward\u001b[0m\u001b[0;34m(\u001b[0m\u001b[0;34m*\u001b[0m\u001b[0minput\u001b[0m\u001b[0;34m,\u001b[0m \u001b[0;34m**\u001b[0m\u001b[0mkwargs\u001b[0m\u001b[0;34m)\u001b[0m\u001b[0;34m\u001b[0m\u001b[0;34m\u001b[0m\u001b[0m\n\u001b[0m\u001b[1;32m    533\u001b[0m         \u001b[0;32mfor\u001b[0m \u001b[0mhook\u001b[0m \u001b[0;32min\u001b[0m \u001b[0mself\u001b[0m\u001b[0;34m.\u001b[0m\u001b[0m_forward_hooks\u001b[0m\u001b[0;34m.\u001b[0m\u001b[0mvalues\u001b[0m\u001b[0;34m(\u001b[0m\u001b[0;34m)\u001b[0m\u001b[0;34m:\u001b[0m\u001b[0;34m\u001b[0m\u001b[0;34m\u001b[0m\u001b[0m\n\u001b[1;32m    534\u001b[0m             \u001b[0mhook_result\u001b[0m \u001b[0;34m=\u001b[0m \u001b[0mhook\u001b[0m\u001b[0;34m(\u001b[0m\u001b[0mself\u001b[0m\u001b[0;34m,\u001b[0m \u001b[0minput\u001b[0m\u001b[0;34m,\u001b[0m \u001b[0mresult\u001b[0m\u001b[0;34m)\u001b[0m\u001b[0;34m\u001b[0m\u001b[0;34m\u001b[0m\u001b[0m\n",
            "\u001b[0;32m/usr/local/lib/python3.6/dist-packages/torch/nn/modules/container.py\u001b[0m in \u001b[0;36mforward\u001b[0;34m(self, input)\u001b[0m\n\u001b[1;32m     98\u001b[0m     \u001b[0;32mdef\u001b[0m \u001b[0mforward\u001b[0m\u001b[0;34m(\u001b[0m\u001b[0mself\u001b[0m\u001b[0;34m,\u001b[0m \u001b[0minput\u001b[0m\u001b[0;34m)\u001b[0m\u001b[0;34m:\u001b[0m\u001b[0;34m\u001b[0m\u001b[0;34m\u001b[0m\u001b[0m\n\u001b[1;32m     99\u001b[0m         \u001b[0;32mfor\u001b[0m \u001b[0mmodule\u001b[0m \u001b[0;32min\u001b[0m \u001b[0mself\u001b[0m\u001b[0;34m:\u001b[0m\u001b[0;34m\u001b[0m\u001b[0;34m\u001b[0m\u001b[0m\n\u001b[0;32m--> 100\u001b[0;31m             \u001b[0minput\u001b[0m \u001b[0;34m=\u001b[0m \u001b[0mmodule\u001b[0m\u001b[0;34m(\u001b[0m\u001b[0minput\u001b[0m\u001b[0;34m)\u001b[0m\u001b[0;34m\u001b[0m\u001b[0;34m\u001b[0m\u001b[0m\n\u001b[0m\u001b[1;32m    101\u001b[0m         \u001b[0;32mreturn\u001b[0m \u001b[0minput\u001b[0m\u001b[0;34m\u001b[0m\u001b[0;34m\u001b[0m\u001b[0m\n\u001b[1;32m    102\u001b[0m \u001b[0;34m\u001b[0m\u001b[0m\n",
            "\u001b[0;32m/usr/local/lib/python3.6/dist-packages/torch/nn/modules/module.py\u001b[0m in \u001b[0;36m__call__\u001b[0;34m(self, *input, **kwargs)\u001b[0m\n\u001b[1;32m    530\u001b[0m             \u001b[0mresult\u001b[0m \u001b[0;34m=\u001b[0m \u001b[0mself\u001b[0m\u001b[0;34m.\u001b[0m\u001b[0m_slow_forward\u001b[0m\u001b[0;34m(\u001b[0m\u001b[0;34m*\u001b[0m\u001b[0minput\u001b[0m\u001b[0;34m,\u001b[0m \u001b[0;34m**\u001b[0m\u001b[0mkwargs\u001b[0m\u001b[0;34m)\u001b[0m\u001b[0;34m\u001b[0m\u001b[0;34m\u001b[0m\u001b[0m\n\u001b[1;32m    531\u001b[0m         \u001b[0;32melse\u001b[0m\u001b[0;34m:\u001b[0m\u001b[0;34m\u001b[0m\u001b[0;34m\u001b[0m\u001b[0m\n\u001b[0;32m--> 532\u001b[0;31m             \u001b[0mresult\u001b[0m \u001b[0;34m=\u001b[0m \u001b[0mself\u001b[0m\u001b[0;34m.\u001b[0m\u001b[0mforward\u001b[0m\u001b[0;34m(\u001b[0m\u001b[0;34m*\u001b[0m\u001b[0minput\u001b[0m\u001b[0;34m,\u001b[0m \u001b[0;34m**\u001b[0m\u001b[0mkwargs\u001b[0m\u001b[0;34m)\u001b[0m\u001b[0;34m\u001b[0m\u001b[0;34m\u001b[0m\u001b[0m\n\u001b[0m\u001b[1;32m    533\u001b[0m         \u001b[0;32mfor\u001b[0m \u001b[0mhook\u001b[0m \u001b[0;32min\u001b[0m \u001b[0mself\u001b[0m\u001b[0;34m.\u001b[0m\u001b[0m_forward_hooks\u001b[0m\u001b[0;34m.\u001b[0m\u001b[0mvalues\u001b[0m\u001b[0;34m(\u001b[0m\u001b[0;34m)\u001b[0m\u001b[0;34m:\u001b[0m\u001b[0;34m\u001b[0m\u001b[0;34m\u001b[0m\u001b[0m\n\u001b[1;32m    534\u001b[0m             \u001b[0mhook_result\u001b[0m \u001b[0;34m=\u001b[0m \u001b[0mhook\u001b[0m\u001b[0;34m(\u001b[0m\u001b[0mself\u001b[0m\u001b[0;34m,\u001b[0m \u001b[0minput\u001b[0m\u001b[0;34m,\u001b[0m \u001b[0mresult\u001b[0m\u001b[0;34m)\u001b[0m\u001b[0;34m\u001b[0m\u001b[0;34m\u001b[0m\u001b[0m\n",
            "\u001b[0;32m<ipython-input-6-fdf53084c0ab>\u001b[0m in \u001b[0;36mforward\u001b[0;34m(self, x)\u001b[0m\n\u001b[1;32m      5\u001b[0m \u001b[0;34m\u001b[0m\u001b[0m\n\u001b[1;32m      6\u001b[0m     \u001b[0;32mdef\u001b[0m \u001b[0mforward\u001b[0m\u001b[0;34m(\u001b[0m\u001b[0mself\u001b[0m\u001b[0;34m,\u001b[0m \u001b[0mx\u001b[0m\u001b[0;34m)\u001b[0m\u001b[0;34m:\u001b[0m\u001b[0;34m\u001b[0m\u001b[0;34m\u001b[0m\u001b[0m\n\u001b[0;32m----> 7\u001b[0;31m         \u001b[0;32mreturn\u001b[0m \u001b[0mx\u001b[0m\u001b[0;34m.\u001b[0m\u001b[0mview\u001b[0m\u001b[0;34m(\u001b[0m\u001b[0mself\u001b[0m\u001b[0;34m.\u001b[0m\u001b[0mshape\u001b[0m\u001b[0;34m)\u001b[0m\u001b[0;34m\u001b[0m\u001b[0;34m\u001b[0m\u001b[0m\n\u001b[0m",
            "\u001b[0;31mKeyboardInterrupt\u001b[0m: "
          ]
        }
      ]
    },
    {
      "cell_type": "markdown",
      "metadata": {
        "id": "hqpVKzym5yOc",
        "colab_type": "text"
      },
      "source": [
        "# TEST ACCURACY METRIC METHODS"
      ]
    },
    {
      "cell_type": "code",
      "metadata": {
        "id": "Vz9yY8QE2g3_",
        "colab_type": "code",
        "colab": {
          "base_uri": "https://localhost:8080/",
          "height": 215
        },
        "outputId": "a230978e-142e-4626-e4ac-d857a5819503"
      },
      "source": [
        "j = torch.Tensor([[[1,1,1],[2,2,2],[3,3,3]],[[1,1,1],[2,2,2],[3,3,3]],[[1,1,1],[2,2,2],[3,3,3]]])\n",
        "k = torch.Tensor([[[1,1,1],[2,2,2],[3,3,3]],[[1,1,1],[2,2,2],[3,3,3]],[[1,1,1],[2,2,2],[3,3,3]]])\n",
        "l = torch.Tensor([[[2,2,2],[2,2,2],[3,3,3]],[[1,1,1],[2,2,2],[3,3,3]],[[1,1,1],[2,2,2],[3,3,3]]])\n",
        "\n",
        "z = torch.zeros((3,3,3))\n",
        "f = z.clone()\n",
        "f[:,:,0] = k[:,:,0]\n",
        "g = z.clone()\n",
        "g[:,:,0] = l[:,:,0]"
      ],
      "execution_count": 101,
      "outputs": [
        {
          "output_type": "stream",
          "text": [
            "tensor([[[2., 0., 0.],\n",
            "         [2., 0., 0.],\n",
            "         [3., 0., 0.]],\n",
            "\n",
            "        [[1., 0., 0.],\n",
            "         [2., 0., 0.],\n",
            "         [3., 0., 0.]],\n",
            "\n",
            "        [[1., 0., 0.],\n",
            "         [2., 0., 0.],\n",
            "         [3., 0., 0.]]])\n"
          ],
          "name": "stdout"
        }
      ]
    },
    {
      "cell_type": "code",
      "metadata": {
        "id": "S0Wod8aR2sI2",
        "colab_type": "code",
        "colab": {
          "base_uri": "https://localhost:8080/",
          "height": 827
        },
        "outputId": "658cc3cc-177b-4c3d-9a00-35e5083915b5"
      },
      "source": [
        "print(l)\n",
        "print(cell_accuracy(j, l, g))"
      ],
      "execution_count": 104,
      "outputs": [
        {
          "output_type": "stream",
          "text": [
            "tensor([[[2., 2., 2.],\n",
            "         [2., 2., 2.],\n",
            "         [3., 3., 3.]],\n",
            "\n",
            "        [[1., 1., 1.],\n",
            "         [2., 2., 2.],\n",
            "         [3., 3., 3.]],\n",
            "\n",
            "        [[1., 1., 1.],\n",
            "         [2., 2., 2.],\n",
            "         [3., 3., 3.]]])\n",
            "tensor([[[2., 1., 1.],\n",
            "         [2., 2., 2.],\n",
            "         [3., 3., 3.]],\n",
            "\n",
            "        [[1., 1., 1.],\n",
            "         [2., 2., 2.],\n",
            "         [3., 3., 3.]],\n",
            "\n",
            "        [[1., 1., 1.],\n",
            "         [2., 2., 2.],\n",
            "         [3., 3., 3.]]]) tensor([[[2., 2., 2.],\n",
            "         [2., 2., 2.],\n",
            "         [3., 3., 3.]],\n",
            "\n",
            "        [[1., 1., 1.],\n",
            "         [2., 2., 2.],\n",
            "         [3., 3., 3.]],\n",
            "\n",
            "        [[1., 1., 1.],\n",
            "         [2., 2., 2.],\n",
            "         [3., 3., 3.]]]) tensor([[[2., 0., 0.],\n",
            "         [2., 0., 0.],\n",
            "         [3., 0., 0.]],\n",
            "\n",
            "        [[1., 0., 0.],\n",
            "         [2., 0., 0.],\n",
            "         [3., 0., 0.]],\n",
            "\n",
            "        [[1., 0., 0.],\n",
            "         [2., 0., 0.],\n",
            "         [3., 0., 0.]]])\n",
            "Correct: <class 'int'>\n",
            "Num cells: <class 'int'>\n",
            "0.5925925925925926\n"
          ],
          "name": "stdout"
        }
      ]
    },
    {
      "cell_type": "code",
      "metadata": {
        "id": "BrCGrqTe2uFU",
        "colab_type": "code",
        "colab": {
          "base_uri": "https://localhost:8080/",
          "height": 215
        },
        "outputId": "ac31681a-553f-4836-fb23-cd64e6c1c527"
      },
      "source": [
        "f"
      ],
      "execution_count": 68,
      "outputs": [
        {
          "output_type": "execute_result",
          "data": {
            "text/plain": [
              "tensor([[[1., 0., 0.],\n",
              "         [1., 0., 0.],\n",
              "         [1., 0., 0.]],\n",
              "\n",
              "        [[1., 0., 0.],\n",
              "         [1., 0., 0.],\n",
              "         [1., 0., 0.]],\n",
              "\n",
              "        [[1., 0., 0.],\n",
              "         [1., 0., 0.],\n",
              "         [1., 0., 0.]]])"
            ]
          },
          "metadata": {
            "tags": []
          },
          "execution_count": 68
        }
      ]
    },
    {
      "cell_type": "code",
      "metadata": {
        "id": "_vZp3qRk3SwE",
        "colab_type": "code",
        "colab": {
          "base_uri": "https://localhost:8080/",
          "height": 35
        },
        "outputId": "30fb5c83-f9e4-4f94-fc0f-b61d663940e3"
      },
      "source": [
        "x.size()"
      ],
      "execution_count": 123,
      "outputs": [
        {
          "output_type": "execute_result",
          "data": {
            "text/plain": [
              "torch.Size([1, 1, 9, 9])"
            ]
          },
          "metadata": {
            "tags": []
          },
          "execution_count": 123
        }
      ]
    },
    {
      "cell_type": "code",
      "metadata": {
        "id": "SmDqcqER7l7c",
        "colab_type": "code",
        "colab": {
          "base_uri": "https://localhost:8080/",
          "height": 1000
        },
        "outputId": "99471298-6f56-4236-cbe6-dbc37cb03ef1"
      },
      "source": [
        "for i, (p, s) in enumerate(train_loader):\n",
        "  print(f\"{i}: \\n{p}\\n{s}\")\n",
        "  if i > 4:\n",
        "    break"
      ],
      "execution_count": 28,
      "outputs": [
        {
          "output_type": "stream",
          "text": [
            "0: \n",
            "tensor([[[[0., 2., 0., 5., 3., 0., 0., 1., 7.],\n",
            "          [0., 4., 6., 0., 0., 0., 3., 0., 5.],\n",
            "          [0., 5., 0., 1., 8., 6., 2., 4., 0.],\n",
            "          [2., 3., 4., 8., 0., 7., 9., 5., 0.],\n",
            "          [5., 0., 0., 0., 0., 0., 7., 2., 8.],\n",
            "          [7., 9., 8., 0., 0., 0., 4., 6., 3.],\n",
            "          [0., 0., 0., 0., 5., 0., 1., 0., 0.],\n",
            "          [0., 8., 3., 0., 0., 0., 5., 0., 0.],\n",
            "          [0., 0., 0., 7., 0., 0., 0., 3., 4.]]],\n",
            "\n",
            "\n",
            "        [[[9., 6., 0., 0., 0., 0., 2., 3., 0.],\n",
            "          [2., 8., 7., 4., 1., 3., 9., 6., 0.],\n",
            "          [3., 0., 1., 0., 9., 2., 8., 0., 7.],\n",
            "          [6., 0., 9., 0., 7., 1., 3., 8., 0.],\n",
            "          [4., 0., 5., 0., 2., 8., 7., 9., 6.],\n",
            "          [0., 7., 3., 9., 0., 0., 0., 0., 2.],\n",
            "          [0., 0., 0., 8., 0., 6., 1., 0., 9.],\n",
            "          [0., 0., 8., 0., 5., 0., 6., 0., 0.],\n",
            "          [0., 9., 0., 1., 0., 7., 0., 2., 0.]]]], dtype=torch.float64)\n",
            "tensor([[[7., 1., 8., 4., 2., 3., 5., 0., 6.],\n",
            "         [0., 3., 5., 8., 6., 1., 2., 7., 4.],\n",
            "         [2., 4., 6., 0., 7., 5., 1., 3., 8.],\n",
            "         [1., 2., 3., 7., 5., 6., 8., 4., 0.],\n",
            "         [4., 5., 0., 3., 8., 2., 6., 1., 7.],\n",
            "         [6., 8., 7., 1., 0., 4., 3., 5., 2.],\n",
            "         [3., 6., 1., 2., 4., 7., 0., 8., 5.],\n",
            "         [8., 7., 2., 5., 3., 0., 4., 6., 1.],\n",
            "         [5., 0., 4., 6., 1., 8., 7., 2., 3.]],\n",
            "\n",
            "        [[8., 5., 3., 6., 7., 4., 1., 2., 0.],\n",
            "         [1., 7., 6., 3., 0., 2., 8., 5., 4.],\n",
            "         [2., 4., 0., 5., 8., 1., 7., 3., 6.],\n",
            "         [5., 1., 8., 4., 6., 0., 2., 7., 3.],\n",
            "         [3., 0., 4., 2., 1., 7., 6., 8., 5.],\n",
            "         [7., 6., 2., 8., 5., 3., 4., 0., 1.],\n",
            "         [6., 2., 1., 7., 3., 5., 0., 4., 8.],\n",
            "         [0., 3., 7., 1., 4., 8., 5., 6., 2.],\n",
            "         [4., 8., 5., 0., 2., 6., 3., 1., 7.]]], dtype=torch.float64)\n",
            "1: \n",
            "tensor([[[[0., 1., 5., 7., 0., 0., 0., 0., 8.],\n",
            "          [0., 9., 3., 5., 1., 0., 0., 7., 6.],\n",
            "          [0., 0., 7., 6., 3., 9., 0., 0., 0.],\n",
            "          [1., 7., 2., 0., 0., 0., 6., 8., 3.],\n",
            "          [5., 8., 6., 0., 0., 3., 1., 0., 9.],\n",
            "          [9., 0., 4., 1., 8., 6., 7., 0., 5.],\n",
            "          [7., 6., 0., 9., 0., 0., 0., 1., 4.],\n",
            "          [2., 0., 9., 3., 4., 0., 0., 0., 0.],\n",
            "          [3., 4., 0., 8., 0., 0., 0., 0., 0.]]],\n",
            "\n",
            "\n",
            "        [[[6., 0., 0., 1., 0., 0., 0., 0., 0.],\n",
            "          [0., 0., 4., 5., 0., 0., 1., 0., 8.],\n",
            "          [1., 8., 0., 0., 9., 0., 3., 2., 0.],\n",
            "          [0., 0., 0., 0., 0., 4., 5., 1., 7.],\n",
            "          [7., 6., 8., 0., 0., 5., 9., 0., 2.],\n",
            "          [4., 0., 0., 9., 2., 0., 0., 3., 6.],\n",
            "          [0., 7., 0., 2., 4., 0., 6., 0., 0.],\n",
            "          [0., 4., 6., 7., 0., 0., 0., 0., 3.],\n",
            "          [5., 1., 2., 6., 8., 0., 0., 0., 9.]]]], dtype=torch.float64)\n",
            "tensor([[[5., 0., 4., 6., 1., 3., 8., 2., 7.],\n",
            "         [3., 8., 2., 4., 0., 7., 1., 6., 5.],\n",
            "         [7., 1., 6., 5., 2., 8., 3., 4., 0.],\n",
            "         [0., 6., 1., 3., 8., 4., 5., 7., 2.],\n",
            "         [4., 7., 5., 1., 6., 2., 0., 3., 8.],\n",
            "         [8., 2., 3., 0., 7., 5., 6., 1., 4.],\n",
            "         [6., 5., 7., 8., 4., 1., 2., 0., 3.],\n",
            "         [1., 4., 8., 2., 3., 0., 7., 5., 6.],\n",
            "         [2., 3., 0., 7., 5., 6., 4., 8., 1.]],\n",
            "\n",
            "        [[5., 1., 4., 0., 2., 7., 6., 8., 3.],\n",
            "         [2., 8., 3., 4., 6., 1., 0., 5., 7.],\n",
            "         [0., 7., 6., 3., 8., 5., 2., 1., 4.],\n",
            "         [1., 2., 8., 7., 5., 3., 4., 0., 6.],\n",
            "         [6., 5., 7., 2., 0., 4., 8., 3., 1.],\n",
            "         [3., 4., 0., 8., 1., 6., 7., 2., 5.],\n",
            "         [7., 6., 2., 1., 3., 8., 5., 4., 0.],\n",
            "         [8., 3., 5., 6., 4., 0., 1., 7., 2.],\n",
            "         [4., 0., 1., 5., 7., 2., 3., 6., 8.]]], dtype=torch.float64)\n",
            "2: \n",
            "tensor([[[[0., 0., 3., 6., 0., 5., 7., 0., 1.],\n",
            "          [1., 7., 8., 3., 2., 0., 0., 0., 0.],\n",
            "          [6., 5., 4., 0., 7., 9., 0., 0., 3.],\n",
            "          [5., 0., 0., 0., 0., 8., 1., 0., 9.],\n",
            "          [0., 4., 9., 0., 0., 0., 8., 6., 0.],\n",
            "          [0., 0., 0., 0., 0., 6., 0., 7., 4.],\n",
            "          [9., 6., 5., 8., 3., 1., 0., 2., 7.],\n",
            "          [4., 8., 0., 0., 6., 7., 3., 1., 5.],\n",
            "          [0., 1., 7., 0., 0., 0., 6., 9., 0.]]],\n",
            "\n",
            "\n",
            "        [[[0., 0., 0., 0., 0., 0., 4., 0., 1.],\n",
            "          [0., 0., 0., 0., 5., 0., 2., 0., 3.],\n",
            "          [0., 3., 0., 1., 0., 4., 0., 7., 8.],\n",
            "          [0., 0., 1., 4., 7., 9., 0., 8., 0.],\n",
            "          [8., 0., 0., 2., 0., 6., 0., 0., 0.],\n",
            "          [0., 0., 0., 0., 0., 0., 0., 0., 0.],\n",
            "          [0., 0., 6., 7., 0., 0., 0., 0., 2.],\n",
            "          [7., 0., 0., 3., 9., 8., 0., 0., 0.],\n",
            "          [0., 8., 4., 0., 0., 1., 0., 5., 7.]]]], dtype=torch.float64)\n",
            "tensor([[[1., 8., 2., 5., 7., 4., 6., 3., 0.],\n",
            "         [0., 6., 7., 2., 1., 3., 8., 4., 5.],\n",
            "         [5., 4., 3., 0., 6., 8., 1., 7., 2.],\n",
            "         [4., 1., 5., 6., 3., 7., 0., 2., 8.],\n",
            "         [6., 3., 8., 4., 0., 2., 7., 5., 1.],\n",
            "         [7., 2., 0., 1., 8., 5., 4., 6., 3.],\n",
            "         [8., 5., 4., 7., 2., 0., 3., 1., 6.],\n",
            "         [3., 7., 1., 8., 5., 6., 2., 0., 4.],\n",
            "         [2., 0., 6., 3., 4., 1., 5., 8., 7.]],\n",
            "\n",
            "        [[5., 6., 4., 7., 2., 1., 3., 8., 0.],\n",
            "         [0., 3., 7., 8., 4., 6., 1., 5., 2.],\n",
            "         [1., 2., 8., 0., 5., 3., 4., 6., 7.],\n",
            "         [4., 1., 0., 3., 6., 8., 2., 7., 5.],\n",
            "         [7., 8., 2., 1., 0., 5., 6., 3., 4.],\n",
            "         [3., 5., 6., 4., 7., 2., 0., 1., 8.],\n",
            "         [8., 0., 5., 6., 3., 4., 7., 2., 1.],\n",
            "         [6., 4., 1., 2., 8., 7., 5., 0., 3.],\n",
            "         [2., 7., 3., 5., 1., 0., 8., 4., 6.]]], dtype=torch.float64)\n",
            "3: \n",
            "tensor([[[[1., 0., 3., 0., 9., 0., 0., 2., 7.],\n",
            "          [6., 0., 9., 2., 5., 0., 0., 1., 0.],\n",
            "          [0., 0., 2., 1., 0., 0., 0., 4., 0.],\n",
            "          [2., 0., 6., 0., 4., 0., 0., 0., 3.],\n",
            "          [4., 0., 7., 0., 1., 0., 0., 0., 0.],\n",
            "          [5., 3., 8., 9., 0., 0., 0., 0., 0.],\n",
            "          [0., 0., 0., 0., 0., 0., 4., 3., 0.],\n",
            "          [0., 0., 0., 0., 2., 9., 6., 0., 1.],\n",
            "          [8., 0., 1., 4., 3., 0., 7., 5., 9.]]],\n",
            "\n",
            "\n",
            "        [[[0., 9., 0., 3., 4., 2., 0., 0., 6.],\n",
            "          [0., 0., 0., 9., 0., 0., 0., 0., 8.],\n",
            "          [4., 3., 7., 8., 6., 5., 0., 1., 0.],\n",
            "          [9., 0., 1., 0., 0., 0., 8., 6., 4.],\n",
            "          [6., 0., 4., 7., 0., 0., 9., 0., 0.],\n",
            "          [3., 0., 2., 6., 9., 0., 0., 5., 7.],\n",
            "          [0., 6., 3., 1., 0., 0., 0., 9., 0.],\n",
            "          [0., 0., 5., 0., 7., 9., 6., 2., 3.],\n",
            "          [2., 0., 0., 5., 0., 6., 0., 0., 0.]]]], dtype=torch.float64)\n",
            "tensor([[[0., 7., 2., 5., 8., 3., 4., 1., 6.],\n",
            "         [5., 3., 8., 1., 4., 6., 2., 0., 7.],\n",
            "         [6., 4., 1., 0., 7., 2., 8., 3., 5.],\n",
            "         [1., 0., 5., 6., 3., 4., 7., 8., 2.],\n",
            "         [3., 8., 6., 2., 0., 7., 1., 5., 4.],\n",
            "         [4., 2., 7., 8., 5., 1., 0., 6., 3.],\n",
            "         [8., 5., 4., 7., 6., 0., 3., 2., 1.],\n",
            "         [2., 6., 3., 4., 1., 8., 5., 7., 0.],\n",
            "         [7., 1., 0., 3., 2., 5., 6., 4., 8.]],\n",
            "\n",
            "        [[0., 8., 7., 2., 3., 1., 4., 6., 5.],\n",
            "         [4., 1., 5., 8., 0., 6., 2., 3., 7.],\n",
            "         [3., 2., 6., 7., 5., 4., 1., 0., 8.],\n",
            "         [8., 6., 0., 1., 4., 2., 7., 5., 3.],\n",
            "         [5., 4., 3., 6., 7., 0., 8., 2., 1.],\n",
            "         [2., 7., 1., 5., 8., 3., 0., 4., 6.],\n",
            "         [6., 5., 2., 0., 1., 7., 3., 8., 4.],\n",
            "         [7., 0., 4., 3., 6., 8., 5., 1., 2.],\n",
            "         [1., 3., 8., 4., 2., 5., 6., 7., 0.]]], dtype=torch.float64)\n",
            "4: \n",
            "tensor([[[[0., 0., 3., 0., 0., 0., 0., 1., 6.],\n",
            "          [0., 0., 2., 5., 4., 6., 0., 0., 9.],\n",
            "          [0., 0., 0., 0., 0., 9., 2., 0., 7.],\n",
            "          [7., 5., 6., 9., 0., 0., 0., 0., 1.],\n",
            "          [8., 2., 0., 0., 0., 0., 0., 5., 3.],\n",
            "          [9., 3., 4., 0., 0., 0., 0., 7., 0.],\n",
            "          [0., 0., 0., 0., 9., 0., 0., 0., 0.],\n",
            "          [0., 0., 9., 0., 0., 1., 0., 8., 0.],\n",
            "          [5., 0., 0., 4., 6., 8., 0., 0., 0.]]],\n",
            "\n",
            "\n",
            "        [[[4., 1., 0., 0., 9., 0., 3., 6., 0.],\n",
            "          [7., 0., 9., 4., 2., 0., 1., 5., 0.],\n",
            "          [6., 0., 0., 5., 0., 3., 9., 7., 4.],\n",
            "          [0., 0., 3., 0., 0., 0., 7., 0., 1.],\n",
            "          [2., 0., 0., 3., 4., 0., 0., 0., 0.],\n",
            "          [0., 5., 0., 0., 0., 2., 0., 9., 0.],\n",
            "          [0., 2., 7., 9., 0., 0., 0., 4., 5.],\n",
            "          [5., 9., 0., 2., 0., 8., 0., 0., 7.],\n",
            "          [0., 0., 0., 0., 5., 4., 0., 0., 9.]]]], dtype=torch.float64)\n",
            "tensor([[[3., 8., 2., 7., 1., 6., 4., 0., 5.],\n",
            "         [0., 6., 1., 4., 3., 5., 7., 2., 8.],\n",
            "         [5., 7., 4., 0., 2., 8., 1., 3., 6.],\n",
            "         [6., 4., 5., 8., 7., 2., 3., 1., 0.],\n",
            "         [7., 1., 0., 5., 6., 3., 8., 4., 2.],\n",
            "         [8., 2., 3., 1., 0., 4., 5., 6., 7.],\n",
            "         [2., 3., 7., 6., 8., 1., 0., 5., 4.],\n",
            "         [1., 5., 8., 2., 4., 0., 6., 7., 3.],\n",
            "         [4., 0., 6., 3., 5., 7., 2., 8., 1.]],\n",
            "\n",
            "        [[3., 0., 4., 7., 8., 6., 2., 5., 1.],\n",
            "         [6., 2., 8., 3., 1., 5., 0., 4., 7.],\n",
            "         [5., 7., 1., 4., 0., 2., 8., 6., 3.],\n",
            "         [8., 3., 2., 5., 7., 4., 6., 1., 0.],\n",
            "         [1., 6., 0., 2., 3., 8., 4., 7., 5.],\n",
            "         [7., 4., 5., 0., 6., 1., 3., 8., 2.],\n",
            "         [2., 1., 6., 8., 5., 0., 7., 3., 4.],\n",
            "         [4., 8., 3., 1., 2., 7., 5., 0., 6.],\n",
            "         [0., 5., 7., 6., 4., 3., 1., 2., 8.]]], dtype=torch.float64)\n",
            "5: \n",
            "tensor([[[[4., 9., 1., 0., 3., 0., 5., 6., 0.],\n",
            "          [6., 8., 2., 4., 5., 1., 7., 3., 0.],\n",
            "          [5., 0., 0., 6., 9., 2., 4., 8., 0.],\n",
            "          [0., 4., 6., 0., 0., 7., 2., 0., 8.],\n",
            "          [7., 1., 9., 8., 0., 4., 6., 5., 3.],\n",
            "          [2., 5., 8., 9., 6., 0., 0., 4., 0.],\n",
            "          [0., 0., 3., 1., 4., 5., 0., 0., 0.],\n",
            "          [1., 0., 5., 0., 8., 6., 0., 7., 0.],\n",
            "          [8., 0., 0., 0., 7., 0., 0., 0., 5.]]],\n",
            "\n",
            "\n",
            "        [[[3., 7., 6., 9., 2., 0., 1., 0., 0.],\n",
            "          [1., 4., 0., 0., 5., 0., 0., 0., 7.],\n",
            "          [2., 0., 0., 0., 0., 0., 0., 0., 0.],\n",
            "          [4., 0., 0., 0., 0., 0., 5., 1., 0.],\n",
            "          [0., 0., 0., 0., 0., 1., 2., 8., 0.],\n",
            "          [0., 0., 2., 4., 8., 0., 0., 7., 0.],\n",
            "          [0., 0., 0., 0., 4., 0., 0., 3., 0.],\n",
            "          [7., 0., 0., 0., 1., 6., 9., 4., 5.],\n",
            "          [0., 0., 0., 3., 0., 2., 8., 0., 1.]]]], dtype=torch.float64)\n",
            "tensor([[[3., 8., 0., 6., 2., 7., 4., 5., 1.],\n",
            "         [5., 7., 1., 3., 4., 0., 6., 2., 8.],\n",
            "         [4., 2., 6., 5., 8., 1., 3., 7., 0.],\n",
            "         [2., 3., 5., 4., 0., 6., 1., 8., 7.],\n",
            "         [6., 0., 8., 7., 1., 3., 5., 4., 2.],\n",
            "         [1., 4., 7., 8., 5., 2., 0., 3., 6.],\n",
            "         [8., 6., 2., 0., 3., 4., 7., 1., 5.],\n",
            "         [0., 1., 4., 2., 7., 5., 8., 6., 3.],\n",
            "         [7., 5., 3., 1., 6., 8., 2., 0., 4.]],\n",
            "\n",
            "        [[2., 6., 5., 8., 1., 3., 0., 4., 7.],\n",
            "         [0., 3., 8., 5., 4., 7., 2., 1., 6.],\n",
            "         [1., 4., 7., 0., 2., 6., 3., 8., 5.],\n",
            "         [3., 7., 6., 1., 5., 2., 4., 0., 8.],\n",
            "         [5., 2., 4., 6., 8., 0., 1., 7., 3.],\n",
            "         [8., 0., 1., 3., 7., 4., 5., 6., 2.],\n",
            "         [7., 5., 0., 4., 3., 8., 6., 2., 1.],\n",
            "         [6., 1., 2., 7., 0., 5., 8., 3., 4.],\n",
            "         [4., 8., 3., 2., 6., 1., 7., 5., 0.]]], dtype=torch.float64)\n"
          ],
          "name": "stdout"
        }
      ]
    },
    {
      "cell_type": "code",
      "metadata": {
        "id": "_snx07Ht_Gsx",
        "colab_type": "code",
        "colab": {}
      },
      "source": [
        "x, y = next(iter(train_loader))"
      ],
      "execution_count": 0,
      "outputs": []
    },
    {
      "cell_type": "code",
      "metadata": {
        "id": "A5ntGuvhC03Y",
        "colab_type": "code",
        "colab": {
          "base_uri": "https://localhost:8080/",
          "height": 341
        },
        "outputId": "eb094880-c0a0-4c5a-ee64-564e3e4b7dfa"
      },
      "source": [
        "print(x[0],\"\\n\", y[0])"
      ],
      "execution_count": 33,
      "outputs": [
        {
          "output_type": "stream",
          "text": [
            "tensor([[[2., 0., 0., 4., 7., 3., 0., 8., 0.],\n",
            "         [0., 0., 0., 0., 9., 0., 0., 6., 4.],\n",
            "         [0., 5., 3., 0., 0., 0., 9., 0., 0.],\n",
            "         [0., 8., 5., 0., 4., 0., 7., 3., 0.],\n",
            "         [0., 0., 4., 0., 6., 8., 0., 1., 0.],\n",
            "         [0., 0., 2., 0., 5., 0., 0., 0., 8.],\n",
            "         [0., 0., 0., 6., 0., 7., 0., 0., 0.],\n",
            "         [0., 0., 8., 9., 0., 0., 0., 4., 0.],\n",
            "         [0., 2., 7., 8., 0., 0., 0., 0., 9.]]], dtype=torch.float64) \n",
            " tensor([[1., 8., 5., 3., 6., 2., 4., 7., 0.],\n",
            "        [7., 6., 0., 4., 8., 1., 2., 5., 3.],\n",
            "        [3., 4., 2., 0., 7., 5., 8., 6., 1.],\n",
            "        [0., 7., 4., 1., 3., 8., 6., 2., 5.],\n",
            "        [8., 2., 3., 6., 5., 7., 1., 0., 4.],\n",
            "        [6., 5., 1., 2., 4., 0., 3., 8., 7.],\n",
            "        [4., 3., 8., 5., 0., 6., 7., 1., 2.],\n",
            "        [2., 0., 7., 8., 1., 4., 5., 3., 6.],\n",
            "        [5., 1., 6., 7., 2., 3., 0., 4., 8.]], dtype=torch.float64)\n"
          ],
          "name": "stdout"
        }
      ]
    },
    {
      "cell_type": "code",
      "metadata": {
        "id": "0KslGH_kC13m",
        "colab_type": "code",
        "colab": {
          "base_uri": "https://localhost:8080/",
          "height": 359
        },
        "outputId": "cbecd6e0-53f9-4413-9329-24502f05bc79"
      },
      "source": [
        "y"
      ],
      "execution_count": 31,
      "outputs": [
        {
          "output_type": "execute_result",
          "data": {
            "text/plain": [
              "tensor([[[1., 8., 5., 3., 6., 2., 4., 7., 0.],\n",
              "         [7., 6., 0., 4., 8., 1., 2., 5., 3.],\n",
              "         [3., 4., 2., 0., 7., 5., 8., 6., 1.],\n",
              "         [0., 7., 4., 1., 3., 8., 6., 2., 5.],\n",
              "         [8., 2., 3., 6., 5., 7., 1., 0., 4.],\n",
              "         [6., 5., 1., 2., 4., 0., 3., 8., 7.],\n",
              "         [4., 3., 8., 5., 0., 6., 7., 1., 2.],\n",
              "         [2., 0., 7., 8., 1., 4., 5., 3., 6.],\n",
              "         [5., 1., 6., 7., 2., 3., 0., 4., 8.]],\n",
              "\n",
              "        [[3., 5., 2., 1., 8., 4., 7., 6., 0.],\n",
              "         [6., 1., 4., 7., 3., 0., 8., 5., 2.],\n",
              "         [0., 8., 7., 2., 6., 5., 1., 4., 3.],\n",
              "         [8., 0., 6., 4., 7., 1., 2., 3., 5.],\n",
              "         [4., 7., 1., 5., 2., 3., 6., 0., 8.],\n",
              "         [2., 3., 5., 6., 0., 8., 4., 7., 1.],\n",
              "         [7., 2., 8., 0., 5., 6., 3., 1., 4.],\n",
              "         [1., 6., 0., 3., 4., 2., 5., 8., 7.],\n",
              "         [5., 4., 3., 8., 1., 7., 0., 2., 6.]]], dtype=torch.float64)"
            ]
          },
          "metadata": {
            "tags": []
          },
          "execution_count": 31
        }
      ]
    },
    {
      "cell_type": "code",
      "metadata": {
        "id": "LJCFEpHMC2De",
        "colab_type": "code",
        "colab": {}
      },
      "source": [
        ""
      ],
      "execution_count": 0,
      "outputs": []
    }
  ]
}