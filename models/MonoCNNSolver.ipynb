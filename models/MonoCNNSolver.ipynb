{
  "nbformat": 4,
  "nbformat_minor": 0,
  "metadata": {
    "kernelspec": {
      "display_name": "Python 3",
      "language": "python",
      "name": "python3"
    },
    "language_info": {
      "codemirror_mode": {
        "name": "ipython",
        "version": 3
      },
      "file_extension": ".py",
      "mimetype": "text/x-python",
      "name": "python",
      "nbconvert_exporter": "python",
      "pygments_lexer": "ipython3",
      "version": "3.7.3"
    },
    "colab": {
      "name": "TestLoader.ipynb",
      "provenance": []
    }
  },
  "cells": [
    {
      "cell_type": "markdown",
      "metadata": {
        "id": "PW6VWCHjm-g6",
        "colab_type": "text"
      },
      "source": [
        "# Environment Setup"
      ]
    },
    {
      "cell_type": "code",
      "metadata": {
        "id": "9tMQ3_yDj_md",
        "colab_type": "code",
        "outputId": "b9a0757e-7df9-428a-f623-53b5e0ecf9d7",
        "colab": {
          "base_uri": "https://localhost:8080/",
          "height": 199
        }
      },
      "source": [
        "from google.colab import drive\n",
        "drive.mount('/content/gdrive')\n",
        "!cp /content/gdrive/My\\ Drive/data/*.zip .\n",
        "!unzip /content/sudoku.zip\n",
        "!unzip /content/sudoku_test.zip"
      ],
      "execution_count": 1,
      "outputs": [
        {
          "output_type": "stream",
          "text": [
            "Go to this URL in a browser: https://accounts.google.com/o/oauth2/auth?client_id=947318989803-6bn6qk8qdgf4n4g3pfee6491hc0brc4i.apps.googleusercontent.com&redirect_uri=urn%3aietf%3awg%3aoauth%3a2.0%3aoob&response_type=code&scope=email%20https%3a%2f%2fwww.googleapis.com%2fauth%2fdocs.test%20https%3a%2f%2fwww.googleapis.com%2fauth%2fdrive%20https%3a%2f%2fwww.googleapis.com%2fauth%2fdrive.photos.readonly%20https%3a%2f%2fwww.googleapis.com%2fauth%2fpeopleapi.readonly\n",
            "\n",
            "Enter your authorization code:\n",
            "··········\n",
            "Mounted at /content/gdrive\n",
            "Archive:  /content/sudoku.zip\n",
            "  inflating: sudoku.csv              \n",
            "Archive:  /content/sudoku_test.zip\n",
            "replace sudoku.csv? [y]es, [n]o, [A]ll, [N]one, [r]ename: n\n"
          ],
          "name": "stdout"
        }
      ]
    },
    {
      "cell_type": "code",
      "metadata": {
        "id": "5cghus0djA4Q",
        "colab_type": "code",
        "outputId": "02d9930a-6ef2-4595-aa9b-3b9e4fe5ca08",
        "colab": {
          "base_uri": "https://localhost:8080/",
          "height": 125
        }
      },
      "source": [
        "!git clone https://github.com/cloughurd/drl-sudoku.git\n",
        "!mv drl-sudoku/data/* ."
      ],
      "execution_count": 2,
      "outputs": [
        {
          "output_type": "stream",
          "text": [
            "Cloning into 'drl-sudoku'...\n",
            "remote: Enumerating objects: 41, done.\u001b[K\n",
            "remote: Counting objects: 100% (41/41), done.\u001b[K\n",
            "remote: Compressing objects: 100% (29/29), done.\u001b[K\n",
            "remote: Total 41 (delta 12), reused 22 (delta 5), pack-reused 0\u001b[K\n",
            "Unpacking objects: 100% (41/41), done.\n"
          ],
          "name": "stdout"
        }
      ]
    },
    {
      "cell_type": "code",
      "metadata": {
        "id": "IaIypeXinqFn",
        "colab_type": "code",
        "colab": {}
      },
      "source": [
        "import numpy as np\n",
        "import torch\n",
        "import torch.nn as nn\n",
        "import torch.optim as optim\n",
        "from torch.utils.data import Dataset, DataLoader\n",
        "import torch.nn.functional as F\n",
        "import matplotlib.pyplot as plt\n",
        "import librosa\n",
        "import os\n",
        "import gc\n",
        "import wave\n",
        "import struct\n",
        "import math\n",
        "import contextlib\n",
        "from mido import MidiFile\n",
        "from mido.messages.messages import Message\n",
        "import mido\n",
        "from typing import List\n",
        "from tqdm import tqdm\n",
        "import random\n",
        "from torch.utils.data.sampler import SubsetRandomSampler\n",
        "\n",
        "\n",
        "from IPython.core.ultratb import AutoFormattedTB\n",
        "__ITB__ = AutoFormattedTB(mode = 'Verbose',color_scheme='LightBg', tb_offset = 1)"
      ],
      "execution_count": 0,
      "outputs": []
    },
    {
      "cell_type": "markdown",
      "metadata": {
        "id": "WFMABO1nnB7f",
        "colab_type": "text"
      },
      "source": [
        "# Create dataloader"
      ]
    },
    {
      "cell_type": "code",
      "metadata": {
        "id": "TRxSkKKCnBVO",
        "colab_type": "code",
        "colab": {}
      },
      "source": [
        "def normalize_mono_grid(m):\n",
        "  return (m / 9.0) - 0.5"
      ],
      "execution_count": 0,
      "outputs": []
    },
    {
      "cell_type": "code",
      "metadata": {
        "id": "FxiPBreTi7Yj",
        "colab_type": "code",
        "colab": {}
      },
      "source": [
        "from dataloader import *\n",
        "\n",
        "loader = get_loader(root=\"/content/\", batch_size=1, mono=True, train=True)"
      ],
      "execution_count": 0,
      "outputs": []
    },
    {
      "cell_type": "code",
      "metadata": {
        "id": "qUS_DuZvi7Y5",
        "colab_type": "code",
        "colab": {}
      },
      "source": [
        "x, y = next(iter(loader))"
      ],
      "execution_count": 0,
      "outputs": []
    },
    {
      "cell_type": "markdown",
      "metadata": {
        "id": "hqQdT8QAnZXa",
        "colab_type": "text"
      },
      "source": [
        "# Define Model"
      ]
    },
    {
      "cell_type": "code",
      "metadata": {
        "id": "R1WF_WlwqVlf",
        "colab_type": "code",
        "colab": {}
      },
      "source": [
        "class Reshape(nn.Module):\n",
        "    def __init__(self, shape):\n",
        "        super(Reshape, self).__init__()\n",
        "        self.shape = shape\n",
        "\n",
        "    def forward(self, x):\n",
        "        return x.view(self.shape)"
      ],
      "execution_count": 0,
      "outputs": []
    },
    {
      "cell_type": "code",
      "metadata": {
        "id": "wJM42t58rc79",
        "colab_type": "code",
        "colab": {}
      },
      "source": [
        "class ToSudokuRange(nn.Module):\n",
        "  def __init__(self):\n",
        "    super(ToSudokuRange, self).__init__()\n",
        "    self.sigmoid = nn.Sigmoid()\n",
        "    self.net = lambda x: 9 * self.sigmoid(x)\n",
        "  \n",
        "  def forward(self, x):\n",
        "    return self.net(x)"
      ],
      "execution_count": 0,
      "outputs": []
    },
    {
      "cell_type": "code",
      "metadata": {
        "id": "2MecL5K3ielK",
        "colab_type": "code",
        "colab": {}
      },
      "source": [
        "class SolverLayer(nn.Module):\n",
        "  def __init__(self, in_filters:int, hidden_filters:int, out_filters:int):\n",
        "    super(SolverLayer, self).__init__()\n",
        "\n",
        "    self.initial_normalization = nn.InstanceNorm2d(in_filters) # Normalize every individual game within its filters. Not positive this is a good idea... maybe use the 3d version?\n",
        "\n",
        "    self.HorizontalDependencies = nn.Sequential(        \n",
        "        nn.Conv2d(in_filters, hidden_filters, kernel_size=(9, 1)), # Output is 1, 9.\n",
        "        nn.LeakyReLU(),\n",
        "        Reshape((-1, hidden_filters, 9)),\n",
        "        # Make into a full board shape that can be recombined... Maybe?\n",
        "        nn.Linear(9, 81), \n",
        "        Reshape((-1, hidden_filters, 9, 9)),\n",
        "        nn.LeakyReLU()\n",
        "    )\n",
        "\n",
        "    self.VerticalDependencies = nn.Sequential(\n",
        "        nn.Conv2d(in_filters, hidden_filters, kernel_size=(1, 9)), # Output is 9, 1.\n",
        "        nn.LeakyReLU(),\n",
        "        Reshape((-1, hidden_filters, 9)),\n",
        "        # Make into a full board shape that can be recombined... Maybe?\n",
        "        nn.Linear(9, 81), \n",
        "        Reshape((-1, hidden_filters, 9, 9)),\n",
        "        nn.LeakyReLU()\n",
        "    )\n",
        "\n",
        "    self.QuadrantDependencies = nn.Sequential(\n",
        "        nn.Conv2d(in_filters, hidden_filters, kernel_size=(3, 3), stride=3),\n",
        "        nn.LeakyReLU(),\n",
        "        Reshape((-1, hidden_filters, 9)),\n",
        "        # Make into a full board shape that can be recombined... Maybe?\n",
        "        nn.Linear(9, 81), \n",
        "        Reshape((-1, hidden_filters, 9, 9)),\n",
        "        nn.LeakyReLU()\n",
        "    )\n",
        "\n",
        "    self.Reduce = nn.Sequential(\n",
        "        nn.Conv2d(hidden_filters * 3, out_filters, kernel_size=(1, 1)), # Look at each cell only, without neighbors; neighbors have already been considered.\n",
        "        nn.LeakyReLU()\n",
        "    )\n",
        "\n",
        "  def forward(self, x):\n",
        "    x = self.initial_normalization(x)\n",
        "    horizontal_result = self.HorizontalDependencies(x)\n",
        "    vertical_result = self.VerticalDependencies(x)\n",
        "    quadrant_result = self.QuadrantDependencies(x)\n",
        "\n",
        "    combined = torch.cat((horizontal_result, vertical_result, quadrant_result), dim=1)\n",
        "    reduced = self.Reduce(combined)\n",
        "    return reduced\n",
        "    \n"
      ],
      "execution_count": 0,
      "outputs": []
    },
    {
      "cell_type": "code",
      "metadata": {
        "id": "UG34hwOxnY74",
        "colab_type": "code",
        "colab": {}
      },
      "source": [
        "class MonoModel(nn.Module):\n",
        "  def __init__(self, solver_depth:int):\n",
        "    super(MonoModel, self).__init__()\n",
        "    self.net = nn.Sequential(\n",
        "        # Give a channel dimension\n",
        "        Reshape((-1, 1, 9, 9)),\n",
        "        SolverLayer(1, 9, 9),\n",
        "        *[ SolverLayer(9, 9, 9) for _ in range(solver_depth - 2)],\n",
        "        SolverLayer(9, 9, 1),\n",
        "        Reshape((-1, 9, 9)),\n",
        "        ToSudokuRange()\n",
        "    )\n",
        "\n",
        "  def forward(self, x):\n",
        "    return self.net(x)"
      ],
      "execution_count": 0,
      "outputs": []
    },
    {
      "cell_type": "code",
      "metadata": {
        "id": "4_A2vsv3q76T",
        "colab_type": "code",
        "colab": {
          "base_uri": "https://localhost:8080/",
          "height": 179
        },
        "outputId": "1800c65c-56ec-4403-c272-758bec7e5a03"
      },
      "source": [
        "x"
      ],
      "execution_count": 40,
      "outputs": [
        {
          "output_type": "execute_result",
          "data": {
            "text/plain": [
              "tensor([[[[6., 2., 4., 9., 0., 7., 0., 0., 0.],\n",
              "          [0., 0., 7., 0., 5., 3., 2., 4., 6.],\n",
              "          [0., 3., 0., 0., 6., 4., 0., 9., 8.],\n",
              "          [0., 0., 3., 0., 0., 9., 0., 5., 0.],\n",
              "          [0., 0., 2., 0., 0., 0., 0., 7., 0.],\n",
              "          [4., 5., 0., 7., 0., 0., 3., 0., 2.],\n",
              "          [3., 0., 0., 0., 0., 0., 0., 2., 5.],\n",
              "          [7., 1., 0., 5., 0., 0., 8., 3., 0.],\n",
              "          [2., 0., 0., 0., 4., 0., 1., 0., 0.]]]], dtype=torch.float64)"
            ]
          },
          "metadata": {
            "tags": []
          },
          "execution_count": 40
        }
      ]
    },
    {
      "cell_type": "markdown",
      "metadata": {
        "id": "SiPAmV3Eq5vi",
        "colab_type": "text"
      },
      "source": [
        "# Training Loop"
      ]
    },
    {
      "cell_type": "code",
      "metadata": {
        "id": "cXXxedtoqaoR",
        "colab_type": "code",
        "colab": {}
      },
      "source": [
        "model = MonoModel(9)"
      ],
      "execution_count": 0,
      "outputs": []
    },
    {
      "cell_type": "code",
      "metadata": {
        "id": "py5Kx8Aqvdjb",
        "colab_type": "code",
        "colab": {
          "base_uri": "https://localhost:8080/",
          "height": 35
        },
        "outputId": "18e756c1-7f3a-4d4a-f13d-1b58cbf97331"
      },
      "source": [
        "loop = tqdm(range(10))"
      ],
      "execution_count": 44,
      "outputs": [
        {
          "output_type": "stream",
          "text": [
            "\r  0%|          | 0/10 [00:00<?, ?it/s]"
          ],
          "name": "stderr"
        }
      ]
    },
    {
      "cell_type": "code",
      "metadata": {
        "id": "bu-uveXztc8I",
        "colab_type": "code",
        "colab": {}
      },
      "source": [
        "def train(model:MonoModel, criterion:torch.nn.modules.loss._Loss, optimizer:torch.optim.Optimizer, train_loader:DataLoader, valid_loader:DataLoader, num_epochs:int, valid_frequency:int=5):\n",
        "  loop = tqdm(total=num_epochs * len(train_loader) + (num_epochs // valid_frequency) * len(valid_loader), position=0)\n",
        "  \n",
        "  train_loss = None\n",
        "  valid_loss = None\n",
        "\n",
        "  train_accuracy = None\n",
        "  valid_accuracy = None\n",
        "\n",
        "  for e in range(num_epochs):\n",
        "\n",
        "    for puzzle, solution in loader:\n",
        "      loop.set_description(f\"[Training] Epoch: {e}. Loss: {valid_loss}/{train_loss}. Total Accuracy: {train_accuracy}/{valid_accuracy} \")\n",
        "      optimizer.zero_grad()\n",
        "      attempt = model(puzzle)\n",
        "      loss = criterion(attempt, solution)\n",
        "\n",
        "      loss.backward()\n",
        "      optimizer.step()\n",
        "\n"
      ],
      "execution_count": 0,
      "outputs": []
    }
  ]
}