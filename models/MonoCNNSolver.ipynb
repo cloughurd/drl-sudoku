{
  "nbformat": 4,
  "nbformat_minor": 0,
  "metadata": {
    "kernelspec": {
      "name": "python3",
      "display_name": "Python 3"
    },
    "language_info": {
      "codemirror_mode": {
        "name": "ipython",
        "version": 3
      },
      "file_extension": ".py",
      "mimetype": "text/x-python",
      "name": "python",
      "nbconvert_exporter": "python",
      "pygments_lexer": "ipython3",
      "version": "3.7.3"
    },
    "colab": {
      "name": "TestLoader.ipynb",
      "provenance": []
    },
    "accelerator": "GPU"
  },
  "cells": [
    {
      "cell_type": "markdown",
      "metadata": {
        "id": "PW6VWCHjm-g6",
        "colab_type": "text"
      },
      "source": [
        "# Environment Setup"
      ]
    },
    {
      "cell_type": "code",
      "metadata": {
        "id": "9tMQ3_yDj_md",
        "colab_type": "code",
        "outputId": "653912d2-c44b-4440-d42e-3b9cffb3fc21",
        "colab": {
          "base_uri": "https://localhost:8080/",
          "height": 163
        }
      },
      "source": [
        "from google.colab import drive\n",
        "drive.mount('/content/gdrive')\n",
        "!cp /content/gdrive/My\\ Drive/data/*.zip .\n",
        "!unzip /content/sudoku.zip\n",
        "# !unzip /content/sudoku_test.zip"
      ],
      "execution_count": 21,
      "outputs": [
        {
          "output_type": "stream",
          "text": [
            "Go to this URL in a browser: https://accounts.google.com/o/oauth2/auth?client_id=947318989803-6bn6qk8qdgf4n4g3pfee6491hc0brc4i.apps.googleusercontent.com&redirect_uri=urn%3aietf%3awg%3aoauth%3a2.0%3aoob&response_type=code&scope=email%20https%3a%2f%2fwww.googleapis.com%2fauth%2fdocs.test%20https%3a%2f%2fwww.googleapis.com%2fauth%2fdrive%20https%3a%2f%2fwww.googleapis.com%2fauth%2fdrive.photos.readonly%20https%3a%2f%2fwww.googleapis.com%2fauth%2fpeopleapi.readonly\n",
            "\n",
            "Enter your authorization code:\n",
            "··········\n",
            "Mounted at /content/gdrive\n",
            "Archive:  /content/sudoku.zip\n",
            "  inflating: sudoku.csv              \n"
          ],
          "name": "stdout"
        }
      ]
    },
    {
      "cell_type": "code",
      "metadata": {
        "id": "5cghus0djA4Q",
        "colab_type": "code",
        "outputId": "11a6a98e-444b-4891-ef4d-7d710b681fa1",
        "colab": {
          "base_uri": "https://localhost:8080/",
          "height": 125
        }
      },
      "source": [
        "!git clone https://github.com/cloughurd/drl-sudoku.git\n",
        "!mv drl-sudoku/data/* ."
      ],
      "execution_count": 22,
      "outputs": [
        {
          "output_type": "stream",
          "text": [
            "Cloning into 'drl-sudoku'...\n",
            "remote: Enumerating objects: 87, done.\u001b[K\n",
            "remote: Counting objects: 100% (87/87), done.\u001b[K\n",
            "remote: Compressing objects: 100% (69/69), done.\u001b[K\n",
            "remote: Total 87 (delta 46), reused 33 (delta 11), pack-reused 0\u001b[K\n",
            "Unpacking objects: 100% (87/87), done.\n"
          ],
          "name": "stdout"
        }
      ]
    },
    {
      "cell_type": "code",
      "metadata": {
        "id": "IaIypeXinqFn",
        "colab_type": "code",
        "colab": {}
      },
      "source": [
        "import numpy as np\n",
        "import torch\n",
        "import torch.nn as nn\n",
        "import torch.optim as optim\n",
        "from torch.utils.data import Dataset, DataLoader\n",
        "import torch.nn.functional as F\n",
        "import matplotlib.pyplot as plt\n",
        "import librosa\n",
        "import os\n",
        "import gc\n",
        "import wave\n",
        "import struct\n",
        "import math\n",
        "import contextlib\n",
        "from mido import MidiFile\n",
        "from mido.messages.messages import Message\n",
        "import mido\n",
        "from typing import List\n",
        "from tqdm import tqdm\n",
        "import random\n",
        "from torch.utils.data.sampler import SubsetRandomSampler\n",
        "\n",
        "\n",
        "from IPython.core.ultratb import AutoFormattedTB\n",
        "__ITB__ = AutoFormattedTB(mode = 'Verbose',color_scheme='LightBg', tb_offset = 1)"
      ],
      "execution_count": 0,
      "outputs": []
    },
    {
      "cell_type": "markdown",
      "metadata": {
        "id": "WFMABO1nnB7f",
        "colab_type": "text"
      },
      "source": [
        "# Create dataloader"
      ]
    },
    {
      "cell_type": "code",
      "metadata": {
        "id": "TRxSkKKCnBVO",
        "colab_type": "code",
        "colab": {}
      },
      "source": [
        "def normalize_mono_grid(m):\n",
        "  return (m / 9.0) - 0.5"
      ],
      "execution_count": 0,
      "outputs": []
    },
    {
      "cell_type": "code",
      "metadata": {
        "id": "FxiPBreTi7Yj",
        "colab_type": "code",
        "colab": {}
      },
      "source": [
        "from dataloader import *"
      ],
      "execution_count": 0,
      "outputs": []
    },
    {
      "cell_type": "markdown",
      "metadata": {
        "id": "hqQdT8QAnZXa",
        "colab_type": "text"
      },
      "source": [
        "# Define Model"
      ]
    },
    {
      "cell_type": "code",
      "metadata": {
        "id": "R1WF_WlwqVlf",
        "colab_type": "code",
        "colab": {}
      },
      "source": [
        "class Reshape(nn.Module):\n",
        "    def __init__(self, shape):\n",
        "        super(Reshape, self).__init__()\n",
        "        self.shape = shape\n",
        "\n",
        "    def forward(self, x):\n",
        "        return x.view(self.shape)"
      ],
      "execution_count": 0,
      "outputs": []
    },
    {
      "cell_type": "code",
      "metadata": {
        "id": "wJM42t58rc79",
        "colab_type": "code",
        "colab": {}
      },
      "source": [
        "class ToSudokuRange(nn.Module):\n",
        "  def __init__(self):\n",
        "    super(ToSudokuRange, self).__init__()\n",
        "    self.sigmoid = nn.Sigmoid()\n",
        "    self.net = lambda x: (9 * self.sigmoid(x)) + 0.5\n",
        "  \n",
        "  def forward(self, x):\n",
        "    return self.net(x)"
      ],
      "execution_count": 0,
      "outputs": []
    },
    {
      "cell_type": "code",
      "metadata": {
        "id": "2MecL5K3ielK",
        "colab_type": "code",
        "colab": {}
      },
      "source": [
        "class SolverLayer(nn.Module):\n",
        "  def __init__(self, in_filters:int, hidden_filters:int, out_filters:int):\n",
        "    super(SolverLayer, self).__init__()\n",
        "\n",
        "    if in_filters != out_filters:\n",
        "      self.skip = nn.Conv2d(in_filters, out_filters, kernel_size=1)\n",
        "    else:\n",
        "      self.skip = nn.Identity()\n",
        "\n",
        "    self.initial_normalization = nn.InstanceNorm2d(in_filters) # Normalize every individual game within its filters. Not positive this is a good idea... maybe use the 3d version?\n",
        "\n",
        "    self.HorizontalDependencies = nn.Sequential(        \n",
        "        nn.Conv2d(in_filters, hidden_filters, kernel_size=(9, 1)), # Output is 1, 9.\n",
        "        nn.BatchNorm2d(hidden_filters),\n",
        "        nn.LeakyReLU(),\n",
        "        Reshape((-1, hidden_filters, 9)),\n",
        "        # Make into a full board shape that can be recombined... Maybe?\n",
        "        nn.Linear(9, 81),\n",
        "        nn.BatchNorm1d(hidden_filters),\n",
        "        nn.Dropout(),\n",
        "        Reshape((-1, hidden_filters, 9, 9)),\n",
        "        nn.LeakyReLU()\n",
        "    )\n",
        "\n",
        "    self.VerticalDependencies = nn.Sequential(\n",
        "        nn.Conv2d(in_filters, hidden_filters, kernel_size=(1, 9)), # Output is 9, 1.\n",
        "        nn.BatchNorm2d(hidden_filters),\n",
        "        nn.LeakyReLU(),\n",
        "        Reshape((-1, hidden_filters, 9)),\n",
        "        # Make into a full board shape that can be recombined... Maybe?\n",
        "        nn.Linear(9, 81), \n",
        "        nn.BatchNorm1d(hidden_filters),\n",
        "        nn.Dropout(),\n",
        "        Reshape((-1, hidden_filters, 9, 9)),\n",
        "        nn.LeakyReLU()\n",
        "    )\n",
        "\n",
        "    self.QuadrantDependencies = nn.Sequential(\n",
        "        nn.Conv2d(in_filters, hidden_filters, kernel_size=(3, 3), stride=3),\n",
        "        nn.BatchNorm2d(hidden_filters),\n",
        "        nn.LeakyReLU(),\n",
        "        Reshape((-1, hidden_filters, 9)),\n",
        "        # Make into a full board shape that can be recombined... Maybe?\n",
        "        nn.Linear(9, 81), \n",
        "        nn.BatchNorm1d(hidden_filters),\n",
        "        nn.Dropout(),\n",
        "        Reshape((-1, hidden_filters, 9, 9)),\n",
        "        nn.LeakyReLU()\n",
        "    )\n",
        "\n",
        "    self.Reduce = nn.Sequential(\n",
        "        nn.Conv2d(hidden_filters * 3, hidden_filters*3, kernel_size=(3, 3), padding=1),\n",
        "        nn.Conv2d(hidden_filters * 3, out_filters, kernel_size=(1, 1)), # Look at each cell only, without neighbors; neighbors have already been considered.\n",
        "        nn.LeakyReLU()\n",
        "    )\n",
        "\n",
        "    self.Final = nn.LeakyReLU()\n",
        "\n",
        "  def forward(self, x):\n",
        "    skip = self.skip(x)\n",
        "    x = self.initial_normalization(x)\n",
        "    horizontal_result = self.HorizontalDependencies(x)\n",
        "    vertical_result = self.VerticalDependencies(x)\n",
        "    quadrant_result = self.QuadrantDependencies(x)\n",
        "\n",
        "    combined = torch.cat((horizontal_result, vertical_result, quadrant_result), dim=1)\n",
        "\n",
        "    reduced = self.Reduce(combined)\n",
        "\n",
        "    residualized = reduced + skip\n",
        "    return self.Final(residualized)\n",
        "    \n"
      ],
      "execution_count": 0,
      "outputs": []
    },
    {
      "cell_type": "code",
      "metadata": {
        "id": "UG34hwOxnY74",
        "colab_type": "code",
        "colab": {}
      },
      "source": [
        "class MonoModel(nn.Module):\n",
        "  def __init__(self, solver_depth:int):\n",
        "    super(MonoModel, self).__init__()\n",
        "    layer_numbers = [(3**(i // 9 + 2), 3**( (i+1) // 9 + 2)) for i in range(solver_depth - 2)]\n",
        "    print(layer_numbers)\n",
        "    reducer_layer = layer_numbers[-1][1]\n",
        "    self.net = nn.Sequential(\n",
        "        # Give a channel dimension\n",
        "        Reshape((-1, 1, 9, 9)),\n",
        "        SolverLayer(1, 9, 9),\n",
        "        *[ SolverLayer(i, i, o) for i, o in layer_numbers],\n",
        "        SolverLayer(reducer_layer, reducer_layer, 1),\n",
        "        Reshape((-1, 9, 9)),\n",
        "        ToSudokuRange()\n",
        "    )\n",
        "\n",
        "  def forward(self, x):\n",
        "    return self.net(x)"
      ],
      "execution_count": 0,
      "outputs": []
    },
    {
      "cell_type": "code",
      "metadata": {
        "id": "MUbEg-tN0tN3",
        "colab_type": "code",
        "colab": {}
      },
      "source": [
        ""
      ],
      "execution_count": 0,
      "outputs": []
    },
    {
      "cell_type": "code",
      "metadata": {
        "id": "4_A2vsv3q76T",
        "colab_type": "code",
        "colab": {}
      },
      "source": [
        "def puzzle_exactifier(p):\n",
        "  return torch.round(p)\n",
        "\n",
        "def puzzle_masker(attempts, starting_puzzles):\n",
        "  # print(attempts.size(), starting_puzzles.size())\n",
        "  assert attempts.size() == starting_puzzles.size()\n",
        "  num_filled_in_solution = torch.sum(starting_puzzles != 0).item()\n",
        "  attempts = torch.where(starting_puzzles == 0, attempts, starting_puzzles)\n",
        "  return (attempts, starting_puzzles, num_filled_in_solution)\n",
        "\n",
        "def solved_accuracy(attempts, solutions, starting_puzzles):\n",
        "  assert attempts.size() == solutions.size()\n",
        "  masked_puzzle, _, _ = puzzle_masker(attempts, starting_puzzles)\n",
        "  # print(masked_puzzle, solutions, starting_puzzles)\n",
        "  num_puzzles = attempts.size(0)\n",
        "  num_correct = (masked_puzzle.eq(solutions).sum(1).sum(1) == 9).sum().item()\n",
        "  return num_correct / num_puzzles\n",
        "\n",
        "def cell_accuracy(attempts, solutions, starting_puzzles):\n",
        "  assert attempts.size() == solutions.size()\n",
        "  masked_puzzle, _, num_filled = puzzle_masker(attempts, starting_puzzles)\n",
        "  # print(\"\\nAttempts:\\n\", attempts, \"\\nMasked\\n\", masked_puzzle, \"\\nInitial\\n\", starting_puzzles, \"\\nSolution\\n\", solutions)\n",
        "  num_cells = attempts.numel()\n",
        "  num_correct = masked_puzzle.eq(solutions).sum().item()\n",
        "  num_guessed_correctly = num_correct - num_filled\n",
        "  num_to_guess = num_cells - num_filled\n",
        "  # print(f\"--- {num_cells} - {num_correct} - {num_cells} - {num_filled} ---\")\n",
        "  return num_guessed_correctly / num_to_guess\n"
      ],
      "execution_count": 0,
      "outputs": []
    },
    {
      "cell_type": "markdown",
      "metadata": {
        "id": "SiPAmV3Eq5vi",
        "colab_type": "text"
      },
      "source": [
        "# Training Loop"
      ]
    },
    {
      "cell_type": "code",
      "metadata": {
        "id": "bu-uveXztc8I",
        "colab_type": "code",
        "colab": {}
      },
      "source": [
        "def save_out(model:MonoModel, **kargs):\n",
        "  state = {\n",
        "      \"model\": model.state_dict()\n",
        "  }\n",
        "\n",
        "  for k, v in kargs.items():\n",
        "    state[k]=v\n",
        "  \n",
        "  torch.save(state, \"/content/gdrive/My Drive/data/models/MonoModel.mod\")\n",
        "\n",
        "def train(model:MonoModel, criterion:torch.nn.modules.loss._Loss, optimizer:torch.optim.Optimizer, train_loader:DataLoader, valid_loader:DataLoader, num_epochs:int, valid_frequency:int=5, save_interval:int=1000):\n",
        "  loop = tqdm(total=num_epochs * len(train_loader) + (num_epochs // valid_frequency) * len(valid_loader), position=0)\n",
        "\n",
        "  # The loss of the last training and validation iteration, respectively.  \n",
        "  train_loss = None\n",
        "  valid_loss = None\n",
        "\n",
        "  # The puzzle accuracy of the last training and validation itersions. ( # puzzles right / # puzzles total )\n",
        "  train_accuracy = None\n",
        "  valid_accuracy = None\n",
        "\n",
        "  # The cell accuracy of the last training and validation iterations ( # filled cells right / # num fillable cells )\n",
        "  train_inner_acc = None\n",
        "  valid_inner_acc = None\n",
        "\n",
        "  tot_training_losses = []\n",
        "  tot_training_accuracies = []\n",
        "  tot_training_cell_accuracies = []\n",
        "\n",
        "  for e in range(num_epochs):\n",
        "\n",
        "    training_losses = []\n",
        "    training_accuracies = []\n",
        "    training_cell_accuracies = []\n",
        "\n",
        "    loop.set_description(f\"[Training] Epoch: {e}. Loss: {valid_loss}/{train_loss}. Total Accuracy: {train_accuracy}/{valid_accuracy}. Inner Accuracy: {train_inner_acc}/{valid_inner_acc}\")\n",
        "\n",
        "    for i, (puzzle, solution) in enumerate(train_loader):\n",
        "      puzzle, solution = puzzle.float().squeeze(1).cuda(async=False), (solution.float() + 1).cuda(async=False)\n",
        "      initial_puzzle = puzzle.clone()\n",
        "\n",
        "      optimizer.zero_grad()\n",
        "      attempt = model(puzzle)\n",
        "      loss = criterion(attempt, solution)\n",
        "\n",
        "      loss.backward()\n",
        "      optimizer.step()\n",
        "\n",
        "      train_loss = loss.item()\n",
        "      training_losses.append(train_loss)\n",
        "\n",
        "      # Compute accuracies\n",
        "      exactified = puzzle_exactifier(attempt)\n",
        "\n",
        "      solve_accuracy = solved_accuracy(exactified, solution, initial_puzzle)\n",
        "      c_acc = cell_accuracy(exactified, solution, initial_puzzle)\n",
        "\n",
        "      train_accuracy = solve_accuracy\n",
        "      training_accuracies.append(train_accuracy)\n",
        "\n",
        "      train_inner_acc = c_acc\n",
        "      training_cell_accuracies.append(train_inner_acc)\n",
        "\n",
        "      loop.set_description(f\"[Training] Epoch: {e}. Loss: {valid_loss}/{train_loss}. Total Accuracy: {valid_accuracy}/{train_accuracy}. Inner Accuracy: {train_inner_acc}/{valid_inner_acc}\")\n",
        "      loop.update()\n",
        "\n",
        "      if i % save_interval == 0:\n",
        "        tmp_losses = tot_training_losses + [training_losses]\n",
        "        tmp_game_accs = tot_training_accuracies + [training_accuracies]\n",
        "        tmp_cell_accs = tot_training_cell_accuracies + [training_cell_accuracies]\n",
        "        save_out(model, train_loss=tmp_losses, train_game_accs=tmp_game_accs, train_cell_accs=tmp_cell_accs, epoch=e, iteration=i)\n",
        "    tot_training_losses.append(training_losses)\n",
        "    tot_training_accuracies.append(training_accuracies)\n",
        "    tot_training_cell_accuracies.append(training_cell_accuracies)\n",
        "    save_out(model, train_loss=tot_training_losses, train_game_accs=tot_training_accuracies, train_cell_accs=tot_training_cell_accuracies, epoch=e, iteration=-1)\n",
        "\n",
        "\n"
      ],
      "execution_count": 0,
      "outputs": []
    },
    {
      "cell_type": "code",
      "metadata": {
        "id": "BRJwXojO6QGp",
        "colab_type": "code",
        "colab": {}
      },
      "source": [
        "model = MonoModel(solver_depth=21).cuda()\n",
        "optimizer = optim.Adam(model.parameters())\n",
        "criterion = nn.MSELoss()\n",
        "train_loader = get_loader(root=\"/content/\", batch_size=512, mono=True, train=True)\n",
        "valid_loader = []\n",
        "num_epochs = 5"
      ],
      "execution_count": 0,
      "outputs": []
    },
    {
      "cell_type": "code",
      "metadata": {
        "id": "wPAt-ZKIMWSj",
        "colab_type": "code",
        "colab": {}
      },
      "source": [
        "num_epochs = 100"
      ],
      "execution_count": 0,
      "outputs": []
    },
    {
      "cell_type": "code",
      "metadata": {
        "id": "ftKIcRbg7BsZ",
        "colab_type": "code",
        "outputId": "2d081be9-d1d0-4c8c-fc44-3b4eeb3c12ee",
        "colab": {
          "base_uri": "https://localhost:8080/",
          "height": 33
        }
      },
      "source": [
        "train(model, criterion, optimizer, train_loader, valid_loader, num_epochs, 1)"
      ],
      "execution_count": 0,
      "outputs": [
        {
          "output_type": "stream",
          "text": [
            "[Training] Epoch: 0. Loss: None/6.626322269439697. Total Accuracy: None/0.0. Inner Accuracy: 0.11238606394299727/None:   0%|          | 529/1757900 [01:29<105:25:18,  4.63it/s]"
          ],
          "name": "stderr"
        }
      ]
    },
    {
      "cell_type": "markdown",
      "metadata": {
        "id": "hqpVKzym5yOc",
        "colab_type": "text"
      },
      "source": [
        "# TEST ACCURACY METRIC METHODS"
      ]
    },
    {
      "cell_type": "code",
      "metadata": {
        "id": "Vz9yY8QE2g3_",
        "colab_type": "code",
        "outputId": "a230978e-142e-4626-e4ac-d857a5819503",
        "colab": {
          "base_uri": "https://localhost:8080/",
          "height": 215
        }
      },
      "source": [
        "j = torch.Tensor([[[1,1,1],[2,2,2],[3,3,3]],[[1,1,1],[2,2,2],[3,3,3]],[[1,1,1],[2,2,2],[3,3,3]]])\n",
        "k = torch.Tensor([[[1,1,1],[2,2,2],[3,3,3]],[[1,1,1],[2,2,2],[3,3,3]],[[1,1,1],[2,2,2],[3,3,3]]])\n",
        "l = torch.Tensor([[[2,2,2],[2,2,2],[3,3,3]],[[1,1,1],[2,2,2],[3,3,3]],[[1,1,1],[2,2,2],[3,3,3]]])\n",
        "\n",
        "z = torch.zeros((3,3,3))\n",
        "f = z.clone()\n",
        "f[:,:,0] = k[:,:,0]\n",
        "g = z.clone()\n",
        "g[:,:,0] = l[:,:,0]"
      ],
      "execution_count": 0,
      "outputs": [
        {
          "output_type": "stream",
          "text": [
            "tensor([[[2., 0., 0.],\n",
            "         [2., 0., 0.],\n",
            "         [3., 0., 0.]],\n",
            "\n",
            "        [[1., 0., 0.],\n",
            "         [2., 0., 0.],\n",
            "         [3., 0., 0.]],\n",
            "\n",
            "        [[1., 0., 0.],\n",
            "         [2., 0., 0.],\n",
            "         [3., 0., 0.]]])\n"
          ],
          "name": "stdout"
        }
      ]
    },
    {
      "cell_type": "code",
      "metadata": {
        "colab_type": "code",
        "id": "dBEcKsHdzK0D",
        "colab": {}
      },
      "source": [
        "s = torch.load(\"/content/gdrive/My Drive/data/models/MonoModel.mod\")"
      ],
      "execution_count": 0,
      "outputs": []
    },
    {
      "cell_type": "code",
      "metadata": {
        "colab_type": "code",
        "id": "d0bLtoj3zJGE",
        "colab": {}
      },
      "source": [
        "s"
      ],
      "execution_count": 0,
      "outputs": []
    },
    {
      "cell_type": "code",
      "metadata": {
        "id": "87tkJJpvJxd8",
        "colab_type": "code",
        "outputId": "75dd6bd3-827e-406e-9738-463e3d58cb0c",
        "colab": {
          "base_uri": "https://localhost:8080/",
          "height": 55
        }
      },
      "source": [
        "s.keys()\n"
      ],
      "execution_count": 13,
      "outputs": [
        {
          "output_type": "execute_result",
          "data": {
            "text/plain": [
              "dict_keys(['model', 'train_loss', 'train_game_accs', 'train_cell_accs', 'epoch', 'iteration'])"
            ]
          },
          "metadata": {
            "tags": []
          },
          "execution_count": 13
        }
      ]
    },
    {
      "cell_type": "code",
      "metadata": {
        "id": "CJPKHXaQJzbs",
        "colab_type": "code",
        "colab": {}
      },
      "source": [
        ""
      ],
      "execution_count": 0,
      "outputs": []
    },
    {
      "cell_type": "code",
      "metadata": {
        "id": "s4_LhBgUJ7-t",
        "colab_type": "code",
        "colab": {
          "base_uri": "https://localhost:8080/",
          "height": 35
        },
        "outputId": "e5d34fc6-1f14-440f-d40e-1ca7cb8401d9"
      },
      "source": [
        "model.load_state_dict(s[\"model\"])"
      ],
      "execution_count": 31,
      "outputs": [
        {
          "output_type": "execute_result",
          "data": {
            "text/plain": [
              "<All keys matched successfully>"
            ]
          },
          "metadata": {
            "tags": []
          },
          "execution_count": 31
        }
      ]
    },
    {
      "cell_type": "code",
      "metadata": {
        "id": "b_vlhBSszTAo",
        "colab_type": "code",
        "colab": {}
      },
      "source": [
        "train_loader = get_loader(root=\"/content/\", batch_size=2, mono=True, train=True)"
      ],
      "execution_count": 0,
      "outputs": []
    },
    {
      "cell_type": "code",
      "metadata": {
        "id": "am43RsYozZKc",
        "colab_type": "code",
        "colab": {}
      },
      "source": [
        "x, y = next(iter(train_loader))"
      ],
      "execution_count": 0,
      "outputs": []
    },
    {
      "cell_type": "code",
      "metadata": {
        "id": "MPss7Gt6zbTb",
        "colab_type": "code",
        "colab": {}
      },
      "source": [
        "y = y + 1"
      ],
      "execution_count": 0,
      "outputs": []
    },
    {
      "cell_type": "code",
      "metadata": {
        "id": "4n4JyYu0zb_L",
        "colab_type": "code",
        "colab": {
          "base_uri": "https://localhost:8080/",
          "height": 719
        },
        "outputId": "c31eda46-4235-4fc2-897b-323a58737ea3"
      },
      "source": [
        "print(x, \"\\n\", y)"
      ],
      "execution_count": 23,
      "outputs": [
        {
          "output_type": "stream",
          "text": [
            "tensor([[[[1., 0., 2., 0., 0., 0., 0., 6., 0.],\n",
            "          [6., 4., 0., 0., 1., 0., 7., 0., 0.],\n",
            "          [0., 5., 0., 7., 0., 0., 0., 0., 0.],\n",
            "          [0., 0., 5., 8., 7., 4., 0., 0., 6.],\n",
            "          [0., 1., 0., 2., 0., 0., 3., 0., 0.],\n",
            "          [2., 0., 0., 0., 0., 5., 0., 4., 0.],\n",
            "          [7., 0., 0., 6., 5., 8., 4., 9., 3.],\n",
            "          [5., 0., 4., 0., 0., 7., 0., 0., 2.],\n",
            "          [3., 0., 6., 0., 2., 0., 8., 5., 7.]]],\n",
            "\n",
            "\n",
            "        [[[0., 2., 0., 4., 0., 1., 0., 7., 0.],\n",
            "          [0., 4., 7., 3., 2., 0., 0., 0., 0.],\n",
            "          [5., 0., 6., 0., 8., 0., 0., 0., 4.],\n",
            "          [7., 5., 0., 2., 3., 0., 6., 0., 1.],\n",
            "          [0., 1., 4., 8., 6., 0., 2., 9., 5.],\n",
            "          [8., 6., 0., 0., 0., 0., 4., 0., 0.],\n",
            "          [4., 7., 3., 9., 0., 0., 0., 0., 8.],\n",
            "          [0., 0., 0., 6., 0., 0., 0., 0., 0.],\n",
            "          [0., 8., 0., 5., 0., 0., 0., 0., 0.]]]], dtype=torch.float64) \n",
            " tensor([[[1., 7., 2., 9., 8., 3., 5., 6., 4.],\n",
            "         [6., 4., 3., 5., 1., 2., 7., 8., 9.],\n",
            "         [8., 5., 9., 7., 4., 6., 2., 3., 1.],\n",
            "         [9., 3., 5., 8., 7., 4., 1., 2., 6.],\n",
            "         [4., 1., 8., 2., 6., 9., 3., 7., 5.],\n",
            "         [2., 6., 7., 1., 3., 5., 9., 4., 8.],\n",
            "         [7., 2., 1., 6., 5., 8., 4., 9., 3.],\n",
            "         [5., 8., 4., 3., 9., 7., 6., 1., 2.],\n",
            "         [3., 9., 6., 4., 2., 1., 8., 5., 7.]],\n",
            "\n",
            "        [[9., 2., 8., 4., 5., 1., 3., 7., 6.],\n",
            "         [1., 4., 7., 3., 2., 6., 8., 5., 9.],\n",
            "         [5., 3., 6., 7., 8., 9., 1., 2., 4.],\n",
            "         [7., 5., 9., 2., 3., 4., 6., 8., 1.],\n",
            "         [3., 1., 4., 8., 6., 7., 2., 9., 5.],\n",
            "         [8., 6., 2., 1., 9., 5., 4., 3., 7.],\n",
            "         [4., 7., 3., 9., 1., 2., 5., 6., 8.],\n",
            "         [2., 9., 5., 6., 4., 8., 7., 1., 3.],\n",
            "         [6., 8., 1., 5., 7., 3., 9., 4., 2.]]], dtype=torch.float64)\n"
          ],
          "name": "stdout"
        }
      ]
    },
    {
      "cell_type": "code",
      "metadata": {
        "id": "yqcrr41fzd-T",
        "colab_type": "code",
        "colab": {
          "base_uri": "https://localhost:8080/",
          "height": 719
        },
        "outputId": "f7a8b44a-38c7-4880-99cc-2c6304d066c9"
      },
      "source": [
        "print(puzzle_exactifier(model(x.float().cuda())), \"\\n\", y)"
      ],
      "execution_count": 32,
      "outputs": [
        {
          "output_type": "stream",
          "text": [
            "tensor([[[4., 4., 4., 6., 5., 5., 5., 5., 5.],\n",
            "         [5., 5., 5., 4., 4., 5., 6., 5., 5.],\n",
            "         [6., 5., 5., 5., 5., 5., 4., 4., 5.],\n",
            "         [5., 5., 5., 6., 6., 5., 4., 3., 5.],\n",
            "         [5., 5., 5., 5., 5., 4., 5., 5., 7.],\n",
            "         [5., 5., 5., 5., 5., 5., 5., 4., 7.],\n",
            "         [6., 6., 6., 5., 5., 5., 4., 5., 3.],\n",
            "         [5., 5., 5., 5., 6., 7., 4., 5., 4.],\n",
            "         [5., 5., 5., 3., 4., 4., 7., 8., 5.]],\n",
            "\n",
            "        [[4., 4., 5., 4., 4., 5., 8., 6., 5.],\n",
            "         [5., 5., 6., 4., 5., 6., 5., 5., 4.],\n",
            "         [5., 5., 6., 6., 6., 6., 4., 4., 3.],\n",
            "         [5., 5., 5., 5., 6., 5., 5., 6., 4.],\n",
            "         [5., 4., 4., 4., 4., 4., 5., 8., 6.],\n",
            "         [7., 6., 6., 6., 5., 5., 3., 5., 3.],\n",
            "         [5., 5., 5., 5., 5., 5., 5., 4., 7.],\n",
            "         [5., 5., 5., 5., 6., 5., 5., 3., 5.],\n",
            "         [5., 5., 5., 5., 5., 5., 5., 4., 7.]]], device='cuda:0',\n",
            "       grad_fn=<RoundBackward>) \n",
            " tensor([[[1., 7., 2., 9., 8., 3., 5., 6., 4.],\n",
            "         [6., 4., 3., 5., 1., 2., 7., 8., 9.],\n",
            "         [8., 5., 9., 7., 4., 6., 2., 3., 1.],\n",
            "         [9., 3., 5., 8., 7., 4., 1., 2., 6.],\n",
            "         [4., 1., 8., 2., 6., 9., 3., 7., 5.],\n",
            "         [2., 6., 7., 1., 3., 5., 9., 4., 8.],\n",
            "         [7., 2., 1., 6., 5., 8., 4., 9., 3.],\n",
            "         [5., 8., 4., 3., 9., 7., 6., 1., 2.],\n",
            "         [3., 9., 6., 4., 2., 1., 8., 5., 7.]],\n",
            "\n",
            "        [[9., 2., 8., 4., 5., 1., 3., 7., 6.],\n",
            "         [1., 4., 7., 3., 2., 6., 8., 5., 9.],\n",
            "         [5., 3., 6., 7., 8., 9., 1., 2., 4.],\n",
            "         [7., 5., 9., 2., 3., 4., 6., 8., 1.],\n",
            "         [3., 1., 4., 8., 6., 7., 2., 9., 5.],\n",
            "         [8., 6., 2., 1., 9., 5., 4., 3., 7.],\n",
            "         [4., 7., 3., 9., 1., 2., 5., 6., 8.],\n",
            "         [2., 9., 5., 6., 4., 8., 7., 1., 3.],\n",
            "         [6., 8., 1., 5., 7., 3., 9., 4., 2.]]], dtype=torch.float64)\n"
          ],
          "name": "stdout"
        }
      ]
    },
    {
      "cell_type": "code",
      "metadata": {
        "id": "koaxWgD5zriX",
        "colab_type": "code",
        "colab": {}
      },
      "source": [
        "model_parameters = filter(lambda p: p.requires_grad, model.parameters())\n",
        "params = sum([np.prod(p.size()) for p in model_parameters])"
      ],
      "execution_count": 0,
      "outputs": []
    },
    {
      "cell_type": "code",
      "metadata": {
        "id": "dz8EPwfR155A",
        "colab_type": "code",
        "colab": {
          "base_uri": "https://localhost:8080/",
          "height": 35
        },
        "outputId": "f4db3171-ee68-441d-e678-9e1cbf68a65f"
      },
      "source": [
        "params"
      ],
      "execution_count": 34,
      "outputs": [
        {
          "output_type": "execute_result",
          "data": {
            "text/plain": [
              "51688"
            ]
          },
          "metadata": {
            "tags": []
          },
          "execution_count": 34
        }
      ]
    },
    {
      "cell_type": "code",
      "metadata": {
        "id": "CWCX7vnu16-c",
        "colab_type": "code",
        "colab": {
          "base_uri": "https://localhost:8080/",
          "height": 73
        },
        "outputId": "560f7859-5013-40da-ef45-aadf295886ea"
      },
      "source": [
        "model = MonoModel(solver_depth=21).cuda()\n",
        "model_parameters = filter(lambda p: p.requires_grad, model.parameters())\n",
        "params = sum([np.prod(p.size()) for p in model_parameters])\n",
        "print(params)"
      ],
      "execution_count": 60,
      "outputs": [
        {
          "output_type": "stream",
          "text": [
            "[(9, 9), (9, 9), (9, 9), (9, 9), (9, 9), (9, 9), (9, 9), (9, 9), (9, 27), (27, 27), (27, 27), (27, 27), (27, 27), (27, 27), (27, 27), (27, 27), (27, 27), (27, 81), (81, 81)]\n",
            "2321264\n"
          ],
          "name": "stdout"
        }
      ]
    },
    {
      "cell_type": "code",
      "metadata": {
        "id": "GTwLVmAWy0n5",
        "colab_type": "code",
        "colab": {}
      },
      "source": [
        "l = get_loader(\"/content/\", batch_size=1, cap_train=10)"
      ],
      "execution_count": 0,
      "outputs": []
    },
    {
      "cell_type": "code",
      "metadata": {
        "id": "qA6BZxUizyzZ",
        "colab_type": "code",
        "colab": {}
      },
      "source": [
        "x, y = next(iter(l))"
      ],
      "execution_count": 0,
      "outputs": []
    },
    {
      "cell_type": "code",
      "metadata": {
        "id": "osFKZIGVz6Df",
        "colab_type": "code",
        "colab": {}
      },
      "source": [
        "y = y + 1\n",
        "x,y = x.float().cuda(), y.float().cuda()"
      ],
      "execution_count": 0,
      "outputs": []
    },
    {
      "cell_type": "code",
      "metadata": {
        "id": "1gq5yps6z6iX",
        "colab_type": "code",
        "colab": {
          "base_uri": "https://localhost:8080/",
          "height": 341
        },
        "outputId": "22181709-4300-46d8-943c-c214a65fac82"
      },
      "source": [
        "model(x)"
      ],
      "execution_count": 61,
      "outputs": [
        {
          "output_type": "execute_result",
          "data": {
            "text/plain": [
              "tensor([[[4.9943, 5.6332, 4.9995, 5.1285, 4.9935, 4.9972, 5.4056, 4.9936,\n",
              "          5.3876],\n",
              "         [4.9999, 4.9950, 4.9978, 4.9994, 4.9979, 4.9993, 4.9945, 5.3312,\n",
              "          5.2840],\n",
              "         [4.9949, 4.9987, 4.9933, 4.9949, 5.3602, 4.9947, 4.9929, 5.1748,\n",
              "          4.9967],\n",
              "         [4.9952, 4.9925, 4.9921, 5.6491, 4.9951, 4.9961, 5.2364, 5.3954,\n",
              "          4.9952],\n",
              "         [5.2926, 4.9907, 4.9983, 4.9954, 4.9954, 4.9983, 5.1374, 4.9982,\n",
              "          6.0181],\n",
              "         [4.9972, 4.9985, 5.3440, 5.0613, 4.9937, 4.9898, 5.5038, 4.9964,\n",
              "          5.0203],\n",
              "         [5.3115, 4.9999, 5.6669, 5.3995, 4.9856, 4.9997, 5.0589, 4.9936,\n",
              "          5.2659],\n",
              "         [4.9947, 4.9945, 4.9941, 4.9943, 5.0100, 4.9895, 4.9884, 5.1754,\n",
              "          4.9901],\n",
              "         [4.9967, 4.9945, 5.0000, 5.1664, 5.0258, 4.9948, 5.0051, 4.9969,\n",
              "          5.8408]]], device='cuda:0', grad_fn=<AddBackward0>)"
            ]
          },
          "metadata": {
            "tags": []
          },
          "execution_count": 61
        }
      ]
    },
    {
      "cell_type": "code",
      "metadata": {
        "id": "rp-E5_BU00Cm",
        "colab_type": "code",
        "colab": {}
      },
      "source": [
        ""
      ],
      "execution_count": 0,
      "outputs": []
    }
  ]
}