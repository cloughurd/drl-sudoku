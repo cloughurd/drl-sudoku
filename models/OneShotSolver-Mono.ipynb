{
  "nbformat": 4,
  "nbformat_minor": 0,
  "metadata": {
    "accelerator": "GPU",
    "colab": {
      "name": "OneShotSolver-Mono.ipynb",
      "provenance": []
    },
    "kernelspec": {
      "display_name": "Python 3",
      "language": "python",
      "name": "python3"
    },
    "language_info": {
      "codemirror_mode": {
        "name": "ipython",
        "version": 3
      },
      "file_extension": ".py",
      "mimetype": "text/x-python",
      "name": "python",
      "nbconvert_exporter": "python",
      "pygments_lexer": "ipython3",
      "version": "3.7.3"
    }
  },
  "cells": [
    {
      "cell_type": "code",
      "metadata": {
        "colab_type": "code",
        "id": "1HKn4Pcnp3Gx",
        "outputId": "6059172b-7055-4dd7-9876-9a223d8daba7",
        "colab": {
          "base_uri": "https://localhost:8080/",
          "height": 190
        }
      },
      "source": [
        "from google.colab import drive\n",
        "drive.mount('/content/gdrive')\n",
        "model_dir = '/content/gdrive/My Drive/Winter 2020/DL/Project 2/models/'\n",
        "!cp /content/gdrive/My\\ Drive/Winter\\ 2020/DL/Project\\ 2/data/*.zip .\n",
        "!unzip /content/sudoku.zip\n",
        "!mkdir /content/test\n",
        "!unzip /content/sudoku_test.zip -d /content/test\n",
        "!mv /content/test/sudoku.csv /content/sudoku_test.csv"
      ],
      "execution_count": 2,
      "outputs": [
        {
          "output_type": "stream",
          "text": [
            "Go to this URL in a browser: https://accounts.google.com/o/oauth2/auth?client_id=947318989803-6bn6qk8qdgf4n4g3pfee6491hc0brc4i.apps.googleusercontent.com&redirect_uri=urn%3aietf%3awg%3aoauth%3a2.0%3aoob&response_type=code&scope=email%20https%3a%2f%2fwww.googleapis.com%2fauth%2fdocs.test%20https%3a%2f%2fwww.googleapis.com%2fauth%2fdrive%20https%3a%2f%2fwww.googleapis.com%2fauth%2fdrive.photos.readonly%20https%3a%2f%2fwww.googleapis.com%2fauth%2fpeopleapi.readonly\n",
            "\n",
            "Enter your authorization code:\n",
            "··········\n",
            "Mounted at /content/gdrive\n",
            "Archive:  /content/sudoku.zip\n",
            "  inflating: sudoku.csv              \n",
            "Archive:  /content/sudoku_test.zip\n",
            "  inflating: /content/test/sudoku.csv  \n"
          ],
          "name": "stdout"
        }
      ]
    },
    {
      "cell_type": "code",
      "metadata": {
        "colab_type": "code",
        "id": "timuiMUSp3G1",
        "outputId": "d3b400d8-03d8-4b6c-da92-6066e3739b2f",
        "colab": {
          "base_uri": "https://localhost:8080/",
          "height": 136
        }
      },
      "source": [
        "!git clone https://github.com/cloughurd/drl-sudoku.git\n",
        "!mv drl-sudoku/data/* .\n",
        "!mv drl-sudoku/models/* ."
      ],
      "execution_count": 3,
      "outputs": [
        {
          "output_type": "stream",
          "text": [
            "Cloning into 'drl-sudoku'...\n",
            "remote: Enumerating objects: 154, done.\u001b[K\n",
            "remote: Counting objects: 100% (154/154), done.\u001b[K\n",
            "remote: Compressing objects: 100% (114/114), done.\u001b[K\n",
            "remote: Total 154 (delta 90), reused 72 (delta 33), pack-reused 0\u001b[K\n",
            "Receiving objects: 100% (154/154), 302.56 KiB | 3.60 MiB/s, done.\n",
            "Resolving deltas: 100% (90/90), done.\n"
          ],
          "name": "stdout"
        }
      ]
    },
    {
      "cell_type": "code",
      "metadata": {
        "colab_type": "code",
        "id": "k4WcZdj3p3G4",
        "colab": {}
      },
      "source": [
        "import numpy as np\n",
        "import torch\n",
        "import torch.nn as nn\n",
        "import torch.optim as optim\n",
        "from torch.utils.data import Dataset, DataLoader\n",
        "import torch.nn.functional as F\n",
        "import matplotlib.pyplot as plt\n",
        "from tqdm import tqdm\n",
        "import random\n",
        "from torch.utils.data.sampler import SubsetRandomSampler\n",
        "\n",
        "assert torch.cuda.is_available()\n",
        "from IPython.core.ultratb import AutoFormattedTB\n",
        "__ITB__ = AutoFormattedTB(mode = 'Verbose',color_scheme='LightBg', tb_offset = 1)"
      ],
      "execution_count": 0,
      "outputs": []
    },
    {
      "cell_type": "code",
      "metadata": {
        "id": "f-kfZRITqRtT",
        "colab_type": "code",
        "colab": {
          "base_uri": "https://localhost:8080/",
          "height": 1000
        },
        "outputId": "f5c66a16-f185-4e95-8c84-bee38bf5aab5"
      },
      "source": [
        "from cnn import BasicNet, BigNet\n",
        "from dataloader import *\n",
        "from display import *\n",
        "\n",
        "train_loader = get_loader(root='/content/', batch_size=512, train=True, mono=False, cap_train=1000000)\n",
        "test_loader = get_loader(root='/content/', batch_size=1, train=False, mono=False)\n",
        "const_x, const_y = next(iter(test_loader))\n",
        "print(const_x, '\\n', const_y)"
      ],
      "execution_count": 20,
      "outputs": [
        {
          "output_type": "stream",
          "text": [
            "tensor([[[[0., 0., 0., 0., 0., 0., 0., 0., 0.],\n",
            "          [0., 0., 0., 0., 0., 0., 0., 0., 1.],\n",
            "          [0., 0., 0., 0., 0., 0., 0., 0., 0.],\n",
            "          [0., 0., 0., 0., 0., 0., 0., 0., 0.],\n",
            "          [1., 0., 0., 0., 0., 0., 0., 0., 0.],\n",
            "          [0., 0., 0., 0., 0., 0., 0., 0., 0.],\n",
            "          [0., 0., 0., 0., 0., 0., 1., 0., 0.],\n",
            "          [0., 0., 0., 0., 0., 0., 0., 0., 0.],\n",
            "          [0., 0., 0., 0., 1., 0., 0., 0., 0.]],\n",
            "\n",
            "         [[0., 0., 0., 0., 0., 0., 1., 0., 0.],\n",
            "          [0., 0., 0., 0., 0., 0., 0., 0., 0.],\n",
            "          [0., 0., 0., 0., 0., 0., 0., 0., 0.],\n",
            "          [0., 0., 0., 0., 0., 1., 0., 0., 0.],\n",
            "          [0., 0., 0., 0., 0., 0., 0., 0., 0.],\n",
            "          [0., 0., 0., 0., 0., 0., 0., 0., 0.],\n",
            "          [0., 0., 0., 0., 0., 0., 0., 0., 0.],\n",
            "          [0., 0., 0., 0., 0., 0., 0., 0., 0.],\n",
            "          [0., 0., 1., 0., 0., 0., 0., 0., 0.]],\n",
            "\n",
            "         [[0., 0., 0., 1., 0., 0., 0., 0., 0.],\n",
            "          [0., 0., 0., 0., 0., 0., 0., 0., 0.],\n",
            "          [0., 0., 0., 0., 0., 0., 0., 0., 1.],\n",
            "          [0., 0., 0., 0., 0., 0., 0., 0., 0.],\n",
            "          [0., 0., 0., 0., 0., 0., 0., 0., 0.],\n",
            "          [0., 0., 0., 0., 0., 1., 0., 0., 0.],\n",
            "          [0., 0., 0., 0., 0., 0., 0., 0., 0.],\n",
            "          [0., 0., 1., 0., 0., 0., 0., 0., 0.],\n",
            "          [0., 0., 0., 0., 0., 0., 1., 0., 0.]],\n",
            "\n",
            "         [[0., 0., 1., 0., 0., 0., 0., 0., 0.],\n",
            "          [0., 0., 0., 0., 0., 0., 0., 0., 0.],\n",
            "          [0., 0., 0., 0., 0., 0., 0., 1., 0.],\n",
            "          [0., 0., 0., 0., 0., 0., 0., 0., 0.],\n",
            "          [0., 0., 0., 0., 0., 0., 1., 0., 0.],\n",
            "          [0., 0., 0., 0., 0., 0., 0., 0., 0.],\n",
            "          [0., 0., 0., 0., 0., 0., 0., 0., 0.],\n",
            "          [0., 0., 0., 0., 0., 0., 0., 0., 0.],\n",
            "          [0., 1., 0., 0., 0., 0., 0., 0., 0.]],\n",
            "\n",
            "         [[0., 0., 0., 0., 0., 0., 0., 0., 0.],\n",
            "          [0., 0., 1., 0., 0., 0., 0., 0., 0.],\n",
            "          [0., 0., 0., 0., 0., 0., 0., 0., 0.],\n",
            "          [0., 0., 0., 0., 0., 0., 0., 0., 0.],\n",
            "          [0., 0., 0., 0., 0., 0., 0., 0., 0.],\n",
            "          [0., 1., 0., 0., 0., 0., 0., 0., 0.],\n",
            "          [0., 0., 0., 0., 0., 0., 0., 0., 1.],\n",
            "          [0., 0., 0., 1., 0., 0., 0., 0., 0.],\n",
            "          [0., 0., 0., 0., 0., 0., 0., 0., 0.]],\n",
            "\n",
            "         [[0., 0., 0., 0., 0., 0., 0., 0., 0.],\n",
            "          [0., 0., 0., 0., 0., 0., 0., 0., 0.],\n",
            "          [0., 0., 0., 0., 1., 0., 0., 0., 0.],\n",
            "          [0., 0., 1., 0., 0., 0., 0., 0., 0.],\n",
            "          [0., 0., 0., 0., 0., 0., 0., 0., 0.],\n",
            "          [0., 0., 0., 0., 0., 0., 0., 0., 0.],\n",
            "          [1., 0., 0., 0., 0., 0., 0., 0., 0.],\n",
            "          [0., 0., 0., 0., 0., 0., 1., 0., 0.],\n",
            "          [0., 0., 0., 0., 0., 0., 0., 0., 0.]],\n",
            "\n",
            "         [[0., 0., 0., 0., 0., 0., 0., 0., 0.],\n",
            "          [0., 0., 0., 0., 0., 0., 0., 0., 0.],\n",
            "          [0., 1., 0., 0., 0., 0., 0., 0., 0.],\n",
            "          [0., 0., 0., 0., 0., 0., 0., 0., 1.],\n",
            "          [0., 0., 0., 0., 0., 1., 0., 0., 0.],\n",
            "          [0., 0., 0., 0., 0., 0., 0., 0., 0.],\n",
            "          [0., 0., 0., 0., 0., 0., 0., 0., 0.],\n",
            "          [0., 0., 0., 0., 0., 0., 0., 0., 0.],\n",
            "          [0., 0., 0., 0., 0., 0., 0., 0., 0.]],\n",
            "\n",
            "         [[0., 0., 0., 0., 0., 0., 0., 0., 0.],\n",
            "          [0., 0., 0., 0., 0., 0., 0., 0., 0.],\n",
            "          [0., 0., 0., 0., 0., 0., 0., 0., 0.],\n",
            "          [0., 0., 0., 0., 0., 0., 0., 1., 0.],\n",
            "          [0., 0., 0., 0., 0., 0., 0., 0., 0.],\n",
            "          [0., 0., 0., 0., 1., 0., 0., 0., 0.],\n",
            "          [0., 0., 0., 0., 0., 0., 0., 0., 0.],\n",
            "          [0., 0., 0., 0., 0., 1., 0., 0., 0.],\n",
            "          [0., 0., 0., 0., 0., 0., 0., 0., 0.]],\n",
            "\n",
            "         [[0., 0., 0., 0., 0., 0., 0., 0., 1.],\n",
            "          [0., 0., 0., 0., 0., 1., 0., 0., 0.],\n",
            "          [0., 0., 0., 0., 0., 0., 0., 0., 0.],\n",
            "          [0., 0., 0., 0., 0., 0., 0., 0., 0.],\n",
            "          [0., 1., 0., 0., 0., 0., 0., 0., 0.],\n",
            "          [0., 0., 0., 0., 0., 0., 0., 0., 0.],\n",
            "          [0., 0., 0., 0., 0., 0., 0., 0., 0.],\n",
            "          [0., 0., 0., 0., 0., 0., 0., 1., 0.],\n",
            "          [0., 0., 0., 1., 0., 0., 0., 0., 0.]]]], dtype=torch.float64) \n",
            " tensor([[[7., 5., 3., 2., 6., 0., 1., 4., 8.],\n",
            "         [2., 1., 4., 7., 3., 8., 6., 5., 0.],\n",
            "         [8., 6., 0., 1., 5., 4., 7., 3., 2.],\n",
            "         [3., 2., 5., 0., 8., 1., 4., 7., 6.],\n",
            "         [0., 8., 7., 5., 4., 6., 3., 2., 1.],\n",
            "         [1., 4., 6., 3., 7., 2., 8., 0., 5.],\n",
            "         [5., 7., 8., 6., 2., 3., 0., 1., 4.],\n",
            "         [6., 0., 2., 4., 1., 7., 5., 8., 3.],\n",
            "         [4., 3., 1., 8., 0., 5., 2., 6., 7.]]], dtype=torch.float64)\n"
          ],
          "name": "stdout"
        }
      ]
    },
    {
      "cell_type": "code",
      "metadata": {
        "colab_type": "code",
        "id": "mK9jXQPwp3G6",
        "colab": {}
      },
      "source": [
        "net = BasicNet(9)\n",
        "net = net.cuda()\n",
        "optimizer = optim.Adam(net.parameters(), lr=0.001)\n",
        "objective = nn.CrossEntropyLoss()\n",
        "losses = []"
      ],
      "execution_count": 0,
      "outputs": []
    },
    {
      "cell_type": "code",
      "metadata": {
        "colab_type": "code",
        "id": "n43Io0bsp3G-",
        "colab": {}
      },
      "source": [
        "def train(num_epochs=20, print_val_freq=1000, save_freq=5000):\n",
        "    step = 0\n",
        "    for i in range(num_epochs):\n",
        "        loop = tqdm(total=len(train_loader), position=0, leave=False)\n",
        "        for x, y in train_loader:\n",
        "            x = x.float()\n",
        "            x = (x - 4.5) / 4.5\n",
        "            x = x.cuda()\n",
        "            y = y.cuda()\n",
        "            optimizer.zero_grad()\n",
        "            \n",
        "            y_hat = net(x)\n",
        "            \n",
        "            loss = objective(y_hat.transpose(1,2), y.reshape((-1, 81)).long())\n",
        "            loss.backward()\n",
        "            optimizer.step()\n",
        "\n",
        "            loop.set_description('epoch:{}, loss:{:.4f}'.format(i, loss.item()))\n",
        "            loop.update(1)\n",
        "            \n",
        "            losses.append(loss.item())\n",
        "            \n",
        "            if step % print_val_freq == 0:\n",
        "                const_y_hat = net(const_x.cuda().float()).detach().cpu()\n",
        "                print('\\n')\n",
        "                print_tensor_puzzle(const_y_hat[0].reshape(9,9,9))\n",
        "            if step % save_freq == 0:\n",
        "                torch.save(net.state_dict(), model_dir + f'bignet-{i}.mod')\n",
        "            step += 1"
      ],
      "execution_count": 0,
      "outputs": []
    },
    {
      "cell_type": "code",
      "metadata": {
        "colab_type": "code",
        "id": "lo4cib9bp6jY",
        "outputId": "270d7276-a0f3-4fbb-eb80-1187c5e4948c",
        "colab": {
          "base_uri": "https://localhost:8080/",
          "height": 1000
        }
      },
      "source": [
        "train(8)"
      ],
      "execution_count": 23,
      "outputs": [
        {
          "output_type": "stream",
          "text": [
            "epoch:0, loss:2.3844:   0%|          | 1/1954 [00:00<06:42,  4.86it/s]"
          ],
          "name": "stderr"
        },
        {
          "output_type": "stream",
          "text": [
            "\n",
            "\n",
            "|-------|-------|-------|\n",
            "| 8 0 5 | 6 3 4 | 0 7 2 | \n",
            "| 1 4 0 | 6 6 8 | 2 5 6 | \n",
            "| 6 6 6 | 3 0 7 | 5 7 8 | \n",
            "|-------|-------|-------|\n",
            "| 2 0 5 | 2 7 6 | 1 1 4 | \n",
            "| 7 4 4 | 2 3 5 | 8 4 2 | \n",
            "| 7 4 2 | 8 1 2 | 5 4 8 | \n",
            "|-------|-------|-------|\n",
            "| 5 0 1 | 5 3 8 | 6 6 4 | \n",
            "| 0 3 6 | 3 4 1 | 5 2 8 | \n",
            "| 7 6 7 | 3 2 1 | 3 1 1 | \n",
            "|-------|-------|-------|\n"
          ],
          "name": "stdout"
        },
        {
          "output_type": "stream",
          "text": [
            "epoch:0, loss:0.6352:  51%|█████▏    | 1002/1954 [02:21<02:07,  7.48it/s]"
          ],
          "name": "stderr"
        },
        {
          "output_type": "stream",
          "text": [
            "\n",
            "\n",
            "|-------|-------|-------|\n",
            "| 7 2 0 | 2 4 0 | 4 5 8 | \n",
            "| 2 5 4 | 2 1 8 | 5 5 0 | \n",
            "| 8 5 0 | 0 5 4 | 1 3 2 | \n",
            "|-------|-------|-------|\n",
            "| 3 8 5 | 8 4 0 | 7 7 6 | \n",
            "| 0 8 7 | 5 4 5 | 2 4 4 | \n",
            "| 1 4 2 | 0 7 0 | 3 0 5 | \n",
            "|-------|-------|-------|\n",
            "| 5 0 8 | 1 2 3 | 0 6 4 | \n",
            "| 3 0 2 | 4 3 7 | 1 8 5 | \n",
            "| 4 3 1 | 8 0 5 | 7 5 5 | \n",
            "|-------|-------|-------|\n"
          ],
          "name": "stdout"
        },
        {
          "output_type": "stream",
          "text": [
            "epoch:1, loss:0.4498:   2%|▏         | 48/1954 [00:07<04:49,  6.59it/s]"
          ],
          "name": "stderr"
        },
        {
          "output_type": "stream",
          "text": [
            "\n",
            "\n",
            "|-------|-------|-------|\n",
            "| 8 5 0 | 2 4 4 | 4 4 5 | \n",
            "| 2 5 4 | 3 3 8 | 7 3 0 | \n",
            "| 3 6 0 | 0 5 4 | 4 3 2 | \n",
            "|-------|-------|-------|\n",
            "| 7 2 5 | 0 4 4 | 4 0 6 | \n",
            "| 0 8 1 | 5 4 6 | 4 7 5 | \n",
            "| 6 4 6 | 8 7 2 | 5 0 5 | \n",
            "|-------|-------|-------|\n",
            "| 5 7 8 | 7 2 3 | 0 6 4 | \n",
            "| 6 0 2 | 4 3 7 | 5 8 5 | \n",
            "| 4 3 7 | 8 0 5 | 2 1 7 | \n",
            "|-------|-------|-------|\n"
          ],
          "name": "stdout"
        },
        {
          "output_type": "stream",
          "text": [
            "epoch:1, loss:0.4049:  54%|█████▎    | 1048/1954 [02:29<02:08,  7.05it/s]"
          ],
          "name": "stderr"
        },
        {
          "output_type": "stream",
          "text": [
            "\n",
            "\n",
            "|-------|-------|-------|\n",
            "| 7 0 3 | 2 1 0 | 8 4 8 | \n",
            "| 1 2 4 | 7 6 8 | 7 5 0 | \n",
            "| 8 6 8 | 0 5 0 | 4 4 2 | \n",
            "|-------|-------|-------|\n",
            "| 2 5 5 | 0 8 0 | 8 7 6 | \n",
            "| 0 8 7 | 5 4 6 | 3 4 5 | \n",
            "| 6 4 6 | 5 7 2 | 8 0 8 | \n",
            "|-------|-------|-------|\n",
            "| 5 7 8 | 1 2 3 | 0 2 4 | \n",
            "| 6 0 2 | 4 6 7 | 5 8 1 | \n",
            "| 4 3 1 | 8 0 5 | 2 6 3 | \n",
            "|-------|-------|-------|\n"
          ],
          "name": "stdout"
        },
        {
          "output_type": "stream",
          "text": [
            "epoch:2, loss:0.4034:   5%|▍         | 94/1954 [00:13<04:08,  7.49it/s]"
          ],
          "name": "stderr"
        },
        {
          "output_type": "stream",
          "text": [
            "\n",
            "\n",
            "|-------|-------|-------|\n",
            "| 7 7 0 | 2 7 0 | 6 6 8 | \n",
            "| 2 2 4 | 7 7 8 | 1 5 0 | \n",
            "| 8 6 0 | 3 5 0 | 4 3 2 | \n",
            "|-------|-------|-------|\n",
            "| 3 5 7 | 0 8 3 | 8 7 6 | \n",
            "| 0 8 7 | 5 4 6 | 4 5 5 | \n",
            "| 1 4 6 | 0 8 2 | 8 0 8 | \n",
            "|-------|-------|-------|\n",
            "| 8 7 8 | 1 2 5 | 0 1 4 | \n",
            "| 6 0 2 | 4 3 7 | 5 8 1 | \n",
            "| 4 3 1 | 8 0 5 | 2 6 7 | \n",
            "|-------|-------|-------|\n"
          ],
          "name": "stdout"
        },
        {
          "output_type": "stream",
          "text": [
            "epoch:2, loss:0.3934:  56%|█████▌    | 1093/1954 [02:32<02:12,  6.49it/s]"
          ],
          "name": "stderr"
        },
        {
          "output_type": "stream",
          "text": [
            "\n",
            "\n",
            "|-------|-------|-------|\n",
            "| 7 0 3 | 2 6 0 | 6 6 8 | \n",
            "| 2 2 4 | 1 5 8 | 6 6 0 | \n",
            "| 5 6 0 | 0 1 4 | 4 3 2 | \n",
            "|-------|-------|-------|\n",
            "| 2 2 5 | 0 8 5 | 8 7 6 | \n",
            "| 0 8 5 | 5 5 6 | 3 1 5 | \n",
            "| 6 5 6 | 0 7 2 | 8 0 5 | \n",
            "|-------|-------|-------|\n",
            "| 8 1 6 | 5 2 3 | 0 6 4 | \n",
            "| 6 0 2 | 4 1 7 | 5 8 1 | \n",
            "| 4 3 5 | 8 0 5 | 2 6 1 | \n",
            "|-------|-------|-------|\n"
          ],
          "name": "stdout"
        },
        {
          "output_type": "stream",
          "text": [
            "epoch:3, loss:0.3816:   7%|▋         | 140/1954 [00:19<04:05,  7.37it/s]"
          ],
          "name": "stderr"
        },
        {
          "output_type": "stream",
          "text": [
            "\n",
            "\n",
            "|-------|-------|-------|\n",
            "| 8 0 3 | 2 6 0 | 6 5 8 | \n",
            "| 2 2 4 | 7 5 8 | 1 5 0 | \n",
            "| 8 6 8 | 0 4 4 | 8 3 2 | \n",
            "|-------|-------|-------|\n",
            "| 1 4 5 | 0 8 4 | 8 2 6 | \n",
            "| 0 8 5 | 5 4 6 | 3 1 5 | \n",
            "| 6 4 6 | 0 8 2 | 8 0 8 | \n",
            "|-------|-------|-------|\n",
            "| 8 5 8 | 5 2 3 | 0 6 4 | \n",
            "| 6 0 2 | 4 3 3 | 5 8 1 | \n",
            "| 4 3 6 | 8 0 5 | 2 6 7 | \n",
            "|-------|-------|-------|\n"
          ],
          "name": "stdout"
        },
        {
          "output_type": "stream",
          "text": [
            "epoch:3, loss:0.4003:  58%|█████▊    | 1140/1954 [02:37<02:04,  6.54it/s]"
          ],
          "name": "stderr"
        },
        {
          "output_type": "stream",
          "text": [
            "\n",
            "\n",
            "|-------|-------|-------|\n",
            "| 5 0 3 | 2 4 5 | 7 4 5 | \n",
            "| 2 2 4 | 3 3 8 | 1 5 0 | \n",
            "| 5 6 0 | 0 4 4 | 8 3 2 | \n",
            "|-------|-------|-------|\n",
            "| 2 2 1 | 0 8 3 | 8 7 6 | \n",
            "| 0 8 7 | 1 4 6 | 3 2 5 | \n",
            "| 6 4 6 | 0 7 2 | 8 5 8 | \n",
            "|-------|-------|-------|\n",
            "| 8 7 8 | 6 5 5 | 0 1 4 | \n",
            "| 1 0 2 | 4 6 7 | 5 8 3 | \n",
            "| 4 3 5 | 8 0 1 | 2 1 7 | \n",
            "|-------|-------|-------|\n"
          ],
          "name": "stdout"
        },
        {
          "output_type": "stream",
          "text": [
            "epoch:4, loss:0.3806:  10%|▉         | 186/1954 [00:26<04:31,  6.50it/s]"
          ],
          "name": "stderr"
        },
        {
          "output_type": "stream",
          "text": [
            "\n",
            "\n",
            "|-------|-------|-------|\n",
            "| 7 0 3 | 2 5 0 | 7 5 8 | \n",
            "| 2 2 4 | 7 6 8 | 7 5 0 | \n",
            "| 8 6 0 | 0 4 4 | 4 3 2 | \n",
            "|-------|-------|-------|\n",
            "| 2 2 5 | 0 4 1 | 8 7 6 | \n",
            "| 0 8 7 | 5 4 6 | 3 4 5 | \n",
            "| 6 4 6 | 0 7 2 | 8 0 5 | \n",
            "|-------|-------|-------|\n",
            "| 8 7 8 | 6 2 5 | 0 1 4 | \n",
            "| 4 0 2 | 4 5 7 | 5 8 1 | \n",
            "| 4 3 1 | 8 0 5 | 2 1 1 | \n",
            "|-------|-------|-------|\n"
          ],
          "name": "stdout"
        },
        {
          "output_type": "stream",
          "text": [
            "epoch:4, loss:0.3877:  61%|██████    | 1186/1954 [02:44<01:44,  7.38it/s]"
          ],
          "name": "stderr"
        },
        {
          "output_type": "stream",
          "text": [
            "\n",
            "\n",
            "|-------|-------|-------|\n",
            "| 7 0 3 | 2 4 5 | 5 4 8 | \n",
            "| 7 2 4 | 1 1 8 | 7 1 0 | \n",
            "| 8 6 0 | 5 4 4 | 7 3 2 | \n",
            "|-------|-------|-------|\n",
            "| 3 5 5 | 0 5 1 | 8 2 6 | \n",
            "| 0 8 5 | 5 4 6 | 3 4 5 | \n",
            "| 4 4 6 | 0 5 2 | 8 0 5 | \n",
            "|-------|-------|-------|\n",
            "| 8 7 8 | 3 6 3 | 0 1 4 | \n",
            "| 6 0 2 | 4 1 7 | 1 8 3 | \n",
            "| 4 3 7 | 8 0 1 | 2 5 1 | \n",
            "|-------|-------|-------|\n"
          ],
          "name": "stdout"
        },
        {
          "output_type": "stream",
          "text": [
            "epoch:5, loss:0.3785:  12%|█▏        | 231/1954 [00:32<03:52,  7.40it/s]"
          ],
          "name": "stderr"
        },
        {
          "output_type": "stream",
          "text": [
            "\n",
            "\n",
            "|-------|-------|-------|\n",
            "| 8 0 3 | 2 4 0 | 4 5 5 | \n",
            "| 2 2 4 | 1 7 8 | 6 5 0 | \n",
            "| 7 6 0 | 0 5 4 | 7 3 2 | \n",
            "|-------|-------|-------|\n",
            "| 1 4 5 | 0 4 4 | 8 2 6 | \n",
            "| 0 8 7 | 5 4 6 | 3 4 1 | \n",
            "| 3 4 6 | 0 7 2 | 8 0 5 | \n",
            "|-------|-------|-------|\n",
            "| 8 5 8 | 5 2 3 | 0 6 4 | \n",
            "| 5 0 2 | 4 6 7 | 5 8 3 | \n",
            "| 4 3 1 | 8 0 5 | 2 1 7 | \n",
            "|-------|-------|-------|\n"
          ],
          "name": "stdout"
        },
        {
          "output_type": "stream",
          "text": [
            "epoch:5, loss:0.3861:  63%|██████▎   | 1232/1954 [02:56<01:38,  7.33it/s]"
          ],
          "name": "stderr"
        },
        {
          "output_type": "stream",
          "text": [
            "\n",
            "\n",
            "|-------|-------|-------|\n",
            "| 8 0 3 | 2 5 0 | 8 5 8 | \n",
            "| 2 2 4 | 7 6 8 | 6 5 0 | \n",
            "| 8 6 8 | 0 4 4 | 8 3 2 | \n",
            "|-------|-------|-------|\n",
            "| 3 2 5 | 0 8 4 | 8 0 6 | \n",
            "| 0 8 5 | 7 5 6 | 3 4 5 | \n",
            "| 6 4 6 | 0 8 2 | 8 0 8 | \n",
            "|-------|-------|-------|\n",
            "| 5 1 8 | 6 2 5 | 0 1 4 | \n",
            "| 6 0 2 | 4 1 7 | 5 8 3 | \n",
            "| 4 3 1 | 8 0 5 | 2 6 1 | \n",
            "|-------|-------|-------|\n"
          ],
          "name": "stdout"
        },
        {
          "output_type": "stream",
          "text": [
            "epoch:6, loss:0.3730:  14%|█▍        | 278/1954 [00:39<03:49,  7.31it/s]"
          ],
          "name": "stderr"
        },
        {
          "output_type": "stream",
          "text": [
            "\n",
            "\n",
            "|-------|-------|-------|\n",
            "| 8 5 3 | 2 7 0 | 5 1 8 | \n",
            "| 1 2 4 | 3 1 8 | 7 5 0 | \n",
            "| 8 6 8 | 0 5 4 | 7 3 2 | \n",
            "|-------|-------|-------|\n",
            "| 1 2 5 | 3 4 1 | 8 2 6 | \n",
            "| 0 8 1 | 5 4 6 | 3 4 1 | \n",
            "| 6 4 6 | 0 8 2 | 8 0 5 | \n",
            "|-------|-------|-------|\n",
            "| 8 1 8 | 5 1 5 | 0 1 4 | \n",
            "| 1 0 2 | 4 3 7 | 1 8 3 | \n",
            "| 4 3 7 | 8 0 5 | 2 1 7 | \n",
            "|-------|-------|-------|\n"
          ],
          "name": "stdout"
        },
        {
          "output_type": "stream",
          "text": [
            "epoch:6, loss:0.3845:  65%|██████▌   | 1278/1954 [02:57<01:39,  6.80it/s]"
          ],
          "name": "stderr"
        },
        {
          "output_type": "stream",
          "text": [
            "\n",
            "\n",
            "|-------|-------|-------|\n",
            "| 5 0 3 | 2 7 0 | 7 5 8 | \n",
            "| 2 2 4 | 7 5 8 | 7 5 0 | \n",
            "| 8 6 8 | 0 4 4 | 7 3 2 | \n",
            "|-------|-------|-------|\n",
            "| 2 2 5 | 0 8 1 | 4 2 6 | \n",
            "| 0 8 1 | 5 4 6 | 3 2 1 | \n",
            "| 3 4 6 | 0 8 2 | 4 0 5 | \n",
            "|-------|-------|-------|\n",
            "| 8 5 8 | 5 5 5 | 0 1 4 | \n",
            "| 5 0 2 | 4 1 7 | 8 8 3 | \n",
            "| 4 3 1 | 8 0 5 | 2 5 1 | \n",
            "|-------|-------|-------|\n"
          ],
          "name": "stdout"
        },
        {
          "output_type": "stream",
          "text": [
            "epoch:7, loss:0.3735:  17%|█▋        | 324/1954 [00:44<03:58,  6.84it/s]"
          ],
          "name": "stderr"
        },
        {
          "output_type": "stream",
          "text": [
            "\n",
            "\n",
            "|-------|-------|-------|\n",
            "| 5 5 3 | 2 4 0 | 8 5 8 | \n",
            "| 5 5 4 | 7 3 8 | 7 5 0 | \n",
            "| 8 6 0 | 0 5 4 | 8 3 2 | \n",
            "|-------|-------|-------|\n",
            "| 5 4 5 | 0 8 0 | 8 0 6 | \n",
            "| 0 8 5 | 5 4 6 | 3 4 1 | \n",
            "| 1 4 6 | 0 4 2 | 8 0 5 | \n",
            "|-------|-------|-------|\n",
            "| 4 1 7 | 5 3 5 | 0 7 4 | \n",
            "| 7 0 2 | 4 1 7 | 5 8 7 | \n",
            "| 4 3 5 | 8 0 5 | 2 1 7 | \n",
            "|-------|-------|-------|\n"
          ],
          "name": "stdout"
        },
        {
          "output_type": "stream",
          "text": [
            "epoch:7, loss:0.3772:  68%|██████▊   | 1323/1954 [03:01<01:24,  7.50it/s]"
          ],
          "name": "stderr"
        },
        {
          "output_type": "stream",
          "text": [
            "\n",
            "\n",
            "|-------|-------|-------|\n",
            "| 5 0 3 | 2 5 0 | 7 5 8 | \n",
            "| 8 2 4 | 6 8 8 | 7 5 0 | \n",
            "| 8 6 0 | 5 4 4 | 1 3 2 | \n",
            "|-------|-------|-------|\n",
            "| 5 2 5 | 0 8 1 | 4 0 6 | \n",
            "| 0 8 1 | 7 4 6 | 3 2 1 | \n",
            "| 1 1 6 | 0 8 2 | 4 0 1 | \n",
            "|-------|-------|-------|\n",
            "| 8 7 8 | 5 5 3 | 0 1 4 | \n",
            "| 1 0 2 | 4 3 7 | 5 8 1 | \n",
            "| 4 3 5 | 8 0 5 | 2 1 1 | \n",
            "|-------|-------|-------|\n"
          ],
          "name": "stdout"
        },
        {
          "output_type": "stream",
          "text": [
            "epoch:7, loss:0.4626: 100%|█████████▉| 1953/1954 [04:30<00:00,  7.83it/s]"
          ],
          "name": "stderr"
        }
      ]
    },
    {
      "cell_type": "code",
      "metadata": {
        "colab_type": "code",
        "id": "-f-3xO0nrlQc",
        "colab": {}
      },
      "source": [
        "753 260 148\n",
        "214 738 650\n",
        "860 154 732\n",
        "\n",
        "325 081 476\n",
        "087 546 321\n",
        "146 372 805\n",
        "\n",
        "578 623 014\n",
        "602 417 583\n",
        "431 805 267"
      ],
      "execution_count": 0,
      "outputs": []
    },
    {
      "cell_type": "code",
      "metadata": {
        "id": "jDt7yHej_tB9",
        "colab_type": "code",
        "outputId": "1bdb7a9b-5c7e-47f0-ffbd-c4420adcd516",
        "colab": {
          "base_uri": "https://localhost:8080/",
          "height": 264
        }
      },
      "source": [
        "plt.plot(losses)\n",
        "plt.show()"
      ],
      "execution_count": 0,
      "outputs": [
        {
          "output_type": "display_data",
          "data": {
            "image/png": "[encoded data removed]",
            "text/plain": [
              "<Figure size 432x288 with 1 Axes>"
            ]
          },
          "metadata": {
            "tags": []
          }
        }
      ]
    },
    {
      "cell_type": "code",
      "metadata": {
        "id": "3mnibkoL_tCA",
        "colab_type": "code",
        "colab": {}
      },
      "source": [
        "import json\n",
        "json.dump(losses, open(model_dir + 'losses.json', 'w'), indent=4)"
      ],
      "execution_count": 0,
      "outputs": []
    },
    {
      "cell_type": "code",
      "metadata": {
        "id": "4p55Qv-JEYFj",
        "colab_type": "code",
        "outputId": "347fddb1-0d9b-4440-a58d-70a93224d560",
        "colab": {
          "base_uri": "https://localhost:8080/",
          "height": 34
        }
      },
      "source": [
        "model_parameters = filter(lambda p: p.requires_grad, net.parameters())\n",
        "params = sum([np.prod(p.size()) for p in model_parameters])\n",
        "params"
      ],
      "execution_count": 10,
      "outputs": [
        {
          "output_type": "execute_result",
          "data": {
            "text/plain": [
              "8257321"
            ]
          },
          "metadata": {
            "tags": []
          },
          "execution_count": 10
        }
      ]
    },
    {
      "cell_type": "code",
      "metadata": {
        "id": "qxuPZ4FzMNt9",
        "colab_type": "code",
        "colab": {}
      },
      "source": [
        ""
      ],
      "execution_count": 0,
      "outputs": []
    }
  ]
}