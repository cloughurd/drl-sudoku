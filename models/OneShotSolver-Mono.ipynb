{
  "nbformat": 4,
  "nbformat_minor": 0,
  "metadata": {
    "kernelspec": {
      "name": "python3",
      "display_name": "Python 3"
    },
    "language_info": {
      "codemirror_mode": {
        "name": "ipython",
        "version": 3
      },
      "file_extension": ".py",
      "mimetype": "text/x-python",
      "name": "python",
      "nbconvert_exporter": "python",
      "pygments_lexer": "ipython3",
      "version": "3.7.3"
    },
    "colab": {
      "name": "OneShotSolver-Mono.ipynb",
      "provenance": []
    },
    "accelerator": "GPU"
  },
  "cells": [
    {
      "cell_type": "code",
      "metadata": {
        "id": "1HKn4Pcnp3Gx",
        "colab_type": "code",
        "colab": {
          "base_uri": "https://localhost:8080/",
          "height": 190
        },
        "outputId": "b82338ad-a472-45ed-d619-733d7acabe6b"
      },
      "source": [
        "from google.colab import drive\n",
        "drive.mount('/content/gdrive')\n",
        "!cp /content/gdrive/My\\ Drive/Winter\\ 2020/DL/Project\\ 2/data/*.zip .\n",
        "!unzip /content/sudoku.zip\n",
        "!mkdir /content/test\n",
        "!unzip /content/sudoku_test.zip -d /content/test\n",
        "!mv /content/test/sudoku.csv /content/sudoku_test.csv"
      ],
      "execution_count": 2,
      "outputs": [
        {
          "output_type": "stream",
          "text": [
            "Go to this URL in a browser: https://accounts.google.com/o/oauth2/auth?client_id=947318989803-6bn6qk8qdgf4n4g3pfee6491hc0brc4i.apps.googleusercontent.com&redirect_uri=urn%3aietf%3awg%3aoauth%3a2.0%3aoob&response_type=code&scope=email%20https%3a%2f%2fwww.googleapis.com%2fauth%2fdocs.test%20https%3a%2f%2fwww.googleapis.com%2fauth%2fdrive%20https%3a%2f%2fwww.googleapis.com%2fauth%2fdrive.photos.readonly%20https%3a%2f%2fwww.googleapis.com%2fauth%2fpeopleapi.readonly\n",
            "\n",
            "Enter your authorization code:\n",
            "··········\n",
            "Mounted at /content/gdrive\n",
            "Archive:  /content/sudoku.zip\n",
            "  inflating: sudoku.csv              \n",
            "Archive:  /content/sudoku_test.zip\n",
            "  inflating: /content/test/sudoku.csv  \n"
          ],
          "name": "stdout"
        }
      ]
    },
    {
      "cell_type": "code",
      "metadata": {
        "id": "timuiMUSp3G1",
        "colab_type": "code",
        "colab": {
          "base_uri": "https://localhost:8080/",
          "height": 119
        },
        "outputId": "35e137ec-5bd2-4b0e-bbbc-ce2bc34ae753"
      },
      "source": [
        "!git clone https://github.com/cloughurd/drl-sudoku.git\n",
        "!mv drl-sudoku/data/* .\n",
        "!mv drl-sudoku/models/* ."
      ],
      "execution_count": 3,
      "outputs": [
        {
          "output_type": "stream",
          "text": [
            "Cloning into 'drl-sudoku'...\n",
            "remote: Enumerating objects: 75, done.\u001b[K\n",
            "remote: Counting objects: 100% (75/75), done.\u001b[K\n",
            "remote: Compressing objects: 100% (57/57), done.\u001b[K\n",
            "remote: Total 75 (delta 38), reused 34 (delta 11), pack-reused 0\u001b[K\n",
            "Unpacking objects: 100% (75/75), done.\n"
          ],
          "name": "stdout"
        }
      ]
    },
    {
      "cell_type": "code",
      "metadata": {
        "id": "k4WcZdj3p3G4",
        "colab_type": "code",
        "colab": {}
      },
      "source": [
        "import numpy as np\n",
        "import torch\n",
        "import torch.nn as nn\n",
        "import torch.optim as optim\n",
        "from torch.utils.data import Dataset, DataLoader\n",
        "import torch.nn.functional as F\n",
        "import matplotlib.pyplot as plt\n",
        "from tqdm import tqdm\n",
        "import random\n",
        "from torch.utils.data.sampler import SubsetRandomSampler\n",
        "\n",
        "assert torch.cuda.is_available()\n",
        "from IPython.core.ultratb import AutoFormattedTB\n",
        "__ITB__ = AutoFormattedTB(mode = 'Verbose',color_scheme='LightBg', tb_offset = 1)"
      ],
      "execution_count": 0,
      "outputs": []
    },
    {
      "cell_type": "code",
      "metadata": {
        "id": "mK9jXQPwp3G6",
        "colab_type": "code",
        "colab": {
          "base_uri": "https://localhost:8080/",
          "height": 323
        },
        "outputId": "c37ccb9f-4ba3-4171-e7b2-02d7b3a5e52d"
      },
      "source": [
        "from cnn import BasicNet\n",
        "from dataloader import *\n",
        "from display import *\n",
        "\n",
        "train_loader = get_loader(root='/content/', batch_size=512, train=True, cap_train=3000000)\n",
        "test_loader = get_loader(root='/content/', batch_size=1, train=False)\n",
        "const_x, const_y = next(iter(test_loader))\n",
        "print(const_x, '\\n', const_y)\n",
        "net = BasicNet(1)\n",
        "net = net.cuda()\n",
        "optimizer = optim.Adam(net.parameters())\n",
        "objective = nn.CrossEntropyLoss()\n",
        "losses = []"
      ],
      "execution_count": 5,
      "outputs": [
        {
          "output_type": "stream",
          "text": [
            "tensor([[[[0., 0., 4., 3., 0., 0., 2., 0., 9.],\n",
            "          [0., 0., 5., 0., 0., 9., 0., 0., 1.],\n",
            "          [0., 7., 0., 0., 6., 0., 0., 4., 3.],\n",
            "          [0., 0., 6., 0., 0., 2., 0., 8., 7.],\n",
            "          [1., 9., 0., 0., 0., 7., 4., 0., 0.],\n",
            "          [0., 5., 0., 0., 8., 3., 0., 0., 0.],\n",
            "          [6., 0., 0., 0., 0., 0., 1., 0., 5.],\n",
            "          [0., 0., 3., 5., 0., 8., 6., 9., 0.],\n",
            "          [0., 4., 2., 9., 1., 0., 3., 0., 0.]]]], dtype=torch.float64) \n",
            " tensor([[[7., 5., 3., 2., 6., 0., 1., 4., 8.],\n",
            "         [2., 1., 4., 7., 3., 8., 6., 5., 0.],\n",
            "         [8., 6., 0., 1., 5., 4., 7., 3., 2.],\n",
            "         [3., 2., 5., 0., 8., 1., 4., 7., 6.],\n",
            "         [0., 8., 7., 5., 4., 6., 3., 2., 1.],\n",
            "         [1., 4., 6., 3., 7., 2., 8., 0., 5.],\n",
            "         [5., 7., 8., 6., 2., 3., 0., 1., 4.],\n",
            "         [6., 0., 2., 4., 1., 7., 5., 8., 3.],\n",
            "         [4., 3., 1., 8., 0., 5., 2., 6., 7.]]], dtype=torch.float64)\n"
          ],
          "name": "stdout"
        }
      ]
    },
    {
      "cell_type": "code",
      "metadata": {
        "id": "n43Io0bsp3G-",
        "colab_type": "code",
        "colab": {}
      },
      "source": [
        "def train(num_epochs=20, print_val_freq=1000):\n",
        "    step = 0\n",
        "    for i in range(num_epochs):\n",
        "        loop = tqdm(total=len(train_loader), position=0, leave=False)\n",
        "        for x, y in train_loader:\n",
        "            optimizer.zero_grad()\n",
        "            \n",
        "            x = x.cuda().float()\n",
        "            y_hat = net(x)\n",
        "            \n",
        "            loss = objective(y_hat.transpose(1,2), y.reshape((-1, 81)).cuda().long())\n",
        "            loss.backward()\n",
        "            optimizer.step()\n",
        "\n",
        "            loop.set_description('epoch:{}, loss:{:.4f}'.format(i, loss.item()))\n",
        "            loop.update(1)\n",
        "            \n",
        "            losses.append(loss.item())\n",
        "            \n",
        "            if step % print_val_freq == 0:\n",
        "                const_y_hat = net(const_x.cuda().float()).detach().cpu()\n",
        "                print('\\n')\n",
        "                print_tensor_puzzle(const_y_hat[0].reshape(9,9,9))\n",
        "            step += 1"
      ],
      "execution_count": 0,
      "outputs": []
    },
    {
      "cell_type": "code",
      "metadata": {
        "id": "lo4cib9bp6jY",
        "colab_type": "code",
        "colab": {
          "base_uri": "https://localhost:8080/",
          "height": 1000
        },
        "outputId": "c2e1942a-d1a1-4a6a-e6e9-851e8c855c9e"
      },
      "source": [
        "train()"
      ],
      "execution_count": 0,
      "outputs": [
        {
          "output_type": "stream",
          "text": [
            "epoch:0, loss:2.1837:   0%|          | 1/5860 [00:00<42:45,  2.28it/s]"
          ],
          "name": "stderr"
        },
        {
          "output_type": "stream",
          "text": [
            "|-------|-------|-------|\n",
            "| 6 0 0 | 8 6 3 | 5 1 3 | \n",
            "| 8 4 0 | 8 8 1 | 1 2 1 | \n",
            "| 1 7 3 | 2 0 2 | 2 4 7 | \n",
            "|-------|-------|-------|\n",
            "| 5 0 3 | 6 6 5 | 1 5 8 | \n",
            "| 7 8 1 | 3 1 7 | 8 4 6 | \n",
            "| 1 3 2 | 4 8 6 | 0 1 2 | \n",
            "|-------|-------|-------|\n",
            "| 7 7 7 | 3 0 6 | 6 6 8 | \n",
            "| 1 1 3 | 3 7 7 | 8 5 0 | \n",
            "| 3 4 6 | 7 3 0 | 6 0 0 | \n",
            "|-------|-------|-------|\n"
          ],
          "name": "stdout"
        },
        {
          "output_type": "stream",
          "text": [
            "epoch:0, loss:0.4976:  17%|█▋        | 1002/5860 [02:55<14:10,  5.71it/s]"
          ],
          "name": "stderr"
        },
        {
          "output_type": "stream",
          "text": [
            "|-------|-------|-------|\n",
            "| 3 0 3 | 2 7 0 | 1 5 8 | \n",
            "| 2 2 4 | 7 3 8 | 7 5 0 | \n",
            "| 8 7 8 | 1 5 0 | 4 3 2 | \n",
            "|-------|-------|-------|\n",
            "| 3 2 5 | 0 4 1 | 8 7 7 | \n",
            "| 0 8 7 | 5 4 6 | 3 2 1 | \n",
            "| 3 4 6 | 0 8 2 | 8 0 5 | \n",
            "|-------|-------|-------|\n",
            "| 5 7 8 | 1 2 3 | 0 1 4 | \n",
            "| 4 0 2 | 5 3 7 | 6 8 1 | \n",
            "| 7 3 1 | 8 0 5 | 2 5 7 | \n",
            "|-------|-------|-------|\n"
          ],
          "name": "stdout"
        },
        {
          "output_type": "stream",
          "text": [
            "epoch:0, loss:0.4373:  34%|███▍      | 2002/5860 [05:46<11:07,  5.78it/s]"
          ],
          "name": "stderr"
        },
        {
          "output_type": "stream",
          "text": [
            "|-------|-------|-------|\n",
            "| 7 0 3 | 2 4 0 | 1 6 8 | \n",
            "| 2 2 4 | 7 1 8 | 7 6 0 | \n",
            "| 8 7 8 | 1 5 0 | 4 3 2 | \n",
            "|-------|-------|-------|\n",
            "| 3 2 5 | 0 4 1 | 4 7 6 | \n",
            "| 0 8 7 | 5 4 6 | 3 1 1 | \n",
            "| 1 4 6 | 0 7 2 | 8 0 1 | \n",
            "|-------|-------|-------|\n",
            "| 5 8 8 | 1 2 3 | 0 1 4 | \n",
            "| 6 0 2 | 4 1 7 | 5 8 1 | \n",
            "| 4 3 1 | 8 0 5 | 2 6 7 | \n",
            "|-------|-------|-------|\n"
          ],
          "name": "stdout"
        },
        {
          "output_type": "stream",
          "text": [
            "epoch:0, loss:0.4244:  51%|█████     | 3002/5860 [08:48<08:46,  5.43it/s]"
          ],
          "name": "stderr"
        },
        {
          "output_type": "stream",
          "text": [
            "|-------|-------|-------|\n",
            "| 7 0 3 | 2 4 0 | 1 4 8 | \n",
            "| 2 2 4 | 3 1 8 | 7 6 0 | \n",
            "| 8 6 8 | 0 5 4 | 4 3 2 | \n",
            "|-------|-------|-------|\n",
            "| 3 2 5 | 0 8 1 | 8 7 6 | \n",
            "| 0 8 7 | 5 4 6 | 3 2 5 | \n",
            "| 3 4 6 | 5 7 2 | 8 0 5 | \n",
            "|-------|-------|-------|\n",
            "| 5 7 8 | 1 2 3 | 0 1 4 | \n",
            "| 6 0 2 | 4 1 7 | 5 8 3 | \n",
            "| 4 3 1 | 8 0 5 | 2 6 7 | \n",
            "|-------|-------|-------|\n"
          ],
          "name": "stdout"
        },
        {
          "output_type": "stream",
          "text": [
            "epoch:0, loss:0.4033:  68%|██████▊   | 4002/5860 [11:47<05:31,  5.61it/s]"
          ],
          "name": "stderr"
        },
        {
          "output_type": "stream",
          "text": [
            "|-------|-------|-------|\n",
            "| 7 5 3 | 2 6 4 | 1 5 8 | \n",
            "| 2 2 4 | 7 1 8 | 6 6 0 | \n",
            "| 8 6 8 | 1 5 4 | 7 3 2 | \n",
            "|-------|-------|-------|\n",
            "| 3 2 5 | 0 8 1 | 8 7 6 | \n",
            "| 0 8 7 | 5 4 6 | 3 1 1 | \n",
            "| 3 4 6 | 0 7 2 | 8 0 1 | \n",
            "|-------|-------|-------|\n",
            "| 5 7 8 | 1 2 3 | 0 1 4 | \n",
            "| 6 0 2 | 4 1 7 | 5 8 3 | \n",
            "| 4 3 1 | 8 0 5 | 2 6 7 | \n",
            "|-------|-------|-------|\n"
          ],
          "name": "stdout"
        },
        {
          "output_type": "stream",
          "text": [
            "epoch:0, loss:0.3995:  85%|████████▌ | 5002/5860 [14:45<02:33,  5.60it/s]"
          ],
          "name": "stderr"
        },
        {
          "output_type": "stream",
          "text": [
            "|-------|-------|-------|\n",
            "| 7 0 3 | 2 6 0 | 1 6 8 | \n",
            "| 2 2 4 | 1 6 8 | 6 5 0 | \n",
            "| 8 6 8 | 1 5 4 | 4 3 2 | \n",
            "|-------|-------|-------|\n",
            "| 3 2 5 | 0 8 1 | 8 7 6 | \n",
            "| 0 8 7 | 5 4 6 | 3 2 5 | \n",
            "| 3 4 6 | 0 7 2 | 8 5 1 | \n",
            "|-------|-------|-------|\n",
            "| 5 7 8 | 1 2 3 | 0 1 4 | \n",
            "| 6 0 2 | 4 1 7 | 5 8 1 | \n",
            "| 4 3 1 | 8 0 5 | 2 6 7 | \n",
            "|-------|-------|-------|\n"
          ],
          "name": "stdout"
        },
        {
          "output_type": "stream",
          "text": [
            "epoch:1, loss:0.4029:   2%|▏         | 142/5860 [00:25<16:54,  5.63it/s]"
          ],
          "name": "stderr"
        },
        {
          "output_type": "stream",
          "text": [
            "|-------|-------|-------|\n",
            "| 7 0 3 | 2 6 0 | 1 5 8 | \n",
            "| 2 2 4 | 3 3 8 | 6 6 0 | \n",
            "| 8 6 8 | 7 5 0 | 4 3 2 | \n",
            "|-------|-------|-------|\n",
            "| 3 2 5 | 0 8 1 | 8 7 6 | \n",
            "| 0 8 7 | 5 4 6 | 3 2 5 | \n",
            "| 3 4 6 | 0 7 2 | 8 0 1 | \n",
            "|-------|-------|-------|\n",
            "| 5 7 8 | 1 2 3 | 0 6 4 | \n",
            "| 6 0 2 | 4 3 7 | 5 8 3 | \n",
            "| 4 3 1 | 8 0 5 | 2 6 7 | \n",
            "|-------|-------|-------|\n"
          ],
          "name": "stdout"
        },
        {
          "output_type": "stream",
          "text": [
            "epoch:1, loss:0.3922:  19%|█▉        | 1142/5860 [03:25<14:08,  5.56it/s]"
          ],
          "name": "stderr"
        },
        {
          "output_type": "stream",
          "text": [
            "|-------|-------|-------|\n",
            "| 7 5 3 | 2 4 0 | 1 5 8 | \n",
            "| 2 2 4 | 7 1 8 | 6 6 0 | \n",
            "| 8 6 8 | 0 5 4 | 4 3 2 | \n",
            "|-------|-------|-------|\n",
            "| 3 2 5 | 0 8 1 | 8 7 6 | \n",
            "| 0 8 7 | 5 4 6 | 3 2 5 | \n",
            "| 3 4 6 | 0 7 2 | 8 5 1 | \n",
            "|-------|-------|-------|\n",
            "| 5 7 8 | 1 2 3 | 0 1 4 | \n",
            "| 6 0 2 | 4 1 7 | 5 8 3 | \n",
            "| 4 3 1 | 8 0 5 | 2 6 7 | \n",
            "|-------|-------|-------|\n"
          ],
          "name": "stdout"
        },
        {
          "output_type": "stream",
          "text": [
            "epoch:1, loss:0.4011:  37%|███▋      | 2142/5860 [06:25<11:06,  5.58it/s]"
          ],
          "name": "stderr"
        },
        {
          "output_type": "stream",
          "text": [
            "|-------|-------|-------|\n",
            "| 7 0 3 | 2 4 0 | 1 6 8 | \n",
            "| 2 2 4 | 7 3 8 | 6 6 0 | \n",
            "| 8 6 8 | 7 5 4 | 4 3 2 | \n",
            "|-------|-------|-------|\n",
            "| 3 2 5 | 0 8 1 | 8 7 6 | \n",
            "| 0 8 7 | 5 4 6 | 3 2 1 | \n",
            "| 3 4 6 | 0 7 2 | 8 0 1 | \n",
            "|-------|-------|-------|\n",
            "| 5 7 8 | 1 2 3 | 0 1 4 | \n",
            "| 6 0 2 | 4 1 7 | 5 8 3 | \n",
            "| 4 3 1 | 8 0 5 | 2 6 7 | \n",
            "|-------|-------|-------|\n"
          ],
          "name": "stdout"
        },
        {
          "output_type": "stream",
          "text": [
            "epoch:1, loss:0.3901:  54%|█████▎    | 3142/5860 [09:23<08:02,  5.63it/s]"
          ],
          "name": "stderr"
        },
        {
          "output_type": "stream",
          "text": [
            "|-------|-------|-------|\n",
            "| 7 5 3 | 2 4 4 | 1 5 8 | \n",
            "| 2 2 4 | 1 3 8 | 6 6 0 | \n",
            "| 8 6 8 | 0 5 0 | 4 3 2 | \n",
            "|-------|-------|-------|\n",
            "| 3 2 5 | 0 4 1 | 4 7 6 | \n",
            "| 0 8 7 | 5 4 6 | 3 2 5 | \n",
            "| 3 4 6 | 5 7 2 | 8 0 1 | \n",
            "|-------|-------|-------|\n",
            "| 5 7 8 | 1 2 3 | 0 1 4 | \n",
            "| 6 0 2 | 4 1 7 | 5 8 3 | \n",
            "| 4 3 1 | 8 0 5 | 2 6 7 | \n",
            "|-------|-------|-------|\n"
          ],
          "name": "stdout"
        },
        {
          "output_type": "stream",
          "text": [
            "epoch:1, loss:0.3849:  71%|███████   | 4142/5860 [12:22<05:12,  5.50it/s]"
          ],
          "name": "stderr"
        },
        {
          "output_type": "stream",
          "text": [
            "|-------|-------|-------|\n",
            "| 7 0 3 | 2 4 0 | 1 5 8 | \n",
            "| 2 2 4 | 3 6 8 | 6 6 0 | \n",
            "| 8 6 8 | 0 5 4 | 4 3 2 | \n",
            "|-------|-------|-------|\n",
            "| 3 2 5 | 0 8 1 | 8 7 6 | \n",
            "| 0 8 7 | 5 4 6 | 3 2 5 | \n",
            "| 3 4 6 | 0 7 2 | 8 0 5 | \n",
            "|-------|-------|-------|\n",
            "| 5 7 8 | 1 2 3 | 0 1 4 | \n",
            "| 6 0 2 | 4 1 7 | 5 8 3 | \n",
            "| 4 3 1 | 8 0 5 | 2 6 7 | \n",
            "|-------|-------|-------|\n"
          ],
          "name": "stdout"
        },
        {
          "output_type": "stream",
          "text": [
            "epoch:1, loss:0.3866:  83%|████████▎ | 4851/5860 [14:29<02:55,  5.76it/s]"
          ],
          "name": "stderr"
        }
      ]
    },
    {
      "cell_type": "code",
      "metadata": {
        "id": "-f-3xO0nrlQc",
        "colab_type": "code",
        "colab": {}
      },
      "source": [
        "753 260 148\n",
        "214 738 650\n",
        "860 154 732\n",
        "\n",
        "325 081 476\n",
        "087 546 321\n",
        "146 372 805\n",
        "\n",
        "578 623 014\n",
        "602 417 583\n",
        "431 805 267"
      ],
      "execution_count": 0,
      "outputs": []
    }
  ]
}