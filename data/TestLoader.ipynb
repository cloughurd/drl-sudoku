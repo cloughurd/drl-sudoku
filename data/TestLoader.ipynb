{
 "cells": [
  {
   "cell_type": "code",
   "execution_count": 6,
   "metadata": {},
   "outputs": [],
   "source": [
    "from dataloader import *\n",
    "\n",
    "loader = get_loader('./', batch_size=1, mono=True, train=True)"
   ]
  },
  {
   "cell_type": "code",
   "execution_count": 7,
   "metadata": {},
   "outputs": [],
   "source": [
    "x, y = next(iter(loader))"
   ]
  },
  {
   "cell_type": "code",
   "execution_count": 8,
   "metadata": {},
   "outputs": [
    {
     "data": {
      "text/plain": [
       "tensor([[[[2., 0., 0., 1., 0., 5., 7., 0., 0.],\n",
       "          [8., 0., 0., 6., 2., 7., 3., 0., 1.],\n",
       "          [7., 6., 1., 0., 8., 0., 5., 0., 0.],\n",
       "          [0., 0., 0., 2., 0., 9., 0., 3., 7.],\n",
       "          [3., 0., 0., 0., 0., 0., 0., 1., 0.],\n",
       "          [0., 0., 6., 5., 0., 0., 9., 2., 0.],\n",
       "          [0., 3., 2., 9., 0., 0., 0., 0., 0.],\n",
       "          [1., 0., 0., 7., 0., 0., 0., 5., 0.],\n",
       "          [9., 0., 0., 0., 4., 0., 0., 0., 3.]]]], dtype=torch.float64)"
      ]
     },
     "execution_count": 8,
     "metadata": {},
     "output_type": "execute_result"
    }
   ],
   "source": [
    "x"
   ]
  },
  {
   "cell_type": "code",
   "execution_count": 9,
   "metadata": {},
   "outputs": [
    {
     "data": {
      "text/plain": [
       "tensor([[[1., 3., 2., 0., 8., 4., 6., 7., 5.],\n",
       "         [7., 8., 4., 5., 1., 6., 2., 3., 0.],\n",
       "         [6., 5., 0., 2., 7., 3., 4., 8., 1.],\n",
       "         [4., 0., 7., 1., 5., 8., 3., 2., 6.],\n",
       "         [2., 1., 8., 3., 6., 7., 5., 0., 4.],\n",
       "         [3., 6., 5., 4., 0., 2., 8., 1., 7.],\n",
       "         [5., 2., 1., 8., 4., 0., 7., 6., 3.],\n",
       "         [0., 7., 3., 6., 2., 5., 1., 4., 8.],\n",
       "         [8., 4., 6., 7., 3., 1., 0., 5., 2.]]], dtype=torch.float64)"
      ]
     },
     "execution_count": 9,
     "metadata": {},
     "output_type": "execute_result"
    }
   ],
   "source": [
    "y"
   ]
  },
  {
   "cell_type": "code",
   "execution_count": null,
   "metadata": {},
   "outputs": [],
   "source": []
  }
 ],
 "metadata": {
  "kernelspec": {
   "display_name": "Python 3",
   "language": "python",
   "name": "python3"
  },
  "language_info": {
   "codemirror_mode": {
    "name": "ipython",
    "version": 3
   },
   "file_extension": ".py",
   "mimetype": "text/x-python",
   "name": "python",
   "nbconvert_exporter": "python",
   "pygments_lexer": "ipython3",
   "version": "3.7.3"
  }
 },
 "nbformat": 4,
 "nbformat_minor": 2
}
