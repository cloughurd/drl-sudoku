{
 "cells": [
  {
   "cell_type": "code",
   "execution_count": 1,
   "metadata": {},
   "outputs": [],
   "source": [
    "from dataloader import *\n",
    "\n",
    "loader = get_loader(batch_size=1, mono=True, train=False)"
   ]
  },
  {
   "cell_type": "code",
   "execution_count": 2,
   "metadata": {},
   "outputs": [],
   "source": [
    "x, y = next(iter(loader))"
   ]
  },
  {
   "cell_type": "code",
   "execution_count": 3,
   "metadata": {},
   "outputs": [
    {
     "data": {
      "text/plain": [
       "tensor([[[0., 0., 4., 3., 0., 0., 2., 0., 9.],\n",
       "         [0., 0., 5., 0., 0., 9., 0., 0., 1.],\n",
       "         [0., 7., 0., 0., 6., 0., 0., 4., 3.],\n",
       "         [0., 0., 6., 0., 0., 2., 0., 8., 7.],\n",
       "         [1., 9., 0., 0., 0., 7., 4., 0., 0.],\n",
       "         [0., 5., 0., 0., 8., 3., 0., 0., 0.],\n",
       "         [6., 0., 0., 0., 0., 0., 1., 0., 5.],\n",
       "         [0., 0., 3., 5., 0., 8., 6., 9., 0.],\n",
       "         [0., 4., 2., 9., 1., 0., 3., 0., 0.]]], dtype=torch.float64)"
      ]
     },
     "execution_count": 3,
     "metadata": {},
     "output_type": "execute_result"
    }
   ],
   "source": [
    "x"
   ]
  },
  {
   "cell_type": "code",
   "execution_count": 4,
   "metadata": {},
   "outputs": [
    {
     "data": {
      "text/plain": [
       "torch.Size([1, 9, 9])"
      ]
     },
     "execution_count": 4,
     "metadata": {},
     "output_type": "execute_result"
    }
   ],
   "source": [
    "x.shape"
   ]
  },
  {
   "cell_type": "code",
   "execution_count": null,
   "metadata": {},
   "outputs": [],
   "source": []
  }
 ],
 "metadata": {
  "kernelspec": {
   "display_name": "Python 3",
   "language": "python",
   "name": "python3"
  },
  "language_info": {
   "codemirror_mode": {
    "name": "ipython",
    "version": 3
   },
   "file_extension": ".py",
   "mimetype": "text/x-python",
   "name": "python",
   "nbconvert_exporter": "python",
   "pygments_lexer": "ipython3",
   "version": "3.7.3"
  }
 },
 "nbformat": 4,
 "nbformat_minor": 2
}
