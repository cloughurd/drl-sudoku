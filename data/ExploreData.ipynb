{
 "cells": [
  {
   "cell_type": "code",
   "execution_count": 1,
   "metadata": {},
   "outputs": [
    {
     "data": {
      "text/html": [
       "<div>\n",
       "<style scoped>\n",
       "    .dataframe tbody tr th:only-of-type {\n",
       "        vertical-align: middle;\n",
       "    }\n",
       "\n",
       "    .dataframe tbody tr th {\n",
       "        vertical-align: top;\n",
       "    }\n",
       "\n",
       "    .dataframe thead th {\n",
       "        text-align: right;\n",
       "    }\n",
       "</style>\n",
       "<table border=\"1\" class=\"dataframe\">\n",
       "  <thead>\n",
       "    <tr style=\"text-align: right;\">\n",
       "      <th></th>\n",
       "      <th>puzzle</th>\n",
       "      <th>solution</th>\n",
       "    </tr>\n",
       "  </thead>\n",
       "  <tbody>\n",
       "    <tr>\n",
       "      <th>0</th>\n",
       "      <td>0700000430400096108006349000940520003584600200...</td>\n",
       "      <td>6795182435437296188216349577943521863584617292...</td>\n",
       "    </tr>\n",
       "    <tr>\n",
       "      <th>1</th>\n",
       "      <td>3010865040465210705000000014008000020803479000...</td>\n",
       "      <td>3719865248465213795924738614638197522853479167...</td>\n",
       "    </tr>\n",
       "    <tr>\n",
       "      <th>2</th>\n",
       "      <td>0483015603600080909106700030200009355090102006...</td>\n",
       "      <td>7483915623652487919126754834217869355894132766...</td>\n",
       "    </tr>\n",
       "    <tr>\n",
       "      <th>3</th>\n",
       "      <td>0083170000042051090000400703271609049014500000...</td>\n",
       "      <td>2983176457642851391539462783271689549814537266...</td>\n",
       "    </tr>\n",
       "    <tr>\n",
       "      <th>4</th>\n",
       "      <td>0408906300001368208007405190004670524500207002...</td>\n",
       "      <td>1428956379751368248367425193984671524513287962...</td>\n",
       "    </tr>\n",
       "  </tbody>\n",
       "</table>\n",
       "</div>"
      ],
      "text/plain": [
       "                                              puzzle  \\\n",
       "0  0700000430400096108006349000940520003584600200...   \n",
       "1  3010865040465210705000000014008000020803479000...   \n",
       "2  0483015603600080909106700030200009355090102006...   \n",
       "3  0083170000042051090000400703271609049014500000...   \n",
       "4  0408906300001368208007405190004670524500207002...   \n",
       "\n",
       "                                            solution  \n",
       "0  6795182435437296188216349577943521863584617292...  \n",
       "1  3719865248465213795924738614638197522853479167...  \n",
       "2  7483915623652487919126754834217869355894132766...  \n",
       "3  2983176457642851391539462783271689549814537266...  \n",
       "4  1428956379751368248367425193984671524513287962...  "
      ]
     },
     "execution_count": 1,
     "metadata": {},
     "output_type": "execute_result"
    }
   ],
   "source": [
    "import pandas as pd\n",
    "\n",
    "df = pd.read_csv('sudoku.csv')\n",
    "df.head()"
   ]
  },
  {
   "cell_type": "code",
   "execution_count": 2,
   "metadata": {},
   "outputs": [
    {
     "name": "stdout",
     "output_type": "stream",
     "text": [
      "(9000000, 2)\n"
     ]
    }
   ],
   "source": [
    "print(df.shape)"
   ]
  },
  {
   "cell_type": "code",
   "execution_count": 3,
   "metadata": {},
   "outputs": [
    {
     "name": "stdout",
     "output_type": "stream",
     "text": [
      "81 81\n"
     ]
    }
   ],
   "source": [
    "import random\n",
    "\n",
    "idx = int(len(df) * random.random())\n",
    "puzzle = df.iloc[idx]['puzzle']\n",
    "solved = df.iloc[idx]['solution']\n",
    "print(len(puzzle), len(solved))"
   ]
  },
  {
   "cell_type": "code",
   "execution_count": 4,
   "metadata": {},
   "outputs": [],
   "source": [
    "def print_puzzle(p):\n",
    "    for i in range(0, len(p), 9):\n",
    "        if i % 27 == 0:\n",
    "            print('|-------|-------|-------|')\n",
    "        chunk = p[i:i+9]\n",
    "        line = f'| {chunk[0]} {chunk[1]} {chunk[2]} |'\n",
    "        line += f' {chunk[3]} {chunk[4]} {chunk[5]} |'\n",
    "        line += f' {chunk[6]} {chunk[7]} {chunk[8]} |'\n",
    "        print(line)            \n",
    "    print('|-------|-------|-------|')"
   ]
  },
  {
   "cell_type": "code",
   "execution_count": 5,
   "metadata": {},
   "outputs": [
    {
     "name": "stdout",
     "output_type": "stream",
     "text": [
      "|-------|-------|-------|\n",
      "| 0 0 0 | 3 7 4 | 0 0 9 |\n",
      "| 0 4 0 | 0 0 0 | 0 5 0 |\n",
      "| 0 0 1 | 2 0 5 | 0 0 8 |\n",
      "|-------|-------|-------|\n",
      "| 0 3 0 | 1 0 0 | 0 6 0 |\n",
      "| 0 0 5 | 8 0 0 | 1 0 3 |\n",
      "| 0 0 6 | 0 3 0 | 0 8 4 |\n",
      "|-------|-------|-------|\n",
      "| 6 1 0 | 9 0 0 | 8 7 0 |\n",
      "| 0 9 0 | 0 0 0 | 3 0 1 |\n",
      "| 8 0 0 | 0 0 0 | 0 9 0 |\n",
      "|-------|-------|-------|\n"
     ]
    }
   ],
   "source": [
    "print_puzzle(puzzle)"
   ]
  },
  {
   "cell_type": "code",
   "execution_count": 6,
   "metadata": {},
   "outputs": [
    {
     "name": "stdout",
     "output_type": "stream",
     "text": [
      "|-------|-------|-------|\n",
      "| 5 8 2 | 3 7 4 | 6 1 9 |\n",
      "| 3 4 9 | 6 8 1 | 7 5 2 |\n",
      "| 7 6 1 | 2 9 5 | 4 3 8 |\n",
      "|-------|-------|-------|\n",
      "| 4 3 8 | 1 5 2 | 9 6 7 |\n",
      "| 9 7 5 | 8 4 6 | 1 2 3 |\n",
      "| 1 2 6 | 7 3 9 | 5 8 4 |\n",
      "|-------|-------|-------|\n",
      "| 6 1 4 | 9 2 3 | 8 7 5 |\n",
      "| 2 9 7 | 5 6 8 | 3 4 1 |\n",
      "| 8 5 3 | 4 1 7 | 2 9 6 |\n",
      "|-------|-------|-------|\n"
     ]
    }
   ],
   "source": [
    "print_puzzle(solved)"
   ]
  },
  {
   "cell_type": "code",
   "execution_count": 11,
   "metadata": {},
   "outputs": [
    {
     "name": "stdout",
     "output_type": "stream",
     "text": [
      "(90000, 2)\n"
     ]
    }
   ],
   "source": [
    "sample = df.sample(frac=0.01)\n",
    "print(sample.shape)"
   ]
  },
  {
   "cell_type": "code",
   "execution_count": 12,
   "metadata": {},
   "outputs": [
    {
     "data": {
      "text/html": [
       "<div>\n",
       "<style scoped>\n",
       "    .dataframe tbody tr th:only-of-type {\n",
       "        vertical-align: middle;\n",
       "    }\n",
       "\n",
       "    .dataframe tbody tr th {\n",
       "        vertical-align: top;\n",
       "    }\n",
       "\n",
       "    .dataframe thead th {\n",
       "        text-align: right;\n",
       "    }\n",
       "</style>\n",
       "<table border=\"1\" class=\"dataframe\">\n",
       "  <thead>\n",
       "    <tr style=\"text-align: right;\">\n",
       "      <th></th>\n",
       "      <th>puzzle</th>\n",
       "      <th>solution</th>\n",
       "      <th>num_zeros</th>\n",
       "    </tr>\n",
       "  </thead>\n",
       "  <tbody>\n",
       "    <tr>\n",
       "      <th>849224</th>\n",
       "      <td>0170049004600000010000300008401503600317804097...</td>\n",
       "      <td>3175649284628975319852316748491523672317864597...</td>\n",
       "      <td>46</td>\n",
       "    </tr>\n",
       "    <tr>\n",
       "      <th>6940537</th>\n",
       "      <td>0861003074050609219070000080094315705230004007...</td>\n",
       "      <td>2861953474358679219173426588694315725236784197...</td>\n",
       "      <td>36</td>\n",
       "    </tr>\n",
       "    <tr>\n",
       "      <th>3641057</th>\n",
       "      <td>0720935463196542874000201907519026002304067006...</td>\n",
       "      <td>8721935463196542874658271937519826342384167596...</td>\n",
       "      <td>27</td>\n",
       "    </tr>\n",
       "    <tr>\n",
       "      <th>7970279</th>\n",
       "      <td>0060000200076485315001900000050004033007500807...</td>\n",
       "      <td>1865739242976485315431928679152864733247516897...</td>\n",
       "      <td>44</td>\n",
       "    </tr>\n",
       "    <tr>\n",
       "      <th>2304397</th>\n",
       "      <td>4037080010976000481864059000413768050000890600...</td>\n",
       "      <td>4237986515976213481864359722413768957352891649...</td>\n",
       "      <td>39</td>\n",
       "    </tr>\n",
       "  </tbody>\n",
       "</table>\n",
       "</div>"
      ],
      "text/plain": [
       "                                                    puzzle  \\\n",
       "849224   0170049004600000010000300008401503600317804097...   \n",
       "6940537  0861003074050609219070000080094315705230004007...   \n",
       "3641057  0720935463196542874000201907519026002304067006...   \n",
       "7970279  0060000200076485315001900000050004033007500807...   \n",
       "2304397  4037080010976000481864059000413768050000890600...   \n",
       "\n",
       "                                                  solution  num_zeros  \n",
       "849224   3175649284628975319852316748491523672317864597...         46  \n",
       "6940537  2861953474358679219173426588694315725236784197...         36  \n",
       "3641057  8721935463196542874658271937519826342384167596...         27  \n",
       "7970279  1865739242976485315431928679152864733247516897...         44  \n",
       "2304397  4237986515976213481864359722413768957352891649...         39  "
      ]
     },
     "execution_count": 12,
     "metadata": {},
     "output_type": "execute_result"
    }
   ],
   "source": [
    "num_zeros = []\n",
    "for _, row in sample.iterrows():\n",
    "    p = row['puzzle']\n",
    "    count = 0\n",
    "    for i in p:\n",
    "        if i == '0':\n",
    "            count += 1\n",
    "    num_zeros.append(count)\n",
    "sample['num_zeros'] = num_zeros\n",
    "sample.head()"
   ]
  },
  {
   "cell_type": "code",
   "execution_count": 13,
   "metadata": {},
   "outputs": [
    {
     "data": {
      "text/html": [
       "<div>\n",
       "<style scoped>\n",
       "    .dataframe tbody tr th:only-of-type {\n",
       "        vertical-align: middle;\n",
       "    }\n",
       "\n",
       "    .dataframe tbody tr th {\n",
       "        vertical-align: top;\n",
       "    }\n",
       "\n",
       "    .dataframe thead th {\n",
       "        text-align: right;\n",
       "    }\n",
       "</style>\n",
       "<table border=\"1\" class=\"dataframe\">\n",
       "  <thead>\n",
       "    <tr style=\"text-align: right;\">\n",
       "      <th></th>\n",
       "      <th>num_zeros</th>\n",
       "    </tr>\n",
       "  </thead>\n",
       "  <tbody>\n",
       "    <tr>\n",
       "      <th>count</th>\n",
       "      <td>90000.000000</td>\n",
       "    </tr>\n",
       "    <tr>\n",
       "      <th>mean</th>\n",
       "      <td>42.085567</td>\n",
       "    </tr>\n",
       "    <tr>\n",
       "      <th>std</th>\n",
       "      <td>6.111673</td>\n",
       "    </tr>\n",
       "    <tr>\n",
       "      <th>min</th>\n",
       "      <td>6.000000</td>\n",
       "    </tr>\n",
       "    <tr>\n",
       "      <th>25%</th>\n",
       "      <td>39.000000</td>\n",
       "    </tr>\n",
       "    <tr>\n",
       "      <th>50%</th>\n",
       "      <td>43.000000</td>\n",
       "    </tr>\n",
       "    <tr>\n",
       "      <th>75%</th>\n",
       "      <td>47.000000</td>\n",
       "    </tr>\n",
       "    <tr>\n",
       "      <th>max</th>\n",
       "      <td>57.000000</td>\n",
       "    </tr>\n",
       "  </tbody>\n",
       "</table>\n",
       "</div>"
      ],
      "text/plain": [
       "          num_zeros\n",
       "count  90000.000000\n",
       "mean      42.085567\n",
       "std        6.111673\n",
       "min        6.000000\n",
       "25%       39.000000\n",
       "50%       43.000000\n",
       "75%       47.000000\n",
       "max       57.000000"
      ]
     },
     "execution_count": 13,
     "metadata": {},
     "output_type": "execute_result"
    }
   ],
   "source": [
    "sample.describe()"
   ]
  },
  {
   "cell_type": "code",
   "execution_count": 10,
   "metadata": {},
   "outputs": [],
   "source": [
    "sample.to_csv('sample.csv', index=False)"
   ]
  },
  {
   "cell_type": "code",
   "execution_count": null,
   "metadata": {},
   "outputs": [],
   "source": []
  }
 ],
 "metadata": {
  "kernelspec": {
   "display_name": "Python 3",
   "language": "python",
   "name": "python3"
  },
  "language_info": {
   "codemirror_mode": {
    "name": "ipython",
    "version": 3
   },
   "file_extension": ".py",
   "mimetype": "text/x-python",
   "name": "python",
   "nbconvert_exporter": "python",
   "pygments_lexer": "ipython3",
   "version": "3.7.3"
  }
 },
 "nbformat": 4,
 "nbformat_minor": 2
}
